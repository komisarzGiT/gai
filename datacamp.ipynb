{
  "nbformat": 4,
  "nbformat_minor": 0,
  "metadata": {
    "colab": {
      "provenance": [],
      "authorship_tag": "ABX9TyPjY5yP5jCcuRtWlIjvugFR",
      "include_colab_link": true
    },
    "kernelspec": {
      "name": "python3",
      "display_name": "Python 3"
    },
    "language_info": {
      "name": "python"
    }
  },
  "cells": [
    {
      "cell_type": "markdown",
      "metadata": {
        "id": "view-in-github",
        "colab_type": "text"
      },
      "source": [
        "<a href=\"https://colab.research.google.com/github/komisarzGiT/gai/blob/main/datacamp.ipynb\" target=\"_parent\"><img src=\"https://colab.research.google.com/assets/colab-badge.svg\" alt=\"Open In Colab\"/></a>"
      ]
    },
    {
      "cell_type": "markdown",
      "source": [
        "Datacamp introduction to python\n",
        "Chapter 4 Numpy\n"
      ],
      "metadata": {
        "id": "1GnPGMtNMJAQ"
      }
    },
    {
      "cell_type": "code",
      "execution_count": 18,
      "metadata": {
        "colab": {
          "base_uri": "https://localhost:8080/"
        },
        "id": "LpLSwFMWLuX-",
        "outputId": "bc159962-aad2-4fa8-a6e6-2d147d4d5fa8"
      },
      "outputs": [
        {
          "output_type": "stream",
          "name": "stdout",
          "text": [
            "[2 3 4 5 6]\n",
            "[False False  True  True  True]\n",
            "[4 5 6]\n"
          ]
        }
      ],
      "source": [
        "\n",
        "\n",
        "import numpy as np\n",
        "#bmi = np.array([1,2,3,4,5])\n",
        "print(bmi)\n",
        "print(bmi>3)\n",
        "bmi_subset = (bmi[bmi>3])\n",
        "print(bmi_subset)\n",
        "bmi = bmi+1\n"
      ]
    }
  ]
}