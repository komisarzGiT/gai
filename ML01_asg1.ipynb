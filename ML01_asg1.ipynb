{
  "nbformat": 4,
  "nbformat_minor": 0,
  "metadata": {
    "colab": {
      "provenance": [],
      "authorship_tag": "ABX9TyNpJt1+ViW72W22PyGg319M",
      "include_colab_link": true
    },
    "kernelspec": {
      "name": "python3",
      "display_name": "Python 3"
    },
    "language_info": {
      "name": "python"
    }
  },
  "cells": [
    {
      "cell_type": "markdown",
      "metadata": {
        "id": "view-in-github",
        "colab_type": "text"
      },
      "source": [
        "<a href=\"https://colab.research.google.com/github/komisarzGiT/gai/blob/main/ML01_asg1.ipynb\" target=\"_parent\"><img src=\"https://colab.research.google.com/assets/colab-badge.svg\" alt=\"Open In Colab\"/></a>"
      ]
    },
    {
      "cell_type": "code",
      "execution_count": 1,
      "metadata": {
        "colab": {
          "base_uri": "https://localhost:8080/"
        },
        "id": "CcurpCoWPRxU",
        "outputId": "56373c06-a7e3-47ff-e95d-775d17d807ff"
      },
      "outputs": [
        {
          "output_type": "stream",
          "name": "stdout",
          "text": [
            "Mounted at /content/drive\n"
          ]
        }
      ],
      "source": [
        "# standard imports\n",
        "import numpy as np\n",
        "import matplotlib.pyplot as plt\n",
        "import pandas as pd\n",
        "\n",
        "from google.colab import drive\n",
        "drive.mount('/content/drive')\n",
        "\n",
        "# G:\\My Drive\\GAI\\GU_Python\\course\\data\n",
        "# !ls /content/drive/MyDrive/GAI/GU_Python/course/data/\n",
        "\n",
        "filename = \"/content/drive/MyDrive/GAI/GU_ML01/Assignment1/EEG_Train_Binary.csv\""
      ]
    },
    {
      "cell_type": "code",
      "source": [],
      "metadata": {
        "id": "6F1uPYB0QwZ5"
      },
      "execution_count": null,
      "outputs": []
    }
  ]
}