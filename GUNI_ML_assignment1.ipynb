{
  "nbformat": 4,
  "nbformat_minor": 0,
  "metadata": {
    "colab": {
      "provenance": [],
      "authorship_tag": "ABX9TyPWYfaX4YzjTu81KotOiD0O",
      "include_colab_link": true
    },
    "kernelspec": {
      "name": "python3",
      "display_name": "Python 3"
    },
    "language_info": {
      "name": "python"
    }
  },
  "cells": [
    {
      "cell_type": "markdown",
      "metadata": {
        "id": "view-in-github",
        "colab_type": "text"
      },
      "source": [
        "<a href=\"https://colab.research.google.com/github/komisarzGiT/gai/blob/main/GUNI_ML_assignment1.ipynb\" target=\"_parent\"><img src=\"https://colab.research.google.com/assets/colab-badge.svg\" alt=\"Open In Colab\"/></a>"
      ]
    },
    {
      "cell_type": "code",
      "execution_count": null,
      "metadata": {
        "id": "wj3WAnyjR3DG"
      },
      "outputs": [],
      "source": []
    },
    {
      "cell_type": "markdown",
      "source": [
        "Name: Marcin Byra  \n",
        "Class: 2526-1MAO2  \n",
        "Student ID: 25258161\n",
        "\n",
        "The objective is to present end to end process of machine learning model training and evaluation based on provided train and test data sets.  \n",
        "\n",
        "ML aghoritms must include Decision Tree classifiers:\n",
        "Gini  \n",
        "\n",
        "*   Gini\n",
        "*   Information Gain\n",
        "*   Gain ratuio\n",
        "\n",
        "as well as either KNN or Random Fortst. KNN was chosen for this report to demonstarte different approach, since random forest is based on decision tree method."
      ],
      "metadata": {
        "id": "l1NfWOzbR4Qq"
      }
    },
    {
      "cell_type": "markdown",
      "source": [
        "**Problem setup, data loading, and cleaning**  \n",
        "\n",
        "THere are two files provided:\n",
        "\n",
        "Identify features vs. target, note any missing values or obvious anomalies, and briefly justify any minimal preprocessing (cleaning/filling missing values, etc.,) you apply."
      ],
      "metadata": {
        "id": "V57suITPXolQ"
      }
    },
    {
      "cell_type": "code",
      "source": [
        "#two files are provided containing respecively train and test data sets\n",
        "train_data = 'https://raw.githubusercontent.com/komisarzGiT/gai/refs/heads/main/GU_ML01/Assignment1/EEG_Train_Binary.csv'\n",
        "test_data = 'https://raw.githubusercontent.com/komisarzGiT/gai/refs/heads/main/GU_ML01/Assignment1/EEG_Test_Binary.csv'\n"
      ],
      "metadata": {
        "id": "bLabgYtBUkiB"
      },
      "execution_count": null,
      "outputs": []
    }
  ]
}