{
  "cells": [
    {
      "cell_type": "markdown",
      "metadata": {
        "id": "view-in-github",
        "colab_type": "text"
      },
      "source": [
        "<a href=\"https://colab.research.google.com/github/komisarzGiT/gai/blob/main/Assignment_1_Dungeons_and_Dragons.ipynb\" target=\"_parent\"><img src=\"https://colab.research.google.com/assets/colab-badge.svg\" alt=\"Open In Colab\"/></a>"
      ]
    },
    {
      "cell_type": "markdown",
      "metadata": {
        "id": "9On0XMw2_iWB"
      },
      "source": [
        "# Assignment 1: Dungeons & Dragons"
      ]
    },
    {
      "cell_type": "markdown",
      "metadata": {
        "id": "8dqUhtL4_iWE"
      },
      "source": [
        "**Weight**: This assignment is worth 20% of the module.\n",
        "\n",
        "**Submission**: Download the `.ipynb` file from Canvas. Upload it to your Google Colab account. Disable AI access and share the file to us (addresses below). Paste the Google Colab link under **Required Acknowledgements** below. Then carry out your work in Google Colab. When finished, download the `.ipynb` file from Google Colab -> File -> Download, and submit that to Canvas.\n",
        "\n",
        "**Due date**: as announced on Canvas.\n",
        "\n",
        "**Groups**: you may work alone, or in a group of 2 of your choice. If in a group of 2, you must inform the lecturer of the group by email, cc-ing both members and including both members' names and ID numbers. You must send that email at least 1 week before the due date. And you must work together on all parts: you cannot divide the parts up between the group members. If in a group of 2, both students should make a submission and both should be identical.\n",
        "\n",
        "**Academic integrity**: you must submit only your own work. You may discuss the assignment with other students/groups, but may not show your work to others or allow others to see yours. You may use snippets of code sourced from the internet to solve specific sub-parts, but not entire solutions. You must include a citation and URL in such cases. You must include a specific URL referring to each specific piece of code that you have used, directly above the code. A list of URLs at the bottom of the notebook is not acceptable.\n",
        "\n",
        "**For this assignment, you may not use AI code generators or other forms of AI**.\n",
        "\n",
        "You must carry out your work using Google Colab, and share it with us as part of your submission. We will look at your Google Colab revision history. To enable this, **when sharing, you have to allow edit access**. You should share your file to us immediately when you upload the notebook in Google Colab.\n",
        "\n",
        "In Google Colab, you must disable AI Assistance before starting: first go to Tools -> Settings, then un-check all AI assistance.\n",
        "\n",
        "**Academic integrity: School policy and guidelines**: https://www.universityofgalway.ie/science-engineering/school-of-computer-science/currentstudents/academicintegrity/\n",
        "\n",
        "**Grading**: Partial credit will be awarded for incomplete solutions. Marks may be subtracted for over-complex, unreadable, or inconsistently-formatted code. Comments should be used where needed, but straightforward code does not need a comment. Your job is to add code in the notebook where indicated with YOUR CODE HERE. The doctests must not be removed or changed (it's ok to add doctests, if you wish). I have indicated how long my code is in some places. You don't have to write code the same length. It's just intended as a rough guideline: if my code is 3 lines and yours is 30 lines, you might be going about it wrong way.\n",
        "\n",
        "**Interviews**: after submission, some students/groups will be interviewed to check on their understanding of their own work. An inability to explain your work may result in a grade penalty, a zero grade, or an academic integrity report."
      ]
    },
    {
      "cell_type": "markdown",
      "metadata": {
        "id": "ZvvAvPEL_iWF"
      },
      "source": [
        "**Required Acknowledgements and Details**. Please fill in appropriate values in the list below. If you don't fill in your student ID(s), name(s) and the appropriate answers to the questions, and a working Google Colab link, we will not grade your submission.\n",
        "\n",
        "* Student number(s): 25258161\n",
        "* Student name(s): Marcin Byra\n",
        "* I have read and understood the rules of the assignment: True\n",
        "* I have disabled AI assistance in Google Colab: True\n",
        "* I have shared or will share my code with other students: False\n",
        "* My Google Colab revision history is available for inspection: True\n",
        "* I have shared my work from within the Google Colab interface on the following date: 20/09/2025\n",
        "* I have enabled editing in Google Colab by all of:\n",
        "  * james.mcdermott@universityofgalway.ie True\n",
        "  * jamesmichaelmcdermott@gmail.com True\n",
        "  * m.asad2@universityofgalway.ie True\n",
        "  * muhammadasad429@gmail.com True\n",
        "* My Google Colab link is: https://colab.research.google.com/drive/1TLl8zwWuoBjzSCBWdfU6xltLAn5I_o3B?usp=sharing"
      ]
    },
    {
      "cell_type": "code",
      "execution_count": null,
      "metadata": {
        "id": "g6q5YO07_iWG"
      },
      "outputs": [],
      "source": [
        "import doctest, math, itertools\n",
        "import numpy as np"
      ]
    },
    {
      "cell_type": "markdown",
      "metadata": {
        "id": "B9Q0yZKl_iWH"
      },
      "source": [
        "## Part 1: Party of Adventurers (5 marks)\n",
        "\n",
        "You are in a tavern in Port Blacksand, looking for people to accompany you on an adventure. There are lots of customers. Each one has various properties, eg:\n",
        "\n",
        "```python\n",
        "customers = {\n",
        "    'Errik':  {'gender': 'male',   'stamina': 11, 'weapon': 'club',       'skill': 'fighting'},\n",
        "    'Hider':  {'gender': 'male',   'stamina': 7,  'weapon': 'rope',       'skill': 'sneaking'},\n",
        "    # etc\n",
        "}    \n",
        "```\n"
      ]
    },
    {
      "cell_type": "markdown",
      "metadata": {
        "id": "X3kZS3Bn_iWI"
      },
      "source": [
        "\n",
        "\n",
        "Your goal is to choose a party of adventurers with the following properties:\n",
        "\n",
        "* `five_members`: Exactly 5 members not including yourself\n",
        "* `gender_diverse`: at least one male, at least one female, at least one other gender\n",
        "* `sword`: At least one sword (if a weapon is described as a 'greatsword', ie it *contains the word `sword`*, then it IS a sword, for this)\n",
        "* `crossbow`: At least one `crossbow` (has to be named exactly `crossbow`, nothing else)\n",
        "* `healing`: At least one person with the `healing` skill\n",
        "* `alliteration`: Because you enjoy making up alliterative nicknames like \"Torvald the Truthful\", there must not be two adventurers whose names start with the same letter.\n",
        "\n",
        "\n",
        "Write each of these properties as a **predicate**, ie a function that returns True or False given a `dict` of adventurers. Collect them into a list, `predicates`. There is a test function below to help make sure your code is correct."
      ]
    },
    {
      "cell_type": "code",
      "execution_count": null,
      "metadata": {
        "id": "5twJue3G_iWI"
      },
      "outputs": [],
      "source": [
        "# YOUR CODE HERE. MY CODE IS APPROX 15-20 LINES.\n",
        "party = {\n",
        "    'Errik':  {'gender': 'male',   'stamina': 11, 'weapon': 'swordfish',       'skill': 'fighting'},\n",
        "    'Kider':  {'gender': 'female',   'stamina': 7,  'weapon': 'broadswordman',       'skill': 'sneaking'},\n",
        "}\n",
        "def five_members(party): return len(party)==5\n",
        "#print(five_members(party))\n",
        "\n",
        "def gender_diverse(party):\n",
        "  genders = set([party[name]['gender']  for name in party]) #generate set of genders for all customers\n",
        "  return ('male' in genders and 'female' in genders and 'other' in genders)\n",
        "#gender_diverse(party)\n",
        "\n",
        "def sword(party):\n",
        "  #print([party[name]['weapon'] for name in party if \"sword\" in str(party[name]['weapon'])])\n",
        "  return ('sword' in str([party[name]['weapon'] for name in party]))\n",
        "\n",
        "#sword(party)\n",
        "\n",
        "def crossbow(party):\n",
        "  return ( 'crossbow' in [party[name]['weapon']  for name in party] )\n",
        "#crossbow(party)\n",
        "\n",
        "def healing(party):\n",
        "  return ('healing' in [party[name][\"skill\"] for name in party])\n",
        "#healing(party)\n",
        "\n",
        "def alliteration(party):\n",
        "   return (len(set([name[0] for name in party])) == len(party))\n",
        "#alliteration(party)\n",
        "\n",
        "#predicates = [] # after defining the functions, put them in this list\n",
        "predicates = [five_members, gender_diverse, sword,\n",
        "              crossbow, healing,alliteration ]"
      ]
    },
    {
      "cell_type": "code",
      "execution_count": null,
      "metadata": {
        "id": "rCOrQfQw_iWI"
      },
      "outputs": [],
      "source": [
        "def test_preds(party, preds):\n",
        "    \"\"\"\n",
        "    This function tests your predicates. It is complete: you don't need to write anything\n",
        ">>> test_party_1 = {\n",
        "... 'Errik':  {'gender': 'male',   'stamina': 11, 'weapon': 'sword',      'skill': 'fighting'},\n",
        "... 'Hider':  {'gender': 'male',   'stamina': 7,  'weapon': 'rope',       'skill': 'sneaking'},\n",
        "... 'Kro':    {'gender': 'male',   'stamina': 14, 'weapon': 'fists',      'skill': 'martial arts'},\n",
        "... 'Cleo':   {'gender': 'female', 'stamina': 4,  'weapon': 'staff',      'skill': 'healing'},\n",
        "... 'Hirso':  {'gender': 'male',   'stamina': 9,  'weapon': 'keys',       'skill': 'lockpicking'},\n",
        "... }\n",
        ">>> test_party_2 = {\n",
        "... 'Hider':  {'gender': 'male',   'stamina': 7,  'weapon': 'rope',       'skill': 'sneaking'},\n",
        "... 'Bob':    {'gender': 'other',  'stamina': 11, 'weapon': 'fists',      'skill': 'martial arts'},\n",
        "... 'Frida':  {'gender': 'female', 'stamina': 4,  'weapon': 'crossbow',   'skill': 'singing'},\n",
        "... }\n",
        ">>> test_preds(test_party_1, predicates)\n",
        "five_members True\n",
        "gender_diverse False\n",
        "sword True\n",
        "crossbow False\n",
        "healing True\n",
        "alliteration False\n",
        ">>> test_preds(test_party_2, predicates)\n",
        "five_members False\n",
        "gender_diverse True\n",
        "sword False\n",
        "crossbow True\n",
        "healing False\n",
        "alliteration True\n",
        "    \"\"\"\n",
        "    for pred in preds:\n",
        "        print(pred.__name__, pred(party))"
      ]
    },
    {
      "cell_type": "code",
      "execution_count": null,
      "metadata": {
        "id": "H3QNDE1d_iWI",
        "colab": {
          "base_uri": "https://localhost:8080/"
        },
        "outputId": "27447247-6bd0-4767-a59d-99534c5337a3"
      },
      "outputs": [
        {
          "output_type": "stream",
          "name": "stdout",
          "text": [
            "Finding tests in NoName\n",
            "Trying:\n",
            "    test_party_1 = {\n",
            "    'Errik':  {'gender': 'male',   'stamina': 11, 'weapon': 'sword',      'skill': 'fighting'},\n",
            "    'Hider':  {'gender': 'male',   'stamina': 7,  'weapon': 'rope',       'skill': 'sneaking'},\n",
            "    'Kro':    {'gender': 'male',   'stamina': 14, 'weapon': 'fists',      'skill': 'martial arts'},\n",
            "    'Cleo':   {'gender': 'female', 'stamina': 4,  'weapon': 'staff',      'skill': 'healing'},\n",
            "    'Hirso':  {'gender': 'male',   'stamina': 9,  'weapon': 'keys',       'skill': 'lockpicking'},\n",
            "    }\n",
            "Expecting nothing\n",
            "ok\n",
            "Trying:\n",
            "    test_party_2 = {\n",
            "    'Hider':  {'gender': 'male',   'stamina': 7,  'weapon': 'rope',       'skill': 'sneaking'},\n",
            "    'Bob':    {'gender': 'other',  'stamina': 11, 'weapon': 'fists',      'skill': 'martial arts'},\n",
            "    'Frida':  {'gender': 'female', 'stamina': 4,  'weapon': 'crossbow',   'skill': 'singing'},\n",
            "    }\n",
            "Expecting nothing\n",
            "ok\n",
            "Trying:\n",
            "    test_preds(test_party_1, predicates)\n",
            "Expecting:\n",
            "    five_members True\n",
            "    gender_diverse False\n",
            "    sword True\n",
            "    crossbow False\n",
            "    healing True\n",
            "    alliteration False\n",
            "ok\n",
            "Trying:\n",
            "    test_preds(test_party_2, predicates)\n",
            "Expecting:\n",
            "    five_members False\n",
            "    gender_diverse True\n",
            "    sword False\n",
            "    crossbow True\n",
            "    healing False\n",
            "    alliteration True\n",
            "ok\n"
          ]
        }
      ],
      "source": [
        "doctest.run_docstring_examples(test_preds, globals(), verbose=True)"
      ]
    },
    {
      "cell_type": "markdown",
      "metadata": {
        "id": "Ejfq3Nnd_iWJ"
      },
      "source": [
        "Below is the complete data on the customers."
      ]
    },
    {
      "cell_type": "code",
      "execution_count": null,
      "metadata": {
        "id": "-pmC-eW4_iWJ"
      },
      "outputs": [],
      "source": [
        "customers = {\n",
        "    'Errik':  {'gender': 'male',   'stamina': 11, 'weapon': 'club',       'skill': 'fighting'},\n",
        "    'Hider':  {'gender': 'male',   'stamina': 7,  'weapon': 'rope',       'skill': 'sneaking'},\n",
        "    'Kro':    {'gender': 'other',  'stamina': 14, 'weapon': 'fists',      'skill': 'martial arts'},\n",
        "    'Cleo':   {'gender': 'female', 'stamina': 4,  'weapon': 'staff',      'skill': 'healing'},\n",
        "    'Hirso':  {'gender': 'other',  'stamina': 9,  'weapon': 'keys',       'skill': 'lockpicking'},\n",
        "    'Marsha': {'gender': 'female', 'stamina': 8,  'weapon': 'bow',        'skill': 'healing'},\n",
        "    'Muriel': {'gender': 'female', 'stamina': 5,  'weapon': 'sword',      'skill': 'illusions'},\n",
        "    'Nina':   {'gender': 'female', 'stamina': 9,  'weapon': 'crossbow',   'skill': 'sniping'},\n",
        "    'Hector': {'gender': 'male',   'stamina': 12, 'weapon': 'shield',     'skill': 'defense'},\n",
        "    'Tasha':  {'gender': 'female', 'stamina': 6,  'weapon': 'flute',      'skill': 'healing'},\n",
        "    'Vance':  {'gender': 'male',   'stamina': 15, 'weapon': 'hook',       'skill': 'swashbuckling'},\n",
        "    'Cassie': {'gender': 'female', 'stamina': 11, 'weapon': 'whip',       'skill': 'beast taming'},\n",
        "    'Loki':   {'gender': 'male',   'stamina': 4,  'weapon': 'dagger',     'skill': 'illusion'},\n",
        "    'Mulan':  {'gender': 'female', 'stamina': 12, 'weapon': 'javelin',    'skill': 'strategy'},\n",
        "    'Arya':   {'gender': 'female', 'stamina': 7,  'weapon': 'sword',      'skill': 'assassination'},\n",
        "    'Raj':    {'gender': 'male',   'stamina': 6,  'weapon': 'sling',      'skill': 'healing'},\n",
        "    'Duncan': {'gender': 'male',   'stamina': 7,  'weapon': 'axe',        'skill': 'woodcutting'},\n",
        "    'Eve':    {'gender': 'female', 'stamina': 11, 'weapon': 'broomstick', 'skill': 'witchery'},\n",
        "    'Evern':  {'gender': 'female', 'stamina': 9,  'weapon': 'sword',      'skill': 'throwing'},\n",
        "    'Omar':   {'gender': 'male',   'stamina': 9,  'weapon': 'wire',       'skill': 'healing'},\n",
        "    'Hamish': {'gender': 'male',   'stamina': 5,  'weapon': 'boomerang',  'skill': 'retrieval'},\n",
        "    'Helena': {'gender': 'female', 'stamina': 6,  'weapon': 'sword',      'skill': 'climbing'},\n",
        "    'Tyrion': {'gender': 'male',   'stamina': 5,  'weapon': 'crossbow',   'skill': 'diplomacy'},\n",
        "    'Gwen':   {'gender': 'female', 'stamina': 10, 'weapon': 'spear',      'skill': 'tracking'},\n",
        "    'Rolf':   {'gender': 'male',   'stamina': 13, 'weapon': 'axe',        'skill': 'berserking'},\n",
        "    'Ingrid': {'gender': 'female', 'stamina': 8,  'weapon': 'dagger',     'skill': 'poisoning'},\n",
        "    'Silas':  {'gender': 'other',  'stamina': 9,  'weapon': 'dual sword', 'skill': 'smithing'},\n",
        "    'Olga':   {'gender': 'female', 'stamina': 12, 'weapon': 'scythe',     'skill': 'harvesting'},\n",
        "    'Joren':  {'gender': 'male',   'stamina': 6,  'weapon': 'staff',      'skill': 'enchanting'},\n",
        "    'Leona':  {'gender': 'female', 'stamina': 7,  'weapon': 'whip',       'skill': 'stealth'},\n",
        "    'Magnus': {'gender': 'male',   'stamina': 12, 'weapon': 'greatsword', 'skill': 'warcry'},\n",
        "    'Bran':   {'gender': 'male',   'stamina': 11, 'weapon': 'bow',        'skill': 'hunting'},\n",
        "    'Selene': {'gender': 'female', 'stamina': 5,  'weapon': 'wand',       'skill': 'sorcery'},\n",
        "    'Drake':  {'gender': 'male',   'stamina': 11, 'weapon': 'mirror',     'skill': 'poetry'},\n",
        "    'Talia':  {'gender': 'female', 'stamina': 9,  'weapon': 'staff',      'skill': 'alchemy'},\n",
        "    'Orin':   {'gender': 'male',   'stamina': 8,  'weapon': 'spear',      'skill': 'fishing'},\n",
        "    'Freya':  {'gender': 'female', 'stamina': 10, 'weapon': 'rapier',     'skill': 'fencing'},\n",
        "    'Nash':   {'gender': 'other',  'stamina': 6,  'weapon': 'knife',      'skill': 'thievery'},\n",
        "    'Sigrid': {'gender': 'female', 'stamina': 12, 'weapon': 'staff',      'skill': 'command'},\n",
        "    'Roland': {'gender': 'male',   'stamina': 9,  'weapon': 'crossbow',   'skill': 'engineering'},\n",
        "    'Elara':  {'gender': 'female', 'stamina': 4,  'weapon': 'dagger',     'skill': 'lockpicking'},\n",
        "    'Torin':  {'gender': 'male',   'stamina': 11, 'weapon': 'flail',      'skill': 'healing'},\n",
        "    'Maia':   {'gender': 'other',  'stamina': 8,  'weapon': 'bow',        'skill': 'scouting'},\n",
        "}\n"
      ]
    },
    {
      "cell_type": "markdown",
      "metadata": {
        "id": "nF9Eqyl-_iWJ"
      },
      "source": [
        "Using a list comprehension, create a list containing all customers whose name begins with 'T'."
      ]
    },
    {
      "cell_type": "code",
      "execution_count": null,
      "metadata": {
        "id": "32TpC9XV_iWJ",
        "colab": {
          "base_uri": "https://localhost:8080/"
        },
        "outputId": "a3b8a255-9e78-42ad-83d4-9d3c80050dee"
      },
      "outputs": [
        {
          "output_type": "execute_result",
          "data": {
            "text/plain": [
              "['Tasha', 'Tyrion', 'Talia', 'Torin']"
            ]
          },
          "metadata": {},
          "execution_count": 4
        }
      ],
      "source": [
        "# YOUR CODE HERE. MY CODE IS 1 LINE.\n",
        "[name for name in customers if name[0] == 'T' ]"
      ]
    },
    {
      "cell_type": "markdown",
      "metadata": {
        "id": "DYGMZPh9_iWK"
      },
      "source": [
        "How many **valid** parties (parties which satisfy all predicates) are there? First, write a generator to yield all the valid parties:"
      ]
    },
    {
      "cell_type": "code",
      "execution_count": 33,
      "metadata": {
        "id": "A1_NWmDJ_iWK",
        "colab": {
          "base_uri": "https://localhost:8080/"
        },
        "outputId": "8e47952d-6e7d-4edf-d948-542dca245886"
      },
      "outputs": [
        {
          "output_type": "stream",
          "name": "stdout",
          "text": [
            "10111\n"
          ]
        }
      ],
      "source": [
        "#from os import name\n",
        "cust2 = {\n",
        "    'Errik':  {'gender': 'male',   'stamina': 11, 'weapon': 'club',       'skill': 'fighting'},\n",
        "    'Hider':  {'gender': 'male',   'stamina': 7,  'weapon': 'rope',       'skill': 'sneaking'},\n",
        "    'Kro':    {'gender': 'other',  'stamina': 14, 'weapon': 'fists',      'skill': 'martial arts'},\n",
        "    'Cleo':   {'gender': 'female', 'stamina': 4,  'weapon': 'staff',      'skill': 'healing'},\n",
        "    'Hirso':  {'gender': 'other',  'stamina': 9,  'weapon': 'keys',       'skill': 'lockpicking'},\n",
        "    'Marsha': {'gender': 'female', 'stamina': 8,  'weapon': 'bow',        'skill': 'healing'},\n",
        "      }\n",
        "def valid_parties(cust2, size, predicates):\n",
        "    # YOUR CODE HERE. MY CODE IS APPROX 7 LINES.\n",
        " a = 0\n",
        " for i in itertools.combinations(cust2, size):\n",
        "  candidates = {name: cust2[name] for name in i }\n",
        "  if all(pred(candidates) for pred in predicates):\n",
        "    a +=1\n",
        " print(a)\n",
        "\n",
        "\n",
        "\n",
        "\n",
        "valid_parties(customers, 5, predicates)\n",
        "#for customer in customers:\n",
        "  #if all(True for pred in predicates if pred(customer)):\n",
        " #   print(customer, customers[customer])\n",
        "\n",
        "\n",
        "\n",
        "#print( [customers[name] for name in customers])"
      ]
    },
    {
      "cell_type": "markdown",
      "metadata": {
        "id": "MQPA_OEX_iWK"
      },
      "source": [
        "Now use code which uses your generator to print your answer (how many valid parties) as an integer below."
      ]
    },
    {
      "cell_type": "code",
      "execution_count": null,
      "metadata": {
        "id": "OfDyju5V_iWK"
      },
      "outputs": [],
      "source": [
        "# YOUR CODE HERE. MY CODE IS 2 LINES."
      ]
    },
    {
      "cell_type": "markdown",
      "metadata": {
        "id": "tFh_iJGh_iWK"
      },
      "source": [
        "Now, use code to find the party with **highest total stamina**, out of all the **valid** parties. Print out that party, including their names and their data."
      ]
    },
    {
      "cell_type": "code",
      "execution_count": null,
      "metadata": {
        "id": "mwa2otwl_iWK",
        "colab": {
          "base_uri": "https://localhost:8080/"
        },
        "outputId": "92ef09aa-6249-4f19-9c7a-2630117e1a4e"
      },
      "outputs": [
        {
          "output_type": "stream",
          "name": "stdout",
          "text": [
            "[11, 7, 14, 4, 9, 8, 5, 9, 12, 6, 15, 11, 4, 12, 7, 6, 7, 11, 9, 9, 5, 6, 5, 10, 13, 8, 9, 12, 6, 7, 12, 11, 5, 11, 9, 8, 10, 6, 12, 9, 4, 11, 8]\n"
          ]
        }
      ],
      "source": [
        "# YOUR CODE HERE. MY CODE IS APPROX 9 LINES.\n",
        "stamina  = [customers[name]['stamina'] for name in customers]\n",
        "print(stamina)"
      ]
    },
    {
      "cell_type": "markdown",
      "metadata": {
        "id": "Qel2jmQd_iWL"
      },
      "source": [
        "## Part 2: Battle! (5 marks)\n",
        "\n",
        "You meet a party of Orcs:\n",
        "\n"
      ]
    },
    {
      "cell_type": "code",
      "execution_count": null,
      "metadata": {
        "id": "fl5hk92-_iWL"
      },
      "outputs": [],
      "source": [
        "orc_party = {\n",
        "    'Grog':  {'gender': 'male',   'stamina': 5,  'weapon': 'club',   'skill': 'fighting'},\n",
        "    'Bog':   {'gender': 'female', 'stamina': 7,  'weapon': 'keys',   'skill': 'skullduggery'},\n",
        "    'Smug':  {'gender': 'female', 'stamina': 4,  'weapon': 'staff',  'skill': 'bashing'},\n",
        "    'Garg':  {'gender': 'male',   'stamina': 12, 'weapon': 'club',   'skill': 'crushing'},\n",
        "}"
      ]
    },
    {
      "cell_type": "markdown",
      "metadata": {
        "id": "ZCfCbpMq_iWL"
      },
      "source": [
        "You hate Orcs. Your party will have to fight them.\n",
        "\n",
        "The rules for a battle are as follows:\n",
        "\n",
        "* There are two parties, p1 and p2. Each is composed of multiple warriors. Each warrior has a `stamina` value. Other attributes like 'skill' and 'gender' and 'weapon' don't matter.\n",
        "* A **battle** is composed of a series of **fights**. In each fight, a pair of warriors, one from each party, fight each other.\n",
        "* First, the warrior with highest stamina in p1 fights the warrior with highest stamina in p2. Next, the second highest in p1 versus the second highest in p2, etc.\n",
        "* The winner of a fight is whichever warrior has higher stamina. If they have equal stamina, it's a draw.\n",
        "* If one party has more members than the other, eg p1 has 4 warriors and p2 has 3 warriors, then the leftover warriors in the larger party win their fight by default.\n",
        "* For example, if we have p1 with stamina values [5, 10, 7, 4] versus p2 with stamina values [11, 3, 7], then the fights will be 10 v 11, 7 v 7, 5 v 3, 4 v None, so p1 wins two rounds, p2 wins one round, and there is one draw.\n",
        "* We will notate a win for p1 as +1, a win for p2 as -1, and a draw as 0.\n",
        "* The overall winner of the battle is whichever party has the larger number of wins in individual fights. If it's equal, then the overall battle is a draw."
      ]
    },
    {
      "cell_type": "code",
      "execution_count": null,
      "metadata": {
        "id": "kRUGeWRf_iWL"
      },
      "outputs": [],
      "source": [
        "p1 = {\n",
        "    'Errik':  {'gender': 'male',   'stamina': 11, 'weapon': 'sword',      'skill': 'fighting'},\n",
        "    'Kro':    {'gender': 'male',   'stamina': 14, 'weapon': 'fists',      'skill': 'martial arts'},\n",
        "    'Cleo':   {'gender': 'female', 'stamina': 4,  'weapon': 'staff',      'skill': 'healing'},\n",
        "    'Hirso':  {'gender': 'male',   'stamina': 9,  'weapon': 'keys',       'skill': 'lockpicking'},\n",
        "    'Hamish': {'gender': 'male',   'stamina': 5,  'weapon': 'boomerang',  'skill': 'retrieval'},\n",
        "    }\n",
        "\n",
        "p2 =  {\n",
        "    'Eve':    {'gender': 'female', 'stamina': 11, 'weapon': 'broomstick', 'skill': 'witchery'},\n",
        "    'Evern':  {'gender': 'female', 'stamina': 9,  'weapon': 'sword',      'skill': 'throwing'},\n",
        "    'Omar':   {'gender': 'male',   'stamina': 9,  'weapon': 'wire',       'skill': 'healing'},\n",
        "    'Hider':  {'gender': 'male',   'stamina': 7,  'weapon': 'rope',       'skill': 'sneaking'},\n",
        "     }\n",
        "def battle(p1, p2):\n",
        "    \"\"\"\n",
        "    This function should return a list representing the results of the battle, in order.\n",
        "\n",
        "    Eg:\n",
        "    >>> p1 = {\n",
        "    ... 'Errik':  {'gender': 'male',   'stamina': 11, 'weapon': 'sword',      'skill': 'fighting'},\n",
        "    ... 'Kro':    {'gender': 'male',   'stamina': 14, 'weapon': 'fists',      'skill': 'martial arts'},\n",
        "    ... 'Cleo':   {'gender': 'female', 'stamina': 4,  'weapon': 'staff',      'skill': 'healing'},\n",
        "    ... 'Hirso':  {'gender': 'male',   'stamina': 9,  'weapon': 'keys',       'skill': 'lockpicking'},\n",
        "    ... 'Hamish': {'gender': 'male',   'stamina': 5,  'weapon': 'boomerang',  'skill': 'retrieval'},\n",
        "    ... }\n",
        "    >>> p2 =  {\n",
        "    ... 'Eve':    {'gender': 'female', 'stamina': 11, 'weapon': 'broomstick', 'skill': 'witchery'},\n",
        "    ... 'Evern':  {'gender': 'female', 'stamina': 9,  'weapon': 'sword',      'skill': 'throwing'},\n",
        "    ... 'Omar':   {'gender': 'male',   'stamina': 9,  'weapon': 'wire',       'skill': 'healing'},\n",
        "    ... 'Hider':  {'gender': 'male',   'stamina': 7,  'weapon': 'rope',       'skill': 'sneaking'},\n",
        "    ... }\n",
        "    >>> battle(p1, p2) # Kro v Eve => 1; Errik v Evern => 1; Hirso v Omar => 0; Hamish v Hider => -1; Cleo v No-one => 1\n",
        "    [1, 1, 0, -1, 1]\n",
        "    \"\"\"\n",
        "    # YOUR CODE HERE. MY CODE IS APPROX 10 LINES.\n",
        "    p1_stamina = sorted([p1[name]['stamina'] for name in p1], reverse = True)\n",
        "    #print(p1_stamina)\n",
        "    #p1_stamina.sort(reverse=True)\n",
        "    #print(p1_stamina)\n",
        "    #print(help(p1_stamina))\n",
        "    p2_stamina = sorted([p2[name]['stamina'] for name in p2], reverse = True)\n",
        "    #p2_stamina.sort(reverse=True)\n",
        "    while len(p1_stamina) != len(p2_stamina): #make len equal for zip\n",
        "      if len (p1_stamina) > len(p2_stamina):\n",
        "        p2_stamina.append(float('-inf'))\n",
        "      else:\n",
        "        p1_stamina.append(float('-inf'))\n",
        "    #print(p2_stamina)\n",
        "    battle_results =  [ 1 if x > y else (-1 if y > x else 0 ) for x,y in zip(p1_stamina, p2_stamina) ]\n",
        "    return(battle_results)\n",
        "\n",
        "    #print(battle_results)\n",
        "\n",
        "battle(p1, p2)\n",
        "\n",
        "def battle_summary(p1, p2):\n",
        "    \"\"\"\n",
        "    This function calls `battle`, and then summarises the result as a single\n",
        "    number: +1 if p1 wins, 0 for a draw, -1 if p2 wins.\n",
        "\n",
        "    This function is complete: you don't need to write anything.\n",
        "    \"\"\"\n",
        "    outcome = sum(battle(p1, p2))\n",
        "    if outcome > 0:\n",
        "        return +1\n",
        "    elif outcome < 0:\n",
        "        return -1\n",
        "    else: return 0\n"
      ]
    },
    {
      "cell_type": "code",
      "execution_count": null,
      "metadata": {
        "id": "Mu2CLZp1_iWL",
        "colab": {
          "base_uri": "https://localhost:8080/"
        },
        "outputId": "ca1cba94-cfc6-43fd-969f-6102cabb8aa4"
      },
      "outputs": [
        {
          "output_type": "stream",
          "name": "stdout",
          "text": [
            "Finding tests in NoName\n",
            "Trying:\n",
            "    p1 = {\n",
            "    'Errik':  {'gender': 'male',   'stamina': 11, 'weapon': 'sword',      'skill': 'fighting'},\n",
            "    'Kro':    {'gender': 'male',   'stamina': 14, 'weapon': 'fists',      'skill': 'martial arts'},\n",
            "    'Cleo':   {'gender': 'female', 'stamina': 4,  'weapon': 'staff',      'skill': 'healing'},\n",
            "    'Hirso':  {'gender': 'male',   'stamina': 9,  'weapon': 'keys',       'skill': 'lockpicking'},\n",
            "    'Hamish': {'gender': 'male',   'stamina': 5,  'weapon': 'boomerang',  'skill': 'retrieval'},\n",
            "    }\n",
            "Expecting nothing\n",
            "ok\n",
            "Trying:\n",
            "    p2 =  {\n",
            "    'Eve':    {'gender': 'female', 'stamina': 11, 'weapon': 'broomstick', 'skill': 'witchery'},\n",
            "    'Evern':  {'gender': 'female', 'stamina': 9,  'weapon': 'sword',      'skill': 'throwing'},\n",
            "    'Omar':   {'gender': 'male',   'stamina': 9,  'weapon': 'wire',       'skill': 'healing'},\n",
            "    'Hider':  {'gender': 'male',   'stamina': 7,  'weapon': 'rope',       'skill': 'sneaking'},\n",
            "    }\n",
            "Expecting nothing\n",
            "ok\n",
            "Trying:\n",
            "    battle(p1, p2) # Kro v Eve => 1; Errik v Evern => 1; Hirso v Omar => 0; Hamish v Hider => -1; Cleo v No-one => 1\n",
            "Expecting:\n",
            "    [1, 1, 0, -1, 1]\n",
            "ok\n"
          ]
        }
      ],
      "source": [
        "doctest.run_docstring_examples(battle, globals(), verbose=True)"
      ]
    },
    {
      "cell_type": "markdown",
      "metadata": {
        "id": "d8SYlGQ2_iWL"
      },
      "source": [
        "Now, let's see who wins in the battle between our party (selected above) and the Orc party (defined above)! Write a piece of code to use our functions and print out an integer representing the result."
      ]
    },
    {
      "cell_type": "code",
      "execution_count": null,
      "metadata": {
        "id": "HqVT8_bO_iWL"
      },
      "outputs": [],
      "source": [
        "# YOUR CODE HERE. MY CODE IS 1 LINE."
      ]
    },
    {
      "cell_type": "markdown",
      "metadata": {
        "id": "99qJn7t3_iWL"
      },
      "source": [
        "## Part 3: Treasure Chests (5 marks)\n",
        "\n",
        "While wandering in the fortress of the Goblin King, you've discovered a box of treasure!\n",
        "\n",
        "Your job is to tell the other adventurers **whether it contains** a `golden key`.\n",
        "\n",
        "The problem is - the box contains some items, like keys and coins and bracelets, but it also contains some other containers, like boxes, leather pouches, and bags. For each container you might have to search within it - recursively. An item is represented by a `str`, but a container is represented by a `list`.\n",
        "\n",
        "Write a recursive function to return True or False."
      ]
    },
    {
      "cell_type": "code",
      "execution_count": null,
      "metadata": {
        "id": "Z-OxjiwE_iWM"
      },
      "outputs": [],
      "source": [
        "def search_for(container, item):\n",
        "    \"\"\"\n",
        "    >>> search_for(['coin', 'crown', 'key'], 'key')\n",
        "    True\n",
        "    >>> search_for([], 'key')\n",
        "    False\n",
        "    >>> search_for(['coin', 'crown', 'key'], 'dagger')\n",
        "    False\n",
        "    >>> box = ['coin', 'coin', 'silver coin', 'silver key', 'needle', 'golden crown',\n",
        "    ...        ['coin', 'coin', 'coin'],\n",
        "    ...        'diamond',\n",
        "    ...        'small diamond',\n",
        "    ...        ['coin'],\n",
        "    ...        ['potion of healing', 'scroll'],\n",
        "    ...        ['golden key']]\n",
        "    >>> search_for(box, 'coin')\n",
        "    True\n",
        "    >>> search_for(box, 'silver crown')\n",
        "    False\n",
        "    >>> search_for(box, 'small diamond')\n",
        "    True\n",
        "    >>> search_for(box, 'potion of healing')\n",
        "    True\n",
        "    >>> search_for(box, 'potion of fear')\n",
        "    False\n",
        "    >>> search_for(box, 'potion')\n",
        "    False\n",
        "    >>> search_for(box, 'healing')\n",
        "    False\n",
        "    \"\"\"\n",
        "    # YOUR CODE HERE. MY CODE IS APPROX 8 LINES."
      ]
    },
    {
      "cell_type": "code",
      "execution_count": null,
      "metadata": {
        "id": "jfT-odT__iWM"
      },
      "outputs": [],
      "source": [
        "doctest.run_docstring_examples(search_for, globals(), verbose=True)"
      ]
    },
    {
      "cell_type": "markdown",
      "metadata": {
        "id": "ubHJhovP_iWM"
      },
      "source": [
        "### The Greedy Adventurer\n",
        "\n",
        "The greediest person in your adventure party only cares about coins. Write a new recursive function which calculates how many coins are present in the box. NB: if an element is described as a `silver coin` or similar, ie it *contains the word 'coin'*, then it IS a coin, and should be counted. NB: it must be recursive."
      ]
    },
    {
      "cell_type": "code",
      "execution_count": null,
      "metadata": {
        "id": "-75UBlmC_iWM"
      },
      "outputs": [],
      "source": [
        "def count_coins(container):\n",
        "    \"\"\"\n",
        "    >>> count_coins(['potion', 'crown', 'key'])\n",
        "    0\n",
        "    >>> count_coins(['coin', 'crown', 'key'])\n",
        "    1\n",
        "    >>> count_coins(['coin', 'crown', 'key'])\n",
        "    1\n",
        "    >>> box = ['coin', 'coin', 'silver coin', 'silver key', 'needle', 'golden crown',\n",
        "    ...        ['coin', 'coin', 'coin'], 'diamond', 'small diamond',\n",
        "    ...        ['coin'],\n",
        "    ...        ['potion of healing', 'scroll'],\n",
        "    ...        ['golden key']]\n",
        "    >>> count_coins(box)\n",
        "    7\n",
        "    \"\"\"\n",
        "    # YOUR CODE HERE. MY CODE IS APPROX 6 LINES."
      ]
    },
    {
      "cell_type": "code",
      "execution_count": null,
      "metadata": {
        "id": "dcVZ0DLL_iWM"
      },
      "outputs": [],
      "source": [
        "doctest.run_docstring_examples(count_coins, globals(), verbose=True)"
      ]
    },
    {
      "cell_type": "markdown",
      "metadata": {
        "id": "1CFspGeX_iWM"
      },
      "source": [
        "## Part 4: the Nearest Defender (5 marks)\n",
        "\n",
        "There is one final challenge. An evil warlock has lifted your party into a higher dimension and is going to attack.\n",
        "\n",
        "When he attacks, you need to find out which of you is closest to him, in order to defend. But how can you calculate that in a higher dimension (specifically, in $n$ dimensions)? Use the **Euclidean distance** spell:\n",
        "\n",
        "$$\\mathrm{distance}(x, y) = \\sqrt{\\sum_{i=1}^n (x_i - y_i)^2}$$\n",
        "\n",
        "But make sure you use **vectorisation** in your spell, because otherwise your spell will be too slow when $n$ is large!"
      ]
    },
    {
      "cell_type": "code",
      "execution_count": null,
      "metadata": {
        "id": "qB7PU3g7_iWM"
      },
      "outputs": [],
      "source": [
        "def distance(x, y):\n",
        "    \"\"\"\n",
        "    >>> distance([1, 0], [1, 0])\n",
        "    0.0\n",
        "    >>> distance([0, 0], [0, 1])\n",
        "    1.0\n",
        "    >>> round(distance([0, 0, 0], [1, 0, 1]), 3) # sqrt(2)\n",
        "    1.414\n",
        "    \"\"\"\n",
        "    x = np.array(x) # ensure x and y are arrays\n",
        "    y = np.array(y)\n",
        "    # YOUR CODE HERE. MY CODE IS 1 LINE."
      ]
    },
    {
      "cell_type": "code",
      "execution_count": null,
      "metadata": {
        "id": "BzGa_AF9_iWN"
      },
      "outputs": [],
      "source": [
        "doctest.run_docstring_examples(distance, globals(), verbose=True)"
      ]
    },
    {
      "cell_type": "markdown",
      "metadata": {
        "id": "xg2zia0m_iWN"
      },
      "source": [
        "Then, write a spell which can calculate which member of your party is the closest to the attacker's location. (You don't need to use vectorisation in this spell.)"
      ]
    },
    {
      "cell_type": "code",
      "execution_count": null,
      "metadata": {
        "id": "OMfjtaGd_iWN"
      },
      "outputs": [],
      "source": [
        "def choose_defender(defender_names, defender_locs, attacker_loc):\n",
        "    \"\"\"\n",
        "    >>> names = ['a', 'b', 'c', 'd']\n",
        "    >>> locs = [[-10, -10], [-5, 0], [5, 5], [2, 5]]\n",
        "    >>> choose_defender(names, locs, [1, 4])\n",
        "    'd'\n",
        "    >>> choose_defender(names, locs, [-1, -14])\n",
        "    'a'\n",
        "    >>> locs = [[1, 1, 1, 1], [3, 1, 1, 1], [0, 0, 0, 0], [5, 5, 5, 5]]\n",
        "    >>> choose_defender(names, locs, [4, 0, 0, 0])\n",
        "    'b'\n",
        "    \"\"\"\n",
        "    defender_locs = np.array(defender_locs)\n",
        "    attacker_loc = np.array(attacker_loc)\n",
        "    # YOUR CODE HERE. MY CODE IS 2 LINES."
      ]
    },
    {
      "cell_type": "code",
      "execution_count": null,
      "metadata": {
        "id": "2KUD1P97_iWN"
      },
      "outputs": [],
      "source": [
        "doctest.run_docstring_examples(choose_defender, globals(), verbose=True)"
      ]
    }
  ],
  "metadata": {
    "kernelspec": {
      "display_name": "Python 3",
      "language": "python",
      "name": "python3"
    },
    "language_info": {
      "codemirror_mode": {
        "name": "ipython",
        "version": 3
      },
      "file_extension": ".py",
      "mimetype": "text/x-python",
      "name": "python",
      "nbconvert_exporter": "python",
      "pygments_lexer": "ipython3",
      "version": "3.9.6"
    },
    "colab": {
      "provenance": [],
      "toc_visible": true,
      "include_colab_link": true
    }
  },
  "nbformat": 4,
  "nbformat_minor": 0
}