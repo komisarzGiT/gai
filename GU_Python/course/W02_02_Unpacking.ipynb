{
  "cells": [
    {
      "cell_type": "markdown",
      "metadata": {
        "id": "j_9Rd9h5PAN8"
      },
      "source": [
        "<center><img src=https://github.com/komisarzGiT/gai/blob/main/GU_Python/course/img/MScAI_brand.png?raw=1 width=70%></center>\n",
        "\n",
        "# Unpacking"
      ]
    },
    {
      "cell_type": "markdown",
      "metadata": {
        "id": "Y033fqG8PAN-"
      },
      "source": [
        "### Tuple unpacking"
      ]
    },
    {
      "cell_type": "markdown",
      "metadata": {
        "id": "USNvBd7ePAN-"
      },
      "source": [
        "We have already seen that when we return multiple items from a function, they are packed up into a tuple, and then unpacked by the caller, for example:"
      ]
    },
    {
      "cell_type": "code",
      "execution_count": 1,
      "metadata": {
        "id": "mWZ5dySsPAN-"
      },
      "outputs": [],
      "source": [
        "def count_punct(s):\n",
        "    # notice single-quote!\n",
        "    return s.count(\".\"), s.count(\",\"), s.count(\"'\")\n",
        "s = \"It was the best of times, it was the blurst of times.\"\n",
        "np, nc, nq = count_punct(s)"
      ]
    },
    {
      "cell_type": "markdown",
      "metadata": {
        "id": "2HixerscPAN_"
      },
      "source": [
        "This is actually a special case of a generic mechanism in Python called *unpacking*. It works with tuples, lists and similar types; and there is a variation which works with dictionaries."
      ]
    },
    {
      "cell_type": "code",
      "execution_count": 4,
      "metadata": {
        "colab": {
          "base_uri": "https://localhost:8080/"
        },
        "id": "5jEOL9C5PAN_",
        "outputId": "c1b38d96-8e16-4e53-acd4-e7f183d9ae42"
      },
      "outputs": [
        {
          "output_type": "stream",
          "name": "stdout",
          "text": [
            "1 1 0\n",
            "(1, 1, 0)\n"
          ]
        }
      ],
      "source": [
        "print(np, nc, nq)\n",
        "print(count_punct(s))"
      ]
    },
    {
      "cell_type": "markdown",
      "metadata": {
        "id": "R1AejBERPAOA"
      },
      "source": [
        "It doesn't only work in `return`. Here's an example showing how to swap two items using unpacking:"
      ]
    },
    {
      "cell_type": "code",
      "execution_count": 5,
      "metadata": {
        "id": "1jnZd_JrPAOA"
      },
      "outputs": [],
      "source": [
        "a = 10\n",
        "b = 20\n",
        "a, b = b, a"
      ]
    },
    {
      "cell_type": "code",
      "execution_count": 6,
      "metadata": {
        "colab": {
          "base_uri": "https://localhost:8080/"
        },
        "id": "SlrrYHo_PAOA",
        "outputId": "5b6c7c73-69bb-4699-f604-4a26e4675e84"
      },
      "outputs": [
        {
          "output_type": "stream",
          "name": "stdout",
          "text": [
            "20 10\n"
          ]
        }
      ],
      "source": [
        "print(a, b)"
      ]
    },
    {
      "cell_type": "markdown",
      "metadata": {
        "id": "VuXOo53nPAOA"
      },
      "source": [
        "Can we unpack a `str`, ie will this work?\n",
        "\n",
        "```python\n",
        "a, b, c = \"abc\"\n",
        "```"
      ]
    },
    {
      "cell_type": "code",
      "execution_count": 5,
      "metadata": {
        "id": "hqDau2YHPAOB"
      },
      "outputs": [],
      "source": [
        "a, b, c = \"abc\""
      ]
    },
    {
      "cell_type": "code",
      "execution_count": 9,
      "metadata": {
        "colab": {
          "base_uri": "https://localhost:8080/",
          "height": 35
        },
        "id": "A4lXoRb0PAOB",
        "outputId": "0d277e69-115e-45a4-a0fe-8dca442d43cb"
      },
      "outputs": [
        {
          "output_type": "execute_result",
          "data": {
            "text/plain": [
              "'c'"
            ],
            "application/vnd.google.colaboratory.intrinsic+json": {
              "type": "string"
            }
          },
          "metadata": {},
          "execution_count": 9
        }
      ],
      "source": [
        "c"
      ]
    },
    {
      "cell_type": "markdown",
      "metadata": {
        "id": "bgyCwMN2PAOB"
      },
      "source": [
        "We can use a \"wild-card\" `*` when unpacking, as follows. This is a common pattern in list-processing - equivalent to `car` and `cons`, for Lisp fans."
      ]
    },
    {
      "cell_type": "code",
      "execution_count": 11,
      "metadata": {
        "colab": {
          "base_uri": "https://localhost:8080/"
        },
        "id": "iaKEyGAYPAOB",
        "outputId": "79914f33-f469-437b-dee0-da426c85e1bb"
      },
      "outputs": [
        {
          "output_type": "stream",
          "name": "stdout",
          "text": [
            "5\n",
            "[6, 7, 8, 9]\n"
          ]
        }
      ],
      "source": [
        "L = [5, 6, 7, 8, 9]\n",
        "head, *rest = L\n",
        "print(head)\n",
        "print(rest)"
      ]
    },
    {
      "cell_type": "markdown",
      "metadata": {
        "id": "YjdRYj3uPAOB"
      },
      "source": [
        "Notice that head is a single item, the first item or the \"head\" of the list, whereas `rest` gets everything else, so it's a list. Notice that `*rest` is used when unpacking, but the variable that is created is just called `rest`."
      ]
    },
    {
      "cell_type": "markdown",
      "metadata": {
        "id": "x0wT5djfPAOB"
      },
      "source": [
        "**Exercise**: suppose `L = [5]`. What values will `head` and `rest` have?"
      ]
    },
    {
      "cell_type": "markdown",
      "metadata": {
        "id": "SB5OQJ8OPAOB"
      },
      "source": [
        "### Tuple packing in function arguments"
      ]
    },
    {
      "cell_type": "markdown",
      "metadata": {
        "id": "slDngQ5iPAOB"
      },
      "source": [
        "The opposite also exists. This \"packing\" is the basis of two mechanisms for variable-length argument lists in Python functions, called `*args` and `**kwargs`."
      ]
    },
    {
      "cell_type": "markdown",
      "metadata": {
        "id": "C0XrXra4PAOB"
      },
      "source": [
        "First, notice that - surprisingly? - this works:"
      ]
    },
    {
      "cell_type": "code",
      "execution_count": null,
      "metadata": {
        "id": "l4n41PrnPAOB",
        "outputId": "d1deed9f-ebdd-40d0-e5a9-e34d4ac730d5"
      },
      "outputs": [
        {
          "name": "stdout",
          "output_type": "stream",
          "text": [
            "5\n",
            "6\n",
            "7\n"
          ]
        }
      ],
      "source": [
        "print(max(4, 5))\n",
        "print(max(4, 5, 6))\n",
        "print(max(4, 5, 6, 7))"
      ]
    },
    {
      "cell_type": "markdown",
      "metadata": {
        "id": "guTxi0L1PAOC"
      },
      "source": [
        "Here, `max` takes a variable number of arguments. How can we program a function like that?"
      ]
    },
    {
      "cell_type": "code",
      "execution_count": null,
      "metadata": {
        "id": "ISqk37gwPAOC"
      },
      "outputs": [],
      "source": [
        "def max(*args): # override the builtin `max`\n",
        "    # will raise error if len(args) == 0\n",
        "    result = args[0]\n",
        "    for arg in args:\n",
        "        if arg > result:\n",
        "            result = arg\n",
        "    return result"
      ]
    },
    {
      "cell_type": "code",
      "execution_count": null,
      "metadata": {
        "id": "Bp0lORXWPAOC",
        "outputId": "3b524ba3-d2a3-4ab2-db5c-429f4069bb56"
      },
      "outputs": [
        {
          "name": "stdout",
          "output_type": "stream",
          "text": [
            "5\n",
            "6\n",
            "7\n"
          ]
        }
      ],
      "source": [
        "print(max(4, 5))\n",
        "print(max(4, 5, 6))\n",
        "print(max(4, 5, 6, 7))"
      ]
    },
    {
      "cell_type": "markdown",
      "metadata": {
        "id": "TLnTlwoTPAOC"
      },
      "source": [
        "What we have seen is that `*` attached to a function parameter name allows multiple arguments to be packed into that parameter. It becomes a tuple:"
      ]
    },
    {
      "cell_type": "code",
      "execution_count": null,
      "metadata": {
        "id": "HzHFT9oGPAOC",
        "outputId": "3bd7d506-2df2-469c-c390-1e5307810f41"
      },
      "outputs": [
        {
          "name": "stdout",
          "output_type": "stream",
          "text": [
            "<class 'tuple'>\n"
          ]
        }
      ],
      "source": [
        "def type_test(*args):\n",
        "    print(type(args))\n",
        "type_test(4, 5, 6)"
      ]
    },
    {
      "cell_type": "markdown",
      "metadata": {
        "id": "fCx1hTJBPAOC"
      },
      "source": [
        "### Dict packing in function arguments"
      ]
    },
    {
      "cell_type": "markdown",
      "metadata": {
        "id": "BoYR7FbaPAOC"
      },
      "source": [
        "A similar mechanism is available for keyword arguments. In this case, multiple parameter name-value pairs are packed into a `dict`. Here's a contrived example:"
      ]
    },
    {
      "cell_type": "code",
      "execution_count": null,
      "metadata": {
        "id": "03ddSW4RPAOC",
        "outputId": "68476c6a-035e-4087-fb26-761e6437ada2"
      },
      "outputs": [
        {
          "name": "stdout",
          "output_type": "stream",
          "text": [
            "_c 3\n"
          ]
        }
      ],
      "source": [
        "def f(**kwargs):\n",
        "    for k in kwargs:\n",
        "        if k.startswith(\"_\"):\n",
        "            print(k, kwargs[k])\n",
        "f(a=1, b=2, _c=3)"
      ]
    },
    {
      "cell_type": "markdown",
      "metadata": {
        "id": "c3ijRVDiPAOC"
      },
      "source": [
        "This mechanism is used a lot in large libraries like Matplotlib (for plotting). See, e.g., https://matplotlib.org/stable/api/_as_gen/matplotlib.pyplot.scatter.html.\n",
        "\n",
        "```python\n",
        "matplotlib.pyplot.scatter(x, y, s=None, c=None, marker=None, cmap=None, norm=None, vmin=None, vmax=None, alpha=None, linewidths=None, verts=None, edgecolors=None, *, plotnonfinite=False, data=None, **kwargs)\n",
        "```"
      ]
    },
    {
      "cell_type": "markdown",
      "metadata": {
        "id": "MDdSMNoZPAOC"
      },
      "source": [
        "This API already has a lot of arguments, but there are many more argument relating to `Container` which the `scatter` function will not use explicitly, but will only pass on to `Container` sub-functions. So instead of writing `scatter()` with all those extra arguments, they are just anonymised and shortened as `**kwargs`. This is great: if the `Container` API changes, we don't have to update our `scatter` function at all.\n",
        "\n",
        "By the way, above we also see a bare `*`. That says that everything after `*` can only be passed as keyword arguments. There is a similar `/` also. It marks the end of positional-only arguments, ie arguments which must not be passed as keyword arguments. There is quite a bit of complexity here!"
      ]
    },
    {
      "cell_type": "markdown",
      "metadata": {
        "id": "JWV67tWvPAOC"
      },
      "source": [
        "### Tuple and dict unpacking at call time"
      ]
    },
    {
      "cell_type": "markdown",
      "metadata": {
        "id": "r7vkHdxVPAOC"
      },
      "source": [
        "Unpacking can also be useful when *calling* a function. In this example, we have a function which expects individual arguments, but our data is already packed up. We unpack on the fly. This is just one example where Python makes it easy to \"plug in\" to an API which doesn't quite fit our data."
      ]
    },
    {
      "cell_type": "code",
      "execution_count": null,
      "metadata": {
        "id": "Y_CDXba4PAOC",
        "outputId": "8a010cc3-56d3-4c5c-e050-edf875c4d223"
      },
      "outputs": [
        {
          "name": "stdout",
          "output_type": "stream",
          "text": [
            "10\n"
          ]
        }
      ],
      "source": [
        "def f(a, b, c, d):\n",
        "    print(a + b + c + d)\n",
        "ab = (1, 2)\n",
        "cd = {\"c\": 3, \"d\": 4}\n",
        "f(*ab, **cd) # unpack on the fly"
      ]
    },
    {
      "cell_type": "markdown",
      "metadata": {
        "id": "sfD1JF4EPAOD"
      },
      "source": [
        "Once again, we can also use the unpacking syntax in other contexts, not just function APIs. This example merges two dictionaries by unpacking them into a new dictionary:"
      ]
    },
    {
      "cell_type": "code",
      "execution_count": null,
      "metadata": {
        "id": "b9yDVkPVPAOD"
      },
      "outputs": [],
      "source": [
        "d1 = {\"a\": 1, \"b\": 2}\n",
        "d2 = {\"a\": 7, \"c\": 3, \"d\": 4}\n",
        "d = {**d1, **d2}"
      ]
    },
    {
      "cell_type": "markdown",
      "metadata": {
        "id": "UPxND5SnPAOD"
      },
      "source": [
        "**Exercise**: what is the value of `d[\"a\"]`? Think about it first, then confirm by trying it."
      ]
    }
  ],
  "metadata": {
    "celltoolbar": "Slideshow",
    "kernelspec": {
      "display_name": "Python 3 (ipykernel)",
      "language": "python",
      "name": "python3"
    },
    "language_info": {
      "codemirror_mode": {
        "name": "ipython",
        "version": 3
      },
      "file_extension": ".py",
      "mimetype": "text/x-python",
      "name": "python",
      "nbconvert_exporter": "python",
      "pygments_lexer": "ipython3",
      "version": "3.11.7"
    },
    "colab": {
      "provenance": []
    }
  },
  "nbformat": 4,
  "nbformat_minor": 0
}