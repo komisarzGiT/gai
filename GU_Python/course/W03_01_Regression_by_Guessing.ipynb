{
  "cells": [
    {
      "cell_type": "markdown",
      "id": "9a7ffd39",
      "metadata": {
        "id": "9a7ffd39"
      },
      "source": [
        "<center><img src=https://github.com/komisarzGiT/gai/blob/main/GU_Python/course/img/MScAI_brand.png?raw=1 width=70%></center>\n",
        "\n",
        "# Regressing by Guessing"
      ]
    },
    {
      "cell_type": "markdown",
      "id": "49805d99",
      "metadata": {
        "id": "49805d99"
      },
      "source": [
        "In this notebook we'll implement an approach to **regression** based on **guessing**. This will introduce the most important ideas in `numpy`, `matplotlib`, and `pandas` - core libraries for scientific computing.\n",
        "\n",
        "Let's pretend we have carried out some scientific experiment, eg in microbiology. There's some chemical compound and we think that a certain type of cell grows faster or slower depending on the concentration of that compound. We've measured the concentration ($x$) and the resulting growth ($y$) and stored the results in a `.csv` file.\n",
        "\n",
        "Now we want to find out: how are $x$ and $y$ related? Let's plot the data and try to find a function $f$ such that $f(x) = y$, at least approximately."
      ]
    },
    {
      "cell_type": "code",
      "execution_count": 26,
      "id": "234e3472",
      "metadata": {
        "id": "234e3472"
      },
      "outputs": [],
      "source": [
        "# standard imports\n",
        "import numpy as np\n",
        "import matplotlib.pyplot as plt\n",
        "import pandas as pd"
      ]
    },
    {
      "cell_type": "markdown",
      "id": "954d0941",
      "metadata": {
        "id": "954d0941"
      },
      "source": [
        "### Reading data with Pandas\n",
        "\n",
        "Our data is stored in this `.csv`."
      ]
    },
    {
      "cell_type": "code",
      "execution_count": 27,
      "id": "f9fbc7c9",
      "metadata": {
        "id": "f9fbc7c9"
      },
      "outputs": [],
      "source": [
        "# from google.colab import drive\n",
        "# drive.mount('/content/drive')\n",
        "\n",
        "# G:\\My Drive\\GAI\\GU_Python\\course\\data\n",
        "# !ls /content/drive/MyDrive/GAI/GU_Python/course/data/\n",
        "\n",
        "filename = \"/content/drive/MyDrive/GAI/GU_Python/course/data/cell_growth.csv\""
      ]
    },
    {
      "cell_type": "markdown",
      "id": "e935518b",
      "metadata": {
        "id": "e935518b"
      },
      "source": [
        "First let's take a look at the format. (You can also load into a text editor.)\n",
        "\n",
        "Below, `!` is Jupyter magic, not Python. `cat` means \"print\" in Unix. `$` means \"value of\" `filename`."
      ]
    },
    {
      "cell_type": "code",
      "execution_count": 23,
      "id": "50ae9824",
      "metadata": {
        "id": "50ae9824",
        "outputId": "3ed6c34a-888e-4549-f965-65ba0c0f8080",
        "colab": {
          "base_uri": "https://localhost:8080/"
        }
      },
      "outputs": [
        {
          "output_type": "stream",
          "name": "stdout",
          "text": [
            "x,y\r\n",
            "8.73,5.76\r\n",
            "6.15,2.48\r\n",
            "2.76,5.56\r\n",
            "1.89,5.16\r\n",
            "8.76,5.85\r\n",
            "1.64,4.84\r\n",
            "7.03,2.41\r\n",
            "1.41,4.44\r\n",
            "9.07,7.17\r\n",
            "9.88,11.81\r\n",
            "5.01,3.54\r\n",
            "0.45,1.54\r\n",
            "2.97,5.51\r\n",
            "1.36,4.33\r\n",
            "0.38,1.26\r\n",
            "6.30,2.41\r\n",
            "7.82,3.27\r\n",
            "7.37,2.66\r\n",
            "1.70,4.92\r\n",
            "6.20,2.46\r\n"
          ]
        }
      ],
      "source": [
        "!cat $filename"
      ]
    },
    {
      "cell_type": "markdown",
      "id": "8995a0d9",
      "metadata": {
        "id": "8995a0d9"
      },
      "source": [
        "It seems to be a `.csv` of two columns, with headers. This is easy to read in Pandas as follows."
      ]
    },
    {
      "cell_type": "code",
      "execution_count": 24,
      "id": "aa0f111e",
      "metadata": {
        "id": "aa0f111e"
      },
      "outputs": [],
      "source": [
        "df = pd.read_csv(filename)"
      ]
    },
    {
      "cell_type": "markdown",
      "id": "17eb46d1",
      "metadata": {
        "id": "17eb46d1"
      },
      "source": [
        "(If the format was different, `read_csv` has many options to control how we read the data.)"
      ]
    },
    {
      "cell_type": "markdown",
      "id": "5e258729",
      "metadata": {
        "id": "5e258729"
      },
      "source": [
        "Let's confirm the column names and see if it was read in correctly:"
      ]
    },
    {
      "cell_type": "code",
      "execution_count": 28,
      "id": "129afcc1",
      "metadata": {
        "id": "129afcc1",
        "outputId": "2b563e35-7efc-4280-de8f-dbeeaef913c5",
        "colab": {
          "base_uri": "https://localhost:8080/"
        }
      },
      "outputs": [
        {
          "output_type": "execute_result",
          "data": {
            "text/plain": [
              "Index(['x', 'y'], dtype='object')"
            ]
          },
          "metadata": {},
          "execution_count": 28
        }
      ],
      "source": [
        "df.columns"
      ]
    },
    {
      "cell_type": "code",
      "execution_count": 30,
      "id": "15f2cb9d",
      "metadata": {
        "id": "15f2cb9d",
        "outputId": "417c7896-ecec-4994-b99e-d12499023813",
        "colab": {
          "base_uri": "https://localhost:8080/",
          "height": 206
        }
      },
      "outputs": [
        {
          "output_type": "execute_result",
          "data": {
            "text/plain": [
              "      x     y\n",
              "0  8.73  5.76\n",
              "1  6.15  2.48\n",
              "2  2.76  5.56\n",
              "3  1.89  5.16\n",
              "4  8.76  5.85"
            ],
            "text/html": [
              "\n",
              "  <div id=\"df-4475de6b-7bc3-42aa-ae90-887df186b68e\" class=\"colab-df-container\">\n",
              "    <div>\n",
              "<style scoped>\n",
              "    .dataframe tbody tr th:only-of-type {\n",
              "        vertical-align: middle;\n",
              "    }\n",
              "\n",
              "    .dataframe tbody tr th {\n",
              "        vertical-align: top;\n",
              "    }\n",
              "\n",
              "    .dataframe thead th {\n",
              "        text-align: right;\n",
              "    }\n",
              "</style>\n",
              "<table border=\"1\" class=\"dataframe\">\n",
              "  <thead>\n",
              "    <tr style=\"text-align: right;\">\n",
              "      <th></th>\n",
              "      <th>x</th>\n",
              "      <th>y</th>\n",
              "    </tr>\n",
              "  </thead>\n",
              "  <tbody>\n",
              "    <tr>\n",
              "      <th>0</th>\n",
              "      <td>8.73</td>\n",
              "      <td>5.76</td>\n",
              "    </tr>\n",
              "    <tr>\n",
              "      <th>1</th>\n",
              "      <td>6.15</td>\n",
              "      <td>2.48</td>\n",
              "    </tr>\n",
              "    <tr>\n",
              "      <th>2</th>\n",
              "      <td>2.76</td>\n",
              "      <td>5.56</td>\n",
              "    </tr>\n",
              "    <tr>\n",
              "      <th>3</th>\n",
              "      <td>1.89</td>\n",
              "      <td>5.16</td>\n",
              "    </tr>\n",
              "    <tr>\n",
              "      <th>4</th>\n",
              "      <td>8.76</td>\n",
              "      <td>5.85</td>\n",
              "    </tr>\n",
              "  </tbody>\n",
              "</table>\n",
              "</div>\n",
              "    <div class=\"colab-df-buttons\">\n",
              "\n",
              "  <div class=\"colab-df-container\">\n",
              "    <button class=\"colab-df-convert\" onclick=\"convertToInteractive('df-4475de6b-7bc3-42aa-ae90-887df186b68e')\"\n",
              "            title=\"Convert this dataframe to an interactive table.\"\n",
              "            style=\"display:none;\">\n",
              "\n",
              "  <svg xmlns=\"http://www.w3.org/2000/svg\" height=\"24px\" viewBox=\"0 -960 960 960\">\n",
              "    <path d=\"M120-120v-720h720v720H120Zm60-500h600v-160H180v160Zm220 220h160v-160H400v160Zm0 220h160v-160H400v160ZM180-400h160v-160H180v160Zm440 0h160v-160H620v160ZM180-180h160v-160H180v160Zm440 0h160v-160H620v160Z\"/>\n",
              "  </svg>\n",
              "    </button>\n",
              "\n",
              "  <style>\n",
              "    .colab-df-container {\n",
              "      display:flex;\n",
              "      gap: 12px;\n",
              "    }\n",
              "\n",
              "    .colab-df-convert {\n",
              "      background-color: #E8F0FE;\n",
              "      border: none;\n",
              "      border-radius: 50%;\n",
              "      cursor: pointer;\n",
              "      display: none;\n",
              "      fill: #1967D2;\n",
              "      height: 32px;\n",
              "      padding: 0 0 0 0;\n",
              "      width: 32px;\n",
              "    }\n",
              "\n",
              "    .colab-df-convert:hover {\n",
              "      background-color: #E2EBFA;\n",
              "      box-shadow: 0px 1px 2px rgba(60, 64, 67, 0.3), 0px 1px 3px 1px rgba(60, 64, 67, 0.15);\n",
              "      fill: #174EA6;\n",
              "    }\n",
              "\n",
              "    .colab-df-buttons div {\n",
              "      margin-bottom: 4px;\n",
              "    }\n",
              "\n",
              "    [theme=dark] .colab-df-convert {\n",
              "      background-color: #3B4455;\n",
              "      fill: #D2E3FC;\n",
              "    }\n",
              "\n",
              "    [theme=dark] .colab-df-convert:hover {\n",
              "      background-color: #434B5C;\n",
              "      box-shadow: 0px 1px 3px 1px rgba(0, 0, 0, 0.15);\n",
              "      filter: drop-shadow(0px 1px 2px rgba(0, 0, 0, 0.3));\n",
              "      fill: #FFFFFF;\n",
              "    }\n",
              "  </style>\n",
              "\n",
              "    <script>\n",
              "      const buttonEl =\n",
              "        document.querySelector('#df-4475de6b-7bc3-42aa-ae90-887df186b68e button.colab-df-convert');\n",
              "      buttonEl.style.display =\n",
              "        google.colab.kernel.accessAllowed ? 'block' : 'none';\n",
              "\n",
              "      async function convertToInteractive(key) {\n",
              "        const element = document.querySelector('#df-4475de6b-7bc3-42aa-ae90-887df186b68e');\n",
              "        const dataTable =\n",
              "          await google.colab.kernel.invokeFunction('convertToInteractive',\n",
              "                                                    [key], {});\n",
              "        if (!dataTable) return;\n",
              "\n",
              "        const docLinkHtml = 'Like what you see? Visit the ' +\n",
              "          '<a target=\"_blank\" href=https://colab.research.google.com/notebooks/data_table.ipynb>data table notebook</a>'\n",
              "          + ' to learn more about interactive tables.';\n",
              "        element.innerHTML = '';\n",
              "        dataTable['output_type'] = 'display_data';\n",
              "        await google.colab.output.renderOutput(dataTable, element);\n",
              "        const docLink = document.createElement('div');\n",
              "        docLink.innerHTML = docLinkHtml;\n",
              "        element.appendChild(docLink);\n",
              "      }\n",
              "    </script>\n",
              "  </div>\n",
              "\n",
              "\n",
              "    <div id=\"df-8dace853-25a7-4487-973e-13eaf042883c\">\n",
              "      <button class=\"colab-df-quickchart\" onclick=\"quickchart('df-8dace853-25a7-4487-973e-13eaf042883c')\"\n",
              "                title=\"Suggest charts\"\n",
              "                style=\"display:none;\">\n",
              "\n",
              "<svg xmlns=\"http://www.w3.org/2000/svg\" height=\"24px\"viewBox=\"0 0 24 24\"\n",
              "     width=\"24px\">\n",
              "    <g>\n",
              "        <path d=\"M19 3H5c-1.1 0-2 .9-2 2v14c0 1.1.9 2 2 2h14c1.1 0 2-.9 2-2V5c0-1.1-.9-2-2-2zM9 17H7v-7h2v7zm4 0h-2V7h2v10zm4 0h-2v-4h2v4z\"/>\n",
              "    </g>\n",
              "</svg>\n",
              "      </button>\n",
              "\n",
              "<style>\n",
              "  .colab-df-quickchart {\n",
              "      --bg-color: #E8F0FE;\n",
              "      --fill-color: #1967D2;\n",
              "      --hover-bg-color: #E2EBFA;\n",
              "      --hover-fill-color: #174EA6;\n",
              "      --disabled-fill-color: #AAA;\n",
              "      --disabled-bg-color: #DDD;\n",
              "  }\n",
              "\n",
              "  [theme=dark] .colab-df-quickchart {\n",
              "      --bg-color: #3B4455;\n",
              "      --fill-color: #D2E3FC;\n",
              "      --hover-bg-color: #434B5C;\n",
              "      --hover-fill-color: #FFFFFF;\n",
              "      --disabled-bg-color: #3B4455;\n",
              "      --disabled-fill-color: #666;\n",
              "  }\n",
              "\n",
              "  .colab-df-quickchart {\n",
              "    background-color: var(--bg-color);\n",
              "    border: none;\n",
              "    border-radius: 50%;\n",
              "    cursor: pointer;\n",
              "    display: none;\n",
              "    fill: var(--fill-color);\n",
              "    height: 32px;\n",
              "    padding: 0;\n",
              "    width: 32px;\n",
              "  }\n",
              "\n",
              "  .colab-df-quickchart:hover {\n",
              "    background-color: var(--hover-bg-color);\n",
              "    box-shadow: 0 1px 2px rgba(60, 64, 67, 0.3), 0 1px 3px 1px rgba(60, 64, 67, 0.15);\n",
              "    fill: var(--button-hover-fill-color);\n",
              "  }\n",
              "\n",
              "  .colab-df-quickchart-complete:disabled,\n",
              "  .colab-df-quickchart-complete:disabled:hover {\n",
              "    background-color: var(--disabled-bg-color);\n",
              "    fill: var(--disabled-fill-color);\n",
              "    box-shadow: none;\n",
              "  }\n",
              "\n",
              "  .colab-df-spinner {\n",
              "    border: 2px solid var(--fill-color);\n",
              "    border-color: transparent;\n",
              "    border-bottom-color: var(--fill-color);\n",
              "    animation:\n",
              "      spin 1s steps(1) infinite;\n",
              "  }\n",
              "\n",
              "  @keyframes spin {\n",
              "    0% {\n",
              "      border-color: transparent;\n",
              "      border-bottom-color: var(--fill-color);\n",
              "      border-left-color: var(--fill-color);\n",
              "    }\n",
              "    20% {\n",
              "      border-color: transparent;\n",
              "      border-left-color: var(--fill-color);\n",
              "      border-top-color: var(--fill-color);\n",
              "    }\n",
              "    30% {\n",
              "      border-color: transparent;\n",
              "      border-left-color: var(--fill-color);\n",
              "      border-top-color: var(--fill-color);\n",
              "      border-right-color: var(--fill-color);\n",
              "    }\n",
              "    40% {\n",
              "      border-color: transparent;\n",
              "      border-right-color: var(--fill-color);\n",
              "      border-top-color: var(--fill-color);\n",
              "    }\n",
              "    60% {\n",
              "      border-color: transparent;\n",
              "      border-right-color: var(--fill-color);\n",
              "    }\n",
              "    80% {\n",
              "      border-color: transparent;\n",
              "      border-right-color: var(--fill-color);\n",
              "      border-bottom-color: var(--fill-color);\n",
              "    }\n",
              "    90% {\n",
              "      border-color: transparent;\n",
              "      border-bottom-color: var(--fill-color);\n",
              "    }\n",
              "  }\n",
              "</style>\n",
              "\n",
              "      <script>\n",
              "        async function quickchart(key) {\n",
              "          const quickchartButtonEl =\n",
              "            document.querySelector('#' + key + ' button');\n",
              "          quickchartButtonEl.disabled = true;  // To prevent multiple clicks.\n",
              "          quickchartButtonEl.classList.add('colab-df-spinner');\n",
              "          try {\n",
              "            const charts = await google.colab.kernel.invokeFunction(\n",
              "                'suggestCharts', [key], {});\n",
              "          } catch (error) {\n",
              "            console.error('Error during call to suggestCharts:', error);\n",
              "          }\n",
              "          quickchartButtonEl.classList.remove('colab-df-spinner');\n",
              "          quickchartButtonEl.classList.add('colab-df-quickchart-complete');\n",
              "        }\n",
              "        (() => {\n",
              "          let quickchartButtonEl =\n",
              "            document.querySelector('#df-8dace853-25a7-4487-973e-13eaf042883c button');\n",
              "          quickchartButtonEl.style.display =\n",
              "            google.colab.kernel.accessAllowed ? 'block' : 'none';\n",
              "        })();\n",
              "      </script>\n",
              "    </div>\n",
              "\n",
              "    </div>\n",
              "  </div>\n"
            ],
            "application/vnd.google.colaboratory.intrinsic+json": {
              "type": "dataframe",
              "variable_name": "df",
              "summary": "{\n  \"name\": \"df\",\n  \"rows\": 20,\n  \"fields\": [\n    {\n      \"column\": \"x\",\n      \"properties\": {\n        \"dtype\": \"number\",\n        \"std\": 3.238426193465943,\n        \"min\": 0.38,\n        \"max\": 9.88,\n        \"num_unique_values\": 20,\n        \"samples\": [\n          8.73,\n          7.37,\n          6.3\n        ],\n        \"semantic_type\": \"\",\n        \"description\": \"\"\n      }\n    },\n    {\n      \"column\": \"y\",\n      \"properties\": {\n        \"dtype\": \"number\",\n        \"std\": 2.390696661292643,\n        \"min\": 1.26,\n        \"max\": 11.81,\n        \"num_unique_values\": 19,\n        \"samples\": [\n          5.76,\n          4.84,\n          1.54\n        ],\n        \"semantic_type\": \"\",\n        \"description\": \"\"\n      }\n    }\n  ]\n}"
            }
          },
          "metadata": {},
          "execution_count": 30
        }
      ],
      "source": [
        "df.head() # see the first few rows"
      ]
    },
    {
      "cell_type": "markdown",
      "id": "3ec25a67",
      "metadata": {
        "id": "3ec25a67"
      },
      "source": [
        "A DataFrame has a shape like the following (a `tuple` of `int`s indicating 20 rows, 2 columns):"
      ]
    },
    {
      "cell_type": "code",
      "execution_count": 35,
      "id": "172445bf",
      "metadata": {
        "id": "172445bf",
        "outputId": "442b1587-e0f4-4c07-9d61-276483295ced",
        "colab": {
          "base_uri": "https://localhost:8080/"
        }
      },
      "outputs": [
        {
          "output_type": "stream",
          "name": "stdout",
          "text": [
            "Python 3.12.11\n",
            "DISTRIB_ID=Ubuntu\n",
            "DISTRIB_RELEASE=22.04\n",
            "DISTRIB_CODENAME=jammy\n",
            "DISTRIB_DESCRIPTION=\"Ubuntu 22.04.4 LTS\"\n",
            "PRETTY_NAME=\"Ubuntu 22.04.4 LTS\"\n",
            "NAME=\"Ubuntu\"\n",
            "VERSION_ID=\"22.04\"\n",
            "VERSION=\"22.04.4 LTS (Jammy Jellyfish)\"\n",
            "VERSION_CODENAME=jammy\n",
            "ID=ubuntu\n",
            "ID_LIKE=debian\n",
            "HOME_URL=\"https://www.ubuntu.com/\"\n",
            "SUPPORT_URL=\"https://help.ubuntu.com/\"\n",
            "BUG_REPORT_URL=\"https://bugs.launchpad.net/ubuntu/\"\n",
            "PRIVACY_POLICY_URL=\"https://www.ubuntu.com/legal/terms-and-policies/privacy-policy\"\n",
            "UBUNTU_CODENAME=jammy\n"
          ]
        },
        {
          "output_type": "execute_result",
          "data": {
            "text/plain": [
              "(20, 2)"
            ]
          },
          "metadata": {},
          "execution_count": 35
        }
      ],
      "source": [
        "!python --version\n",
        "!cat /etc/*release\n",
        "df.shape"
      ]
    },
    {
      "cell_type": "code",
      "execution_count": 36,
      "id": "b83b14b6",
      "metadata": {
        "id": "b83b14b6",
        "outputId": "32a5721d-afaf-46ab-f3fe-88009ba89ef3",
        "colab": {
          "base_uri": "https://localhost:8080/",
          "height": 204
        }
      },
      "outputs": [
        {
          "output_type": "execute_result",
          "data": {
            "text/plain": [
              "pandas.core.frame.DataFrame"
            ],
            "text/html": [
              "<div style=\"max-width:800px; border: 1px solid var(--colab-border-color);\"><style>\n",
              "      pre.function-repr-contents {\n",
              "        overflow-x: auto;\n",
              "        padding: 8px 12px;\n",
              "        max-height: 500px;\n",
              "      }\n",
              "\n",
              "      pre.function-repr-contents.function-repr-contents-collapsed {\n",
              "        cursor: pointer;\n",
              "        max-height: 100px;\n",
              "      }\n",
              "    </style>\n",
              "    <pre style=\"white-space: initial; background:\n",
              "         var(--colab-secondary-surface-color); padding: 8px 12px;\n",
              "         border-bottom: 1px solid var(--colab-border-color);\"><b>pandas.core.frame.DataFrame</b><br/>def __init__(data=None, index: Axes | None=None, columns: Axes | None=None, dtype: Dtype | None=None, copy: bool | None=None) -&gt; None</pre><pre class=\"function-repr-contents function-repr-contents-collapsed\" style=\"\"><a class=\"filepath\" style=\"display:none\" href=\"#\">/usr/local/lib/python3.12/dist-packages/pandas/core/frame.py</a>Two-dimensional, size-mutable, potentially heterogeneous tabular data.\n",
              "\n",
              "Data structure also contains labeled axes (rows and columns).\n",
              "Arithmetic operations align on both row and column labels. Can be\n",
              "thought of as a dict-like container for Series objects. The primary\n",
              "pandas data structure.\n",
              "\n",
              "Parameters\n",
              "----------\n",
              "data : ndarray (structured or homogeneous), Iterable, dict, or DataFrame\n",
              "    Dict can contain Series, arrays, constants, dataclass or list-like objects. If\n",
              "    data is a dict, column order follows insertion-order. If a dict contains Series\n",
              "    which have an index defined, it is aligned by its index. This alignment also\n",
              "    occurs if data is a Series or a DataFrame itself. Alignment is done on\n",
              "    Series/DataFrame inputs.\n",
              "\n",
              "    If data is a list of dicts, column order follows insertion-order.\n",
              "\n",
              "index : Index or array-like\n",
              "    Index to use for resulting frame. Will default to RangeIndex if\n",
              "    no indexing information part of input data and no index provided.\n",
              "columns : Index or array-like\n",
              "    Column labels to use for resulting frame when data does not have them,\n",
              "    defaulting to RangeIndex(0, 1, 2, ..., n). If data contains column labels,\n",
              "    will perform column selection instead.\n",
              "dtype : dtype, default None\n",
              "    Data type to force. Only a single dtype is allowed. If None, infer.\n",
              "copy : bool or None, default None\n",
              "    Copy data from inputs.\n",
              "    For dict data, the default of None behaves like ``copy=True``.  For DataFrame\n",
              "    or 2d ndarray input, the default of None behaves like ``copy=False``.\n",
              "    If data is a dict containing one or more Series (possibly of different dtypes),\n",
              "    ``copy=False`` will ensure that these inputs are not copied.\n",
              "\n",
              "    .. versionchanged:: 1.3.0\n",
              "\n",
              "See Also\n",
              "--------\n",
              "DataFrame.from_records : Constructor from tuples, also record arrays.\n",
              "DataFrame.from_dict : From dicts of Series, arrays, or dicts.\n",
              "read_csv : Read a comma-separated values (csv) file into DataFrame.\n",
              "read_table : Read general delimited file into DataFrame.\n",
              "read_clipboard : Read text from clipboard into DataFrame.\n",
              "\n",
              "Notes\n",
              "-----\n",
              "Please reference the :ref:`User Guide &lt;basics.dataframe&gt;` for more information.\n",
              "\n",
              "Examples\n",
              "--------\n",
              "Constructing DataFrame from a dictionary.\n",
              "\n",
              "&gt;&gt;&gt; d = {&#x27;col1&#x27;: [1, 2], &#x27;col2&#x27;: [3, 4]}\n",
              "&gt;&gt;&gt; df = pd.DataFrame(data=d)\n",
              "&gt;&gt;&gt; df\n",
              "   col1  col2\n",
              "0     1     3\n",
              "1     2     4\n",
              "\n",
              "Notice that the inferred dtype is int64.\n",
              "\n",
              "&gt;&gt;&gt; df.dtypes\n",
              "col1    int64\n",
              "col2    int64\n",
              "dtype: object\n",
              "\n",
              "To enforce a single dtype:\n",
              "\n",
              "&gt;&gt;&gt; df = pd.DataFrame(data=d, dtype=np.int8)\n",
              "&gt;&gt;&gt; df.dtypes\n",
              "col1    int8\n",
              "col2    int8\n",
              "dtype: object\n",
              "\n",
              "Constructing DataFrame from a dictionary including Series:\n",
              "\n",
              "&gt;&gt;&gt; d = {&#x27;col1&#x27;: [0, 1, 2, 3], &#x27;col2&#x27;: pd.Series([2, 3], index=[2, 3])}\n",
              "&gt;&gt;&gt; pd.DataFrame(data=d, index=[0, 1, 2, 3])\n",
              "   col1  col2\n",
              "0     0   NaN\n",
              "1     1   NaN\n",
              "2     2   2.0\n",
              "3     3   3.0\n",
              "\n",
              "Constructing DataFrame from numpy ndarray:\n",
              "\n",
              "&gt;&gt;&gt; df2 = pd.DataFrame(np.array([[1, 2, 3], [4, 5, 6], [7, 8, 9]]),\n",
              "...                    columns=[&#x27;a&#x27;, &#x27;b&#x27;, &#x27;c&#x27;])\n",
              "&gt;&gt;&gt; df2\n",
              "   a  b  c\n",
              "0  1  2  3\n",
              "1  4  5  6\n",
              "2  7  8  9\n",
              "\n",
              "Constructing DataFrame from a numpy ndarray that has labeled columns:\n",
              "\n",
              "&gt;&gt;&gt; data = np.array([(1, 2, 3), (4, 5, 6), (7, 8, 9)],\n",
              "...                 dtype=[(&quot;a&quot;, &quot;i4&quot;), (&quot;b&quot;, &quot;i4&quot;), (&quot;c&quot;, &quot;i4&quot;)])\n",
              "&gt;&gt;&gt; df3 = pd.DataFrame(data, columns=[&#x27;c&#x27;, &#x27;a&#x27;])\n",
              "...\n",
              "&gt;&gt;&gt; df3\n",
              "   c  a\n",
              "0  3  1\n",
              "1  6  4\n",
              "2  9  7\n",
              "\n",
              "Constructing DataFrame from dataclass:\n",
              "\n",
              "&gt;&gt;&gt; from dataclasses import make_dataclass\n",
              "&gt;&gt;&gt; Point = make_dataclass(&quot;Point&quot;, [(&quot;x&quot;, int), (&quot;y&quot;, int)])\n",
              "&gt;&gt;&gt; pd.DataFrame([Point(0, 0), Point(0, 3), Point(2, 3)])\n",
              "   x  y\n",
              "0  0  0\n",
              "1  0  3\n",
              "2  2  3\n",
              "\n",
              "Constructing DataFrame from Series/DataFrame:\n",
              "\n",
              "&gt;&gt;&gt; ser = pd.Series([1, 2, 3], index=[&quot;a&quot;, &quot;b&quot;, &quot;c&quot;])\n",
              "&gt;&gt;&gt; df = pd.DataFrame(data=ser, index=[&quot;a&quot;, &quot;c&quot;])\n",
              "&gt;&gt;&gt; df\n",
              "   0\n",
              "a  1\n",
              "c  3\n",
              "\n",
              "&gt;&gt;&gt; df1 = pd.DataFrame([1, 2, 3], index=[&quot;a&quot;, &quot;b&quot;, &quot;c&quot;], columns=[&quot;x&quot;])\n",
              "&gt;&gt;&gt; df2 = pd.DataFrame(data=df1, index=[&quot;a&quot;, &quot;c&quot;])\n",
              "&gt;&gt;&gt; df2\n",
              "   x\n",
              "a  1\n",
              "c  3</pre>\n",
              "      <script>\n",
              "      if (google.colab.kernel.accessAllowed && google.colab.files && google.colab.files.view) {\n",
              "        for (const element of document.querySelectorAll('.filepath')) {\n",
              "          element.style.display = 'block'\n",
              "          element.onclick = (event) => {\n",
              "            event.preventDefault();\n",
              "            event.stopPropagation();\n",
              "            google.colab.files.view(element.textContent, 509);\n",
              "          };\n",
              "        }\n",
              "      }\n",
              "      for (const element of document.querySelectorAll('.function-repr-contents')) {\n",
              "        element.onclick = (event) => {\n",
              "          event.preventDefault();\n",
              "          event.stopPropagation();\n",
              "          element.classList.toggle('function-repr-contents-collapsed');\n",
              "        };\n",
              "      }\n",
              "      </script>\n",
              "      </div>"
            ]
          },
          "metadata": {},
          "execution_count": 36
        }
      ],
      "source": [
        "type(df)"
      ]
    },
    {
      "cell_type": "markdown",
      "id": "d61ac803",
      "metadata": {
        "id": "d61ac803"
      },
      "source": [
        "The object `df` is a Pandas **DataFrame**. Think of it like a `dict` of columns (`name: column`). (Or like an Excel file!)\n",
        "\n",
        "So, we can access the columns like this:"
      ]
    },
    {
      "cell_type": "code",
      "execution_count": 37,
      "id": "773f394c",
      "metadata": {
        "id": "773f394c"
      },
      "outputs": [],
      "source": [
        "x = df['x']\n",
        "y = df['y']"
      ]
    },
    {
      "cell_type": "code",
      "execution_count": 38,
      "id": "28e2c09f",
      "metadata": {
        "id": "28e2c09f",
        "outputId": "6a7a2fb9-c774-4b38-fb3d-72f1141a00be",
        "colab": {
          "base_uri": "https://localhost:8080/",
          "height": 204
        }
      },
      "outputs": [
        {
          "output_type": "execute_result",
          "data": {
            "text/plain": [
              "pandas.core.series.Series"
            ],
            "text/html": [
              "<div style=\"max-width:800px; border: 1px solid var(--colab-border-color);\"><style>\n",
              "      pre.function-repr-contents {\n",
              "        overflow-x: auto;\n",
              "        padding: 8px 12px;\n",
              "        max-height: 500px;\n",
              "      }\n",
              "\n",
              "      pre.function-repr-contents.function-repr-contents-collapsed {\n",
              "        cursor: pointer;\n",
              "        max-height: 100px;\n",
              "      }\n",
              "    </style>\n",
              "    <pre style=\"white-space: initial; background:\n",
              "         var(--colab-secondary-surface-color); padding: 8px 12px;\n",
              "         border-bottom: 1px solid var(--colab-border-color);\"><b>pandas.core.series.Series</b><br/>def __init__(data=None, index=None, dtype: Dtype | None=None, name=None, copy: bool | None=None, fastpath: bool | lib.NoDefault=lib.no_default) -&gt; None</pre><pre class=\"function-repr-contents function-repr-contents-collapsed\" style=\"\"><a class=\"filepath\" style=\"display:none\" href=\"#\">/usr/local/lib/python3.12/dist-packages/pandas/core/series.py</a>One-dimensional ndarray with axis labels (including time series).\n",
              "\n",
              "Labels need not be unique but must be a hashable type. The object\n",
              "supports both integer- and label-based indexing and provides a host of\n",
              "methods for performing operations involving the index. Statistical\n",
              "methods from ndarray have been overridden to automatically exclude\n",
              "missing data (currently represented as NaN).\n",
              "\n",
              "Operations between Series (+, -, /, \\*, \\*\\*) align values based on their\n",
              "associated index values-- they need not be the same length. The result\n",
              "index will be the sorted union of the two indexes.\n",
              "\n",
              "Parameters\n",
              "----------\n",
              "data : array-like, Iterable, dict, or scalar value\n",
              "    Contains data stored in Series. If data is a dict, argument order is\n",
              "    maintained.\n",
              "index : array-like or Index (1d)\n",
              "    Values must be hashable and have the same length as `data`.\n",
              "    Non-unique index values are allowed. Will default to\n",
              "    RangeIndex (0, 1, 2, ..., n) if not provided. If data is dict-like\n",
              "    and index is None, then the keys in the data are used as the index. If the\n",
              "    index is not None, the resulting Series is reindexed with the index values.\n",
              "dtype : str, numpy.dtype, or ExtensionDtype, optional\n",
              "    Data type for the output Series. If not specified, this will be\n",
              "    inferred from `data`.\n",
              "    See the :ref:`user guide &lt;basics.dtypes&gt;` for more usages.\n",
              "name : Hashable, default None\n",
              "    The name to give to the Series.\n",
              "copy : bool, default False\n",
              "    Copy input data. Only affects Series or 1d ndarray input. See examples.\n",
              "\n",
              "Notes\n",
              "-----\n",
              "Please reference the :ref:`User Guide &lt;basics.series&gt;` for more information.\n",
              "\n",
              "Examples\n",
              "--------\n",
              "Constructing Series from a dictionary with an Index specified\n",
              "\n",
              "&gt;&gt;&gt; d = {&#x27;a&#x27;: 1, &#x27;b&#x27;: 2, &#x27;c&#x27;: 3}\n",
              "&gt;&gt;&gt; ser = pd.Series(data=d, index=[&#x27;a&#x27;, &#x27;b&#x27;, &#x27;c&#x27;])\n",
              "&gt;&gt;&gt; ser\n",
              "a   1\n",
              "b   2\n",
              "c   3\n",
              "dtype: int64\n",
              "\n",
              "The keys of the dictionary match with the Index values, hence the Index\n",
              "values have no effect.\n",
              "\n",
              "&gt;&gt;&gt; d = {&#x27;a&#x27;: 1, &#x27;b&#x27;: 2, &#x27;c&#x27;: 3}\n",
              "&gt;&gt;&gt; ser = pd.Series(data=d, index=[&#x27;x&#x27;, &#x27;y&#x27;, &#x27;z&#x27;])\n",
              "&gt;&gt;&gt; ser\n",
              "x   NaN\n",
              "y   NaN\n",
              "z   NaN\n",
              "dtype: float64\n",
              "\n",
              "Note that the Index is first build with the keys from the dictionary.\n",
              "After this the Series is reindexed with the given Index values, hence we\n",
              "get all NaN as a result.\n",
              "\n",
              "Constructing Series from a list with `copy=False`.\n",
              "\n",
              "&gt;&gt;&gt; r = [1, 2]\n",
              "&gt;&gt;&gt; ser = pd.Series(r, copy=False)\n",
              "&gt;&gt;&gt; ser.iloc[0] = 999\n",
              "&gt;&gt;&gt; r\n",
              "[1, 2]\n",
              "&gt;&gt;&gt; ser\n",
              "0    999\n",
              "1      2\n",
              "dtype: int64\n",
              "\n",
              "Due to input data type the Series has a `copy` of\n",
              "the original data even though `copy=False`, so\n",
              "the data is unchanged.\n",
              "\n",
              "Constructing Series from a 1d ndarray with `copy=False`.\n",
              "\n",
              "&gt;&gt;&gt; r = np.array([1, 2])\n",
              "&gt;&gt;&gt; ser = pd.Series(r, copy=False)\n",
              "&gt;&gt;&gt; ser.iloc[0] = 999\n",
              "&gt;&gt;&gt; r\n",
              "array([999,   2])\n",
              "&gt;&gt;&gt; ser\n",
              "0    999\n",
              "1      2\n",
              "dtype: int64\n",
              "\n",
              "Due to input data type the Series has a `view` on\n",
              "the original data, so\n",
              "the data is changed as well.</pre>\n",
              "      <script>\n",
              "      if (google.colab.kernel.accessAllowed && google.colab.files && google.colab.files.view) {\n",
              "        for (const element of document.querySelectorAll('.filepath')) {\n",
              "          element.style.display = 'block'\n",
              "          element.onclick = (event) => {\n",
              "            event.preventDefault();\n",
              "            event.stopPropagation();\n",
              "            google.colab.files.view(element.textContent, 263);\n",
              "          };\n",
              "        }\n",
              "      }\n",
              "      for (const element of document.querySelectorAll('.function-repr-contents')) {\n",
              "        element.onclick = (event) => {\n",
              "          event.preventDefault();\n",
              "          event.stopPropagation();\n",
              "          element.classList.toggle('function-repr-contents-collapsed');\n",
              "        };\n",
              "      }\n",
              "      </script>\n",
              "      </div>"
            ]
          },
          "metadata": {},
          "execution_count": 38
        }
      ],
      "source": [
        "type(x)"
      ]
    },
    {
      "cell_type": "markdown",
      "id": "099cf818",
      "metadata": {
        "id": "099cf818"
      },
      "source": [
        "Each column is a Pandas **Series**, which is like a list of values, but they must all be of the same type (`dtype`):"
      ]
    },
    {
      "cell_type": "code",
      "execution_count": 39,
      "id": "fc2b2d5a",
      "metadata": {
        "id": "fc2b2d5a",
        "outputId": "3801b37c-0e86-41f9-c826-f7e076e9f465",
        "colab": {
          "base_uri": "https://localhost:8080/"
        }
      },
      "outputs": [
        {
          "output_type": "execute_result",
          "data": {
            "text/plain": [
              "dtype('float64')"
            ]
          },
          "metadata": {},
          "execution_count": 39
        }
      ],
      "source": [
        "x.dtype"
      ]
    },
    {
      "cell_type": "markdown",
      "id": "d3656f9a",
      "metadata": {
        "id": "d3656f9a"
      },
      "source": [
        "In fact, a **Series** is almost exactly the same as a 1D Numpy **array**, which we'll see shortly. They can be used interchangeably."
      ]
    },
    {
      "cell_type": "markdown",
      "id": "407e873f",
      "metadata": {
        "id": "407e873f"
      },
      "source": [
        "### Plotting data with `Matplotlib`\n",
        "\n",
        "Let's visualise the data by making a **scatterplot** using `Matplotlib`. We can pass in lists, Numpy arrays, Pandas Series..."
      ]
    },
    {
      "cell_type": "code",
      "execution_count": 40,
      "id": "dfbcda6d",
      "metadata": {
        "id": "dfbcda6d",
        "outputId": "9c626801-775c-4e0b-8543-71ce747038a5",
        "colab": {
          "base_uri": "https://localhost:8080/",
          "height": 447
        }
      },
      "outputs": [
        {
          "output_type": "execute_result",
          "data": {
            "text/plain": [
              "<matplotlib.collections.PathCollection at 0x7d290193a540>"
            ]
          },
          "metadata": {},
          "execution_count": 40
        },
        {
          "output_type": "display_data",
          "data": {
            "text/plain": [
              "<Figure size 640x480 with 1 Axes>"
            ],
            "image/png": "[encoded data removed]"
          },
          "metadata": {}
        }
      ],
      "source": [
        "plt.scatter(x, y)"
      ]
    },
    {
      "cell_type": "markdown",
      "id": "d58cae4a",
      "metadata": {
        "id": "d58cae4a"
      },
      "source": [
        "That looks good. A plot made by `Matplotlib` appears directly in Jupyter Notebook.\n",
        "\n",
        "But notice that ugly `<matplotlib.collections.PathCollection at 0x1b6335f2358>`. That's because `plt.scatter` also returns an object which we don't really care about. In Jupyter, the value of the last expression in a cell is always printed."
      ]
    },
    {
      "cell_type": "markdown",
      "id": "3968f020",
      "metadata": {
        "id": "3968f020"
      },
      "source": [
        "Let's remove that ugly text. We introduce the semi-colon `;` which can be used to put multiple expressions on the same line:"
      ]
    },
    {
      "cell_type": "code",
      "execution_count": 41,
      "id": "b88ddaf1",
      "metadata": {
        "id": "b88ddaf1",
        "outputId": "f10fd9a7-0fd9-4855-aa23-d3bae594e530",
        "colab": {
          "base_uri": "https://localhost:8080/"
        }
      },
      "outputs": [
        {
          "output_type": "execute_result",
          "data": {
            "text/plain": [
              "8"
            ]
          },
          "metadata": {},
          "execution_count": 41
        }
      ],
      "source": [
        "2 * 3; 2 * 4"
      ]
    },
    {
      "cell_type": "markdown",
      "id": "1c9b9202",
      "metadata": {
        "id": "1c9b9202"
      },
      "source": [
        "No-one **ever** uses a semi-colon except in the following `Matplotlib`/Jupyter Notebook hack.\n",
        "\n",
        "We add a semi-colon after `plt.scatter`, which means there is now an **empty expression** after it. It has no value, so nothing is printed."
      ]
    },
    {
      "cell_type": "code",
      "execution_count": 42,
      "id": "6e0d977f",
      "metadata": {
        "id": "6e0d977f",
        "outputId": "7e3d5800-91e4-4b15-917b-46bb5cfca26a",
        "colab": {
          "base_uri": "https://localhost:8080/",
          "height": 430
        }
      },
      "outputs": [
        {
          "output_type": "display_data",
          "data": {
            "text/plain": [
              "<Figure size 640x480 with 1 Axes>"
            ],
            "image/png": "[encoded data removed]"
          },
          "metadata": {}
        }
      ],
      "source": [
        "plt.scatter(x, y);"
      ]
    },
    {
      "cell_type": "markdown",
      "id": "6ce97f78",
      "metadata": {
        "id": "6ce97f78"
      },
      "source": [
        "In all of the plots below, we'll use this semi-colon trick on the last line."
      ]
    },
    {
      "cell_type": "markdown",
      "id": "0dd4f66c",
      "metadata": {
        "id": "0dd4f66c"
      },
      "source": [
        "Now, I notice that the $y$-axis doesn't start at zero."
      ]
    },
    {
      "cell_type": "markdown",
      "id": "5f564b01",
      "metadata": {
        "id": "5f564b01"
      },
      "source": [
        "I can control the lower and upper bounds for both axes like this:"
      ]
    },
    {
      "cell_type": "code",
      "execution_count": null,
      "id": "fc5ef176",
      "metadata": {
        "id": "fc5ef176",
        "outputId": "84b76d25-4f9f-48fe-9ac0-7269f014cd8b"
      },
      "outputs": [
        {
          "data": {
            "image/png": "[encoded data removed]",
            "text/plain": [
              "<Figure size 432x288 with 1 Axes>"
            ]
          },
          "metadata": {
            "needs_background": "light"
          },
          "output_type": "display_data"
        }
      ],
      "source": [
        "plt.scatter(x, y)\n",
        "plt.xlim((0, 10))\n",
        "plt.ylim((0, 15));"
      ]
    },
    {
      "cell_type": "markdown",
      "id": "b4fdc42c",
      "metadata": {
        "id": "b4fdc42c"
      },
      "source": [
        "And of course, we should **always** label our axes:"
      ]
    },
    {
      "cell_type": "code",
      "execution_count": null,
      "id": "316f5ca5",
      "metadata": {
        "id": "316f5ca5",
        "outputId": "a7d01e86-52b0-4735-cf80-aa504ed3789d"
      },
      "outputs": [
        {
          "data": {
            "image/png": "[encoded data removed]",
            "text/plain": [
              "<Figure size 432x288 with 1 Axes>"
            ]
          },
          "metadata": {
            "needs_background": "light"
          },
          "output_type": "display_data"
        }
      ],
      "source": [
        "plt.scatter(x, y)\n",
        "plt.xlim((0, 10))\n",
        "plt.ylim((0, 15))\n",
        "plt.xlabel(\"x\")\n",
        "plt.ylabel(\"y\");"
      ]
    },
    {
      "cell_type": "markdown",
      "id": "5350db05",
      "metadata": {
        "id": "5350db05"
      },
      "source": [
        "However, perhaps we'd like to make them look a little nicer. Axis labels are often mathematical, so we can use LaTeX to format them. The `$` symbols are interpreted by `Matplotlib` as LaTeX math delimiters. And because we often use a backslash `\\` to introduce special characters in LaTeX, it's useful to use a Python **raw string** (`r`-string) which doesn't itself interpret `\\` characters as special."
      ]
    },
    {
      "cell_type": "code",
      "execution_count": 49,
      "id": "b97da0d6",
      "metadata": {
        "id": "b97da0d6",
        "outputId": "223fd988-8782-4d31-bcf1-10fdb9267662",
        "colab": {
          "base_uri": "https://localhost:8080/",
          "height": 449
        }
      },
      "outputs": [
        {
          "output_type": "display_data",
          "data": {
            "text/plain": [
              "<Figure size 640x480 with 1 Axes>"
            ],
            "image/png": "[encoded data removed]"
          },
          "metadata": {}
        }
      ],
      "source": [
        "plt.scatter(x, y)\n",
        "plt.xlim((0, 10))\n",
        "plt.ylim((0, 15))\n",
        "plt.xlabel(r\"$x$\")\n",
        "plt.ylabel(r\"$\\phi_{173}$\"); # some nonsense formula to illustrate"
      ]
    },
    {
      "cell_type": "markdown",
      "id": "e20c0b8c",
      "metadata": {
        "id": "e20c0b8c"
      },
      "source": [
        "### Function fitting (wild guessing, Numpy, and more plotting)\n",
        "\n",
        "Next, let's guess: **what function $f$ relates $y$ to $x$, ie y = f(x)?** I don't have a clue, so let's try:"
      ]
    },
    {
      "cell_type": "code",
      "execution_count": 50,
      "id": "1715ec5a",
      "metadata": {
        "id": "1715ec5a"
      },
      "outputs": [],
      "source": [
        "def f_guess(x):\n",
        "    return 3 * np.log(0.5 * x + 1)"
      ]
    },
    {
      "cell_type": "markdown",
      "id": "ba8fd924",
      "metadata": {
        "id": "ba8fd924"
      },
      "source": [
        "Now the above function looks innocent. We can run it as you might expect:"
      ]
    },
    {
      "cell_type": "code",
      "execution_count": 51,
      "id": "d73962f4",
      "metadata": {
        "id": "d73962f4",
        "outputId": "12b5a5b6-5dbb-43c4-ee87-8a699f630b7e",
        "colab": {
          "base_uri": "https://localhost:8080/"
        }
      },
      "outputs": [
        {
          "output_type": "execute_result",
          "data": {
            "text/plain": [
              "np.float64(3.442207358512625)"
            ]
          },
          "metadata": {},
          "execution_count": 51
        }
      ],
      "source": [
        "f_guess(4.3)"
      ]
    },
    {
      "cell_type": "markdown",
      "id": "704c371f",
      "metadata": {
        "id": "704c371f"
      },
      "source": [
        "And if we need to run it many times, we can:"
      ]
    },
    {
      "cell_type": "code",
      "execution_count": 54,
      "id": "89f85389",
      "metadata": {
        "id": "89f85389",
        "outputId": "e60cf065-59f1-4da2-d5c6-79e96d7bd9d0",
        "colab": {
          "base_uri": "https://localhost:8080/"
        }
      },
      "outputs": [
        {
          "output_type": "stream",
          "name": "stdout",
          "text": [
            "8.73 5.04\n",
            "6.15 4.21\n",
            "2.76 2.60\n",
            "1.89 2.00\n",
            "8.76 5.05\n",
            "1.64 1.80\n",
            "7.03 4.52\n",
            "1.41 1.60\n",
            "9.07 5.13\n",
            "9.88 5.35\n",
            "5.01 3.76\n",
            "0.45 0.61\n",
            "2.97 2.73\n",
            "1.36 1.56\n",
            "0.38 0.52\n",
            "6.30 4.27\n",
            "7.82 4.77\n",
            "7.37 4.63\n",
            "1.70 1.85\n",
            "6.20 4.23\n"
          ]
        }
      ],
      "source": [
        "for xi in x:\n",
        "    print(f\"{xi:.2f} {f_guess(xi):.2f}\") #The colon (:) introduces the format specifier, a Format Specification Mini-Language that tells Python how to present the variable's value"
      ]
    },
    {
      "cell_type": "markdown",
      "id": "68874267",
      "metadata": {
        "id": "68874267"
      },
      "source": [
        "However, with Numpy a function like this is **vectorised**. If the argument is an `array`, all the calls (like `np.log`) and operators (like `*` and `+`) take `array` inputs and return `array` outputs.\n",
        "\n",
        "They work by looping in underlying C or Fortran code, so it's much faster than looping in Python as above.\n",
        "\n",
        "Remember: someone has to write loops, but it doesn't have to be you."
      ]
    },
    {
      "cell_type": "code",
      "execution_count": null,
      "id": "d6f2b946",
      "metadata": {
        "id": "d6f2b946"
      },
      "outputs": [],
      "source": [
        "z = np.array([0.0, 1.0, 2.0]) # make an array from a list"
      ]
    },
    {
      "cell_type": "markdown",
      "id": "5eac93ce",
      "metadata": {
        "id": "5eac93ce"
      },
      "source": [
        "This is our first encounter with a true Numpy array, the most central object in the Python numerical ecosystem."
      ]
    },
    {
      "cell_type": "code",
      "execution_count": null,
      "id": "f9981993",
      "metadata": {
        "id": "f9981993",
        "outputId": "68c4bfd4-0bfd-49c2-8805-5df0b78dcf95"
      },
      "outputs": [
        {
          "data": {
            "text/plain": [
              "numpy.ndarray"
            ]
          },
          "execution_count": 22,
          "metadata": {},
          "output_type": "execute_result"
        }
      ],
      "source": [
        "type(z)"
      ]
    },
    {
      "cell_type": "markdown",
      "id": "b8b3b1ba",
      "metadata": {
        "id": "b8b3b1ba"
      },
      "source": [
        "In an `array`, just like in a Pandas column, all values have the same type, called `dtype`:"
      ]
    },
    {
      "cell_type": "code",
      "execution_count": null,
      "id": "98f86ab3",
      "metadata": {
        "id": "98f86ab3",
        "outputId": "6b288cad-3999-4988-eb35-cd264f7231b5"
      },
      "outputs": [
        {
          "data": {
            "text/plain": [
              "dtype('float64')"
            ]
          },
          "execution_count": 23,
          "metadata": {},
          "output_type": "execute_result"
        }
      ],
      "source": [
        "z.dtype"
      ]
    },
    {
      "cell_type": "markdown",
      "id": "68fcd12f",
      "metadata": {
        "id": "68fcd12f"
      },
      "source": [
        "Numpy `array`s have a *shape* (same concept as a Pandas DataFrame shape), which is just a tuple of `int`s. A 1D array like this only has a single value:"
      ]
    },
    {
      "cell_type": "code",
      "execution_count": null,
      "id": "1ab6b645",
      "metadata": {
        "id": "1ab6b645",
        "outputId": "afcf04f0-deee-4860-f0eb-e6d6a319c6d3"
      },
      "outputs": [
        {
          "data": {
            "text/plain": [
              "(3,)"
            ]
          },
          "execution_count": 24,
          "metadata": {},
          "output_type": "execute_result"
        }
      ],
      "source": [
        "z.shape"
      ]
    },
    {
      "cell_type": "markdown",
      "id": "b3ec416c",
      "metadata": {
        "id": "b3ec416c"
      },
      "source": [
        "So, we can calculate the value of `f_guess` on all of `x`:"
      ]
    },
    {
      "cell_type": "code",
      "execution_count": null,
      "id": "0160398c",
      "metadata": {
        "id": "0160398c",
        "outputId": "bfb2d30b-10e1-4f38-f803-69c2636ef768"
      },
      "outputs": [
        {
          "data": {
            "text/plain": [
              "0     5.039689\n",
              "1     4.214612\n",
              "2     2.601301\n",
              "3     1.995786\n",
              "4     5.048065\n",
              "5     1.796510\n",
              "6     4.522216\n",
              "7     1.600695\n",
              "8     5.133275\n",
              "9     5.345127\n",
              "10    3.762572\n",
              "11    0.608823\n",
              "12    2.730818\n",
              "13    1.556381\n",
              "14    0.521860\n",
              "15    4.269325\n",
              "16    4.773822\n",
              "17    4.633098\n",
              "18    1.845557\n",
              "19    4.232961\n",
              "Name: x, dtype: float64"
            ]
          },
          "execution_count": 25,
          "metadata": {},
          "output_type": "execute_result"
        }
      ],
      "source": [
        "f_guess(x)"
      ]
    },
    {
      "cell_type": "markdown",
      "id": "bb42eba6",
      "metadata": {
        "id": "bb42eba6"
      },
      "source": [
        "We can plot both the true data and our guesses on the same plot. Look carefully at the two `plt.scatter` calls. Notice they have the same `x`. It is only our guesses for the $y$-value at each $x$ which differ."
      ]
    },
    {
      "cell_type": "code",
      "execution_count": null,
      "id": "48992fc8",
      "metadata": {
        "id": "48992fc8",
        "outputId": "dd125839-203b-4947-bcd9-20526a7b1e69"
      },
      "outputs": [
        {
          "data": {
            "image/png": "[encoded data removed]",
            "text/plain": [
              "<Figure size 432x288 with 1 Axes>"
            ]
          },
          "metadata": {
            "needs_background": "light"
          },
          "output_type": "display_data"
        }
      ],
      "source": [
        "plt.scatter(x, y)\n",
        "plt.scatter(x, f_guess(x))\n",
        "plt.xlim((0, 10))\n",
        "plt.ylim((0, 15))\n",
        "plt.xlabel(r\"$x$\")\n",
        "plt.ylabel(r\"$\\phi_{173}$\");"
      ]
    },
    {
      "cell_type": "markdown",
      "id": "9ee29145",
      "metadata": {
        "id": "9ee29145"
      },
      "source": [
        "`Matplotlib` automatically introduces nice colours. But this will still be confusing. Which is which? We can use labels and a legend. Notice we pass in a `label` to each `scatter` call, and then the `legend` will use them."
      ]
    },
    {
      "cell_type": "code",
      "execution_count": null,
      "id": "1b802bb3",
      "metadata": {
        "id": "1b802bb3",
        "outputId": "268bb105-50fd-48b1-d861-2d70800571d7"
      },
      "outputs": [
        {
          "data": {
            "image/png": "[encoded data removed]",
            "text/plain": [
              "<Figure size 432x288 with 1 Axes>"
            ]
          },
          "metadata": {
            "needs_background": "light"
          },
          "output_type": "display_data"
        }
      ],
      "source": [
        "plt.scatter(x, y, label=\"Data\")\n",
        "plt.scatter(x, f_guess(x), label=\"Guess\")\n",
        "plt.xlim((0, 10)); plt.ylim((0, 15))\n",
        "plt.xlabel(r\"$x$\"); plt.ylabel(r\"$\\phi_{173}$\") # ok, I lied\n",
        "plt.legend();"
      ]
    },
    {
      "cell_type": "markdown",
      "id": "7bce54c1",
      "metadata": {
        "id": "7bce54c1"
      },
      "source": [
        "Above, we are looking at the guessed $y$ values for each $x$. But since we have a **function** `f_guess`, we can do better."
      ]
    },
    {
      "cell_type": "markdown",
      "id": "7eeb847d",
      "metadata": {
        "id": "7eeb847d"
      },
      "source": [
        "We plot the entire function, not just points. We do this by **sampling** $x$ on a grid using `linspace`:"
      ]
    },
    {
      "cell_type": "code",
      "execution_count": null,
      "id": "d343a63b",
      "metadata": {
        "id": "d343a63b",
        "outputId": "a0a100ed-df92-49ff-82ec-bfc44bad085e"
      },
      "outputs": [
        {
          "data": {
            "text/plain": [
              "array([ 0. ,  0.1,  0.2,  0.3,  0.4,  0.5,  0.6,  0.7,  0.8,  0.9,  1. ,\n",
              "        1.1,  1.2,  1.3,  1.4,  1.5,  1.6,  1.7,  1.8,  1.9,  2. ,  2.1,\n",
              "        2.2,  2.3,  2.4,  2.5,  2.6,  2.7,  2.8,  2.9,  3. ,  3.1,  3.2,\n",
              "        3.3,  3.4,  3.5,  3.6,  3.7,  3.8,  3.9,  4. ,  4.1,  4.2,  4.3,\n",
              "        4.4,  4.5,  4.6,  4.7,  4.8,  4.9,  5. ,  5.1,  5.2,  5.3,  5.4,\n",
              "        5.5,  5.6,  5.7,  5.8,  5.9,  6. ,  6.1,  6.2,  6.3,  6.4,  6.5,\n",
              "        6.6,  6.7,  6.8,  6.9,  7. ,  7.1,  7.2,  7.3,  7.4,  7.5,  7.6,\n",
              "        7.7,  7.8,  7.9,  8. ,  8.1,  8.2,  8.3,  8.4,  8.5,  8.6,  8.7,\n",
              "        8.8,  8.9,  9. ,  9.1,  9.2,  9.3,  9.4,  9.5,  9.6,  9.7,  9.8,\n",
              "        9.9, 10. ])"
            ]
          },
          "execution_count": 28,
          "metadata": {},
          "output_type": "execute_result"
        }
      ],
      "source": [
        "# start at 0, go to 10, give 101 evenly-spaced points, including 10 itself\n",
        "xgrid = np.linspace(0, 10, 101, endpoint=True)\n",
        "xgrid"
      ]
    },
    {
      "cell_type": "markdown",
      "id": "b1349a37",
      "metadata": {
        "id": "b1349a37"
      },
      "source": [
        "The following again applies our function `f_guess` to a Numpy `array`, and the result is an `array`."
      ]
    },
    {
      "cell_type": "code",
      "execution_count": null,
      "id": "bdff7932",
      "metadata": {
        "id": "bdff7932"
      },
      "outputs": [],
      "source": [
        "y_guess_grid = f_guess(xgrid)"
      ]
    },
    {
      "cell_type": "code",
      "execution_count": null,
      "id": "9bf6a3bd",
      "metadata": {
        "id": "9bf6a3bd",
        "outputId": "bd0f029b-e04f-4e12-ac3e-caba2a2cf6b9"
      },
      "outputs": [
        {
          "data": {
            "image/png": "[encoded data removed]",
            "text/plain": [
              "<Figure size 432x288 with 1 Axes>"
            ]
          },
          "metadata": {
            "needs_background": "light"
          },
          "output_type": "display_data"
        }
      ],
      "source": [
        "plt.scatter(x, y, label=\"Data\")\n",
        "plt.plot(xgrid, y_guess_grid, label=\"Guess\")\n",
        "plt.xlim((0, 10)); plt.ylim((0, 15))\n",
        "plt.xlabel(r\"$x$\"); plt.ylabel(r\"$\\phi_{173}$\")\n",
        "plt.legend();"
      ]
    },
    {
      "cell_type": "markdown",
      "id": "fc9fd42c",
      "metadata": {
        "id": "fc9fd42c"
      },
      "source": [
        "That's nice - we can really see the shape of `f_guess` now. But the colour disappeared!"
      ]
    },
    {
      "cell_type": "markdown",
      "id": "2c8b6c24",
      "metadata": {
        "id": "2c8b6c24"
      },
      "source": [
        "We can control colour directly using `c` as below. There are several ways of specifying colours and styles but let's use the simplest, a colour string:"
      ]
    },
    {
      "cell_type": "code",
      "execution_count": null,
      "id": "08f921bb",
      "metadata": {
        "id": "08f921bb",
        "outputId": "b091b6c2-db78-4b42-c852-6cd4e42b3840"
      },
      "outputs": [
        {
          "data": {
            "image/png": "[encoded data removed]",
            "text/plain": [
              "<Figure size 432x288 with 1 Axes>"
            ]
          },
          "metadata": {
            "needs_background": "light"
          },
          "output_type": "display_data"
        }
      ],
      "source": [
        "plt.scatter(x, y, label=\"Data\")\n",
        "plt.plot(xgrid, y_guess_grid, c=\"orange\", label=\"Guess\")\n",
        "plt.xlim((0, 10)); plt.ylim((0, 15))\n",
        "plt.xlabel(r\"$x$\"); plt.ylabel(r\"$\\phi_{173}$\")\n",
        "plt.legend();"
      ]
    },
    {
      "cell_type": "markdown",
      "id": "0f0e5a6d",
      "metadata": {
        "id": "0f0e5a6d"
      },
      "source": [
        "Now it's obvious our guess was not very good! Let's try another guess."
      ]
    },
    {
      "cell_type": "code",
      "execution_count": null,
      "id": "ac8454b0",
      "metadata": {
        "id": "ac8454b0"
      },
      "outputs": [],
      "source": [
        "def f_guess2(x): return 1.3 ** x\n",
        "y_guess2_grid = f_guess2(xgrid)"
      ]
    },
    {
      "cell_type": "code",
      "execution_count": null,
      "id": "da69e1fc",
      "metadata": {
        "id": "da69e1fc",
        "outputId": "8ad7a106-3f5d-4fa5-9185-81d6e2e98962"
      },
      "outputs": [
        {
          "data": {
            "image/png": "[encoded data removed]",
            "text/plain": [
              "<Figure size 432x288 with 1 Axes>"
            ]
          },
          "metadata": {
            "needs_background": "light"
          },
          "output_type": "display_data"
        }
      ],
      "source": [
        "plt.scatter(x, y, label=\"Data\")\n",
        "plt.plot(xgrid, y_guess_grid, c=\"orange\", label=\"Guess\")\n",
        "plt.plot(xgrid, y_guess2_grid, c=\"green\", label=\"Guess 2\")\n",
        "plt.xlim((0, 10)); plt.ylim((0, 15))\n",
        "plt.xlabel(r\"$x$\"); plt.ylabel(r\"$\\phi_{173}$\")\n",
        "plt.legend();"
      ]
    },
    {
      "cell_type": "markdown",
      "id": "e564e1e2",
      "metadata": {
        "id": "e564e1e2"
      },
      "source": [
        "Is `f_guess2` better? It's hard to say. But of course we can measure it."
      ]
    },
    {
      "cell_type": "markdown",
      "id": "44d437b4",
      "metadata": {
        "id": "44d437b4"
      },
      "source": [
        "### Measuring regression performance\n",
        "\n",
        "There are two main ways of measuring how well a guess matches true data:\n",
        "\n",
        "* Root mean-squared error RMSE\n",
        "* Correlation - usually the squared correlation $R^2$"
      ]
    },
    {
      "cell_type": "markdown",
      "id": "94440eb0",
      "metadata": {
        "id": "94440eb0"
      },
      "source": [
        "$$\\mathrm{RMSE}(a, b) = \\sqrt{\\frac{\\sum_{i=1}^n (a_i - b_i)^2}{n}}$$\n",
        "\n",
        "Here $a$ and $b$ are vectors (lists of numbers), so $a_i - b_i$ is the error at point $i$"
      ]
    },
    {
      "cell_type": "markdown",
      "id": "3e02c3aa",
      "metadata": {
        "id": "3e02c3aa"
      },
      "source": [
        "We use RMSE by passing in the true $y$ and the guess $f(x)$. Let's define it in code and try it."
      ]
    },
    {
      "cell_type": "code",
      "execution_count": null,
      "id": "3c44f8da",
      "metadata": {
        "id": "3c44f8da"
      },
      "outputs": [],
      "source": [
        "def rmse(a, b):\n",
        "    return np.sqrt(np.mean((a - b)**2))"
      ]
    },
    {
      "cell_type": "code",
      "execution_count": null,
      "id": "94ddae0e",
      "metadata": {
        "id": "94ddae0e",
        "outputId": "dd342865-3812-4f86-a533-c367b204d3df"
      },
      "outputs": [
        {
          "data": {
            "text/plain": [
              "2.5470699888588686"
            ]
          },
          "execution_count": 35,
          "metadata": {},
          "output_type": "execute_result"
        }
      ],
      "source": [
        "rmse(f_guess(x), y)"
      ]
    },
    {
      "cell_type": "code",
      "execution_count": null,
      "id": "bf67e8db",
      "metadata": {
        "id": "bf67e8db",
        "outputId": "902a89f8-04fa-46f1-ca40-6da8f835b613"
      },
      "outputs": [
        {
          "data": {
            "text/plain": [
              "3.161768844002654"
            ]
          },
          "execution_count": 36,
          "metadata": {},
          "output_type": "execute_result"
        }
      ],
      "source": [
        "rmse(f_guess2(x), y)"
      ]
    },
    {
      "cell_type": "markdown",
      "id": "a0cf7323",
      "metadata": {
        "id": "a0cf7323"
      },
      "source": [
        "It looks like `f_guess` is slightly better (smaller RMSE => smaller errors => better). But still, both are quite bad!"
      ]
    },
    {
      "cell_type": "markdown",
      "id": "d6d5e755",
      "metadata": {
        "id": "d6d5e755"
      },
      "source": [
        "Notice that here we are calling `f_guess(x)`, not `f_guess(xgrid)`, because we only want to compare the guesses against the true, known `y`."
      ]
    },
    {
      "cell_type": "markdown",
      "id": "da617192",
      "metadata": {
        "id": "da617192"
      },
      "source": [
        "Another common method of comparing is to use squared correlation $R^2$, sometimes called the **coefficient of determination**. We can use the Numpy `corrcoef` function for this:"
      ]
    },
    {
      "cell_type": "code",
      "execution_count": null,
      "id": "887d4ebd",
      "metadata": {
        "id": "887d4ebd",
        "outputId": "7b8e262e-7982-4472-9e51-4aa2042b5599"
      },
      "outputs": [
        {
          "name": "stdout",
          "output_type": "stream",
          "text": [
            "(2, 2)\n"
          ]
        },
        {
          "data": {
            "text/plain": [
              "array([[1.        , 0.34645592],\n",
              "       [0.34645592, 1.        ]])"
            ]
          },
          "execution_count": 57,
          "metadata": {},
          "output_type": "execute_result"
        }
      ],
      "source": [
        "c = np.corrcoef(f_guess(x), y)\n",
        "print(c.shape)\n",
        "c"
      ]
    },
    {
      "cell_type": "markdown",
      "id": "87f505d4",
      "metadata": {
        "id": "87f505d4"
      },
      "source": [
        "If we pass it $n$ vectors it returns an $n \\times n$ `array` giving all possible correlation coefficients. The correlation between any vector and itself is 1, so we have 1 on the diagonal. And the correlation of $a$ and $b$ is the same as the correlation of $b$ and $a$, so the `array` is symmetric, as we see above.\n",
        "\n",
        "But we only need the off-diagonal term here. How can we access it?"
      ]
    },
    {
      "cell_type": "markdown",
      "id": "35abfb43",
      "metadata": {
        "id": "35abfb43"
      },
      "source": [
        "We need an important new piece of syntax: given any Numpy array with 2 or more dimensions, we can pass a **tuple** as the index!"
      ]
    },
    {
      "cell_type": "code",
      "execution_count": null,
      "id": "0179d491",
      "metadata": {
        "id": "0179d491",
        "outputId": "a6121401-b5a6-4d67-c79e-b386631bcb46"
      },
      "outputs": [
        {
          "data": {
            "text/plain": [
              "8"
            ]
          },
          "execution_count": 39,
          "metadata": {},
          "output_type": "execute_result"
        }
      ],
      "source": [
        "A = np.array([[1, 2, 3],\n",
        "              [4, 5, 6],\n",
        "              [7, 8, 9]])\n",
        "A[2, 1] # here (2, 1) is a tuple"
      ]
    },
    {
      "cell_type": "markdown",
      "id": "4585f7e6",
      "metadata": {
        "id": "4585f7e6"
      },
      "source": [
        "### Tangent: fancy indexing/slicing\n",
        "\n",
        "You can probably guess what happens when we use only one index, or introduce slice notation as well, eg:"
      ]
    },
    {
      "cell_type": "code",
      "execution_count": null,
      "id": "6c5a9aaf",
      "metadata": {
        "id": "6c5a9aaf",
        "outputId": "47deb617-a0ce-4b03-f041-72bc2656a86f"
      },
      "outputs": [
        {
          "data": {
            "text/plain": [
              "array([1, 2, 3])"
            ]
          },
          "execution_count": 40,
          "metadata": {},
          "output_type": "execute_result"
        }
      ],
      "source": [
        "A[0] # 0th row"
      ]
    },
    {
      "cell_type": "code",
      "execution_count": null,
      "id": "9bb5cd65",
      "metadata": {
        "id": "9bb5cd65",
        "outputId": "a46b8122-0607-4ea2-cebc-3310f2719562"
      },
      "outputs": [
        {
          "data": {
            "text/plain": [
              "array([[4, 5, 6],\n",
              "       [7, 8, 9]])"
            ]
          },
          "execution_count": 41,
          "metadata": {},
          "output_type": "execute_result"
        }
      ],
      "source": [
        "A[1:3] # rows from 1 to 3 (excluding 3)"
      ]
    },
    {
      "cell_type": "code",
      "execution_count": null,
      "id": "f5468e03",
      "metadata": {
        "id": "f5468e03",
        "outputId": "21059c49-73e9-488f-cdca-a5c678badd11"
      },
      "outputs": [
        {
          "data": {
            "text/plain": [
              "array([1, 4, 7])"
            ]
          },
          "execution_count": 42,
          "metadata": {},
          "output_type": "execute_result"
        }
      ],
      "source": [
        "A[0:3, 0] # rows from 0 to 3 (excl 3), column 0"
      ]
    },
    {
      "cell_type": "code",
      "execution_count": null,
      "id": "e13ccb19",
      "metadata": {
        "id": "e13ccb19",
        "outputId": "956cd3aa-c743-4035-e09b-bf232e949b5c"
      },
      "outputs": [
        {
          "data": {
            "text/plain": [
              "array([1, 4, 7])"
            ]
          },
          "execution_count": 43,
          "metadata": {},
          "output_type": "execute_result"
        }
      ],
      "source": [
        "A[:, 0] # rows from start to end, column 0"
      ]
    },
    {
      "cell_type": "markdown",
      "id": "0fb55870",
      "metadata": {
        "id": "0fb55870"
      },
      "source": [
        "Anyway, with the tuple notation, we can define $R^2$ as follows."
      ]
    },
    {
      "cell_type": "code",
      "execution_count": null,
      "id": "35113786",
      "metadata": {
        "id": "35113786"
      },
      "outputs": [],
      "source": [
        "def rsquared(a, b):\n",
        "    M = np.corrcoef(a, b)\n",
        "    R = M[0, 1]\n",
        "    return R**2"
      ]
    },
    {
      "cell_type": "code",
      "execution_count": null,
      "id": "8165e408",
      "metadata": {
        "id": "8165e408",
        "outputId": "58cb7632-7f02-4ac9-94d6-4e9cb8c79094"
      },
      "outputs": [
        {
          "data": {
            "text/plain": [
              "0.12003170424651236"
            ]
          },
          "execution_count": 45,
          "metadata": {},
          "output_type": "execute_result"
        }
      ],
      "source": [
        "rsquared(f_guess(x), y)"
      ]
    },
    {
      "cell_type": "code",
      "execution_count": null,
      "id": "0e1601e1",
      "metadata": {
        "id": "0e1601e1",
        "outputId": "52293e5e-6075-4a42-c29d-9e2424a3878c"
      },
      "outputs": [
        {
          "data": {
            "text/plain": [
              "0.2980174153919696"
            ]
          },
          "execution_count": 46,
          "metadata": {},
          "output_type": "execute_result"
        }
      ],
      "source": [
        "rsquared(f_guess2(x), y)"
      ]
    },
    {
      "cell_type": "markdown",
      "id": "7cc07f99",
      "metadata": {
        "id": "7cc07f99"
      },
      "source": [
        "Now, remember **smaller RMSE is better**, but **larger $R^2$ is better**. So, now it seems `f_guess2` is better!\n",
        "\n",
        "`f_guess` is a bit more conservative in its guesses, and gives smaller RMSE. But `f_guess2` perhaps matches the **shape** a bit better, giving worse (larger) errors but also better (larger) $R^2$.\n",
        "\n",
        "So which is more important - RMSE or $R^2$? It depends on the application. But that's beyond our scope now."
      ]
    },
    {
      "cell_type": "markdown",
      "id": "75eb6954",
      "metadata": {
        "id": "75eb6954"
      },
      "source": [
        "### A more careful experiment\n",
        "\n",
        "Let's define a few more guesses, and give them informative names."
      ]
    },
    {
      "cell_type": "code",
      "execution_count": null,
      "id": "1d57c495",
      "metadata": {
        "id": "1d57c495"
      },
      "outputs": [],
      "source": [
        "def xsq(x): return x**2\n",
        "def xcub(x): return x**3\n",
        "def logx1(x): return np.log(x+1)\n",
        "def my_weird_fn(x): return 0.1 * np.exp(0.5 * x)"
      ]
    },
    {
      "cell_type": "markdown",
      "id": "3732aacf",
      "metadata": {
        "id": "3732aacf"
      },
      "source": [
        "Now a very important principle: in a proper experiment there should be no copy-pasting, and no manual re-running cells! These are sources of errors. Instead, put all the things we want to test into a `dict` or `list` and loop over them. Ideally the whole experiment should be wrapped up to be run in a single click."
      ]
    },
    {
      "cell_type": "code",
      "execution_count": null,
      "id": "233d10d7",
      "metadata": {
        "id": "233d10d7"
      },
      "outputs": [],
      "source": [
        "guesses = [f_guess, f_guess2, xsq, xcub, logx1, my_weird_fn]"
      ]
    },
    {
      "cell_type": "code",
      "execution_count": null,
      "id": "c8be916b",
      "metadata": {
        "id": "c8be916b",
        "outputId": "8878b01a-ec7e-4e61-88b1-d2bc91c4638e"
      },
      "outputs": [
        {
          "data": {
            "image/png": "[encoded data removed]",
            "text/plain": [
              "<Figure size 432x288 with 1 Axes>"
            ]
          },
          "metadata": {
            "needs_background": "light"
          },
          "output_type": "display_data"
        }
      ],
      "source": [
        "plt.scatter(x, y, label=\"Data\")\n",
        "for guess in guesses: # loop to plot multiple guesses\n",
        "    plt.plot(xgrid, guess(xgrid), label=guess.__name__)\n",
        "plt.xlim((0, 10)); plt.ylim((0, 15)) # ok, I lied\n",
        "plt.xlabel(r\"$x$\"); plt.ylabel(r\"$\\phi_{173}$\")\n",
        "plt.legend();"
      ]
    },
    {
      "cell_type": "markdown",
      "id": "e9610340",
      "metadata": {
        "id": "e9610340"
      },
      "source": [
        "Maybe you can do a bit better - try defining a few more functions to replace those above. Try different functions, polynomials, different constants, anything you like."
      ]
    },
    {
      "cell_type": "markdown",
      "id": "5e5eff51",
      "metadata": {
        "id": "5e5eff51"
      },
      "source": [
        "### Saving results\n",
        "\n",
        "Now, we've done a nice experiment. We've identified a function which seems to fit the data (hopefully).\n",
        "\n",
        "We need a plot suitable for inclusion in the paper we're going to submit to **Nature**."
      ]
    },
    {
      "cell_type": "markdown",
      "id": "2cca64cb",
      "metadata": {
        "id": "2cca64cb"
      },
      "source": [
        "In `Matplotlib` the image format is controlled by the filename suffix. Use `.pdf` for diagrams and plots, not `.jpg`, not `.png`.\n",
        "\n",
        "(Use `.jpg` only for photos, and `.png` only for screenshots, or if saving a plot for the web.)"
      ]
    },
    {
      "cell_type": "code",
      "execution_count": null,
      "id": "d9edd152",
      "metadata": {
        "id": "d9edd152"
      },
      "outputs": [],
      "source": [
        "img_filename = \"data/cell_growth.pdf\""
      ]
    },
    {
      "cell_type": "code",
      "execution_count": null,
      "id": "35fcce09",
      "metadata": {
        "id": "35fcce09"
      },
      "outputs": [],
      "source": [
        "plt.savefig(img_filename)\n",
        "plt.close() # when dealing with multiple plots, avoid over-plotting using close"
      ]
    },
    {
      "cell_type": "markdown",
      "id": "a25dae0f",
      "metadata": {
        "id": "a25dae0f"
      },
      "source": [
        "We'll also need a table of RMSE and $R^2$ results for publication. Let's make it in Pandas. We start by storing each row of results in a list."
      ]
    },
    {
      "cell_type": "code",
      "execution_count": null,
      "id": "578eb8d1",
      "metadata": {
        "id": "578eb8d1"
      },
      "outputs": [],
      "source": [
        "results = []\n",
        "for guess in guesses:\n",
        "    guess_y = guess(x)\n",
        "    result = (guess.__name__, rmse(y, guess_y), rsquared(y, guess_y))\n",
        "    results.append(result)"
      ]
    },
    {
      "cell_type": "code",
      "execution_count": null,
      "id": "ff20fbe5",
      "metadata": {
        "id": "ff20fbe5"
      },
      "outputs": [],
      "source": [
        "results_df = pd.DataFrame(results, columns=('fn_name', 'rmse', 'rsquared'))"
      ]
    },
    {
      "cell_type": "code",
      "execution_count": null,
      "id": "6bb2fa76",
      "metadata": {
        "id": "6bb2fa76",
        "outputId": "77c8667a-64b6-4da2-879d-1d227b8aa185"
      },
      "outputs": [
        {
          "data": {
            "text/html": [
              "<div>\n",
              "<style scoped>\n",
              "    .dataframe tbody tr th:only-of-type {\n",
              "        vertical-align: middle;\n",
              "    }\n",
              "\n",
              "    .dataframe tbody tr th {\n",
              "        vertical-align: top;\n",
              "    }\n",
              "\n",
              "    .dataframe thead th {\n",
              "        text-align: right;\n",
              "    }\n",
              "</style>\n",
              "<table border=\"1\" class=\"dataframe\">\n",
              "  <thead>\n",
              "    <tr style=\"text-align: right;\">\n",
              "      <th></th>\n",
              "      <th>fn_name</th>\n",
              "      <th>rmse</th>\n",
              "      <th>rsquared</th>\n",
              "    </tr>\n",
              "  </thead>\n",
              "  <tbody>\n",
              "    <tr>\n",
              "      <th>0</th>\n",
              "      <td>f_guess</td>\n",
              "      <td>2.547070</td>\n",
              "      <td>0.120032</td>\n",
              "    </tr>\n",
              "    <tr>\n",
              "      <th>1</th>\n",
              "      <td>f_guess2</td>\n",
              "      <td>3.161769</td>\n",
              "      <td>0.298017</td>\n",
              "    </tr>\n",
              "    <tr>\n",
              "      <th>2</th>\n",
              "      <td>xsq</td>\n",
              "      <td>42.225042</td>\n",
              "      <td>0.224947</td>\n",
              "    </tr>\n",
              "    <tr>\n",
              "      <th>3</th>\n",
              "      <td>xcub</td>\n",
              "      <td>388.647031</td>\n",
              "      <td>0.329021</td>\n",
              "    </tr>\n",
              "    <tr>\n",
              "      <th>4</th>\n",
              "      <td>logx1</td>\n",
              "      <td>3.548263</td>\n",
              "      <td>0.122482</td>\n",
              "    </tr>\n",
              "    <tr>\n",
              "      <th>5</th>\n",
              "      <td>my_weird_fn</td>\n",
              "      <td>3.061098</td>\n",
              "      <td>0.467703</td>\n",
              "    </tr>\n",
              "  </tbody>\n",
              "</table>\n",
              "</div>"
            ],
            "text/plain": [
              "       fn_name        rmse  rsquared\n",
              "0      f_guess    2.547070  0.120032\n",
              "1     f_guess2    3.161769  0.298017\n",
              "2          xsq   42.225042  0.224947\n",
              "3         xcub  388.647031  0.329021\n",
              "4        logx1    3.548263  0.122482\n",
              "5  my_weird_fn    3.061098  0.467703"
            ]
          },
          "execution_count": 54,
          "metadata": {},
          "output_type": "execute_result"
        }
      ],
      "source": [
        "results_df"
      ]
    },
    {
      "cell_type": "markdown",
      "id": "99be1851",
      "metadata": {
        "id": "99be1851"
      },
      "source": [
        "Let's write that table to disk also."
      ]
    },
    {
      "cell_type": "code",
      "execution_count": null,
      "id": "78aa0960",
      "metadata": {
        "id": "78aa0960"
      },
      "outputs": [],
      "source": [
        "results_filename = \"data/cell_growth_results.csv\"\n",
        "results_df.to_csv(results_filename, index=False) # don't write an index column"
      ]
    },
    {
      "cell_type": "code",
      "execution_count": null,
      "id": "b2ea72ff",
      "metadata": {
        "id": "b2ea72ff",
        "outputId": "e34c89f3-0225-41b1-965e-f9c7475a4ece"
      },
      "outputs": [
        {
          "name": "stdout",
          "output_type": "stream",
          "text": [
            "fn_name,rmse,rsquared\r\n",
            "f_guess,2.5470699888588686,0.12003170424651236\r\n",
            "f_guess2,3.161768844002654,0.2980174153919696\r\n",
            "xsq,42.22504191383356,0.22494680958583232\r\n",
            "xcub,388.6470314039689,0.32902140713756195\r\n",
            "logx1,3.54826331245571,0.12248168559184852\r\n",
            "my_weird_fn,3.0610980562078383,0.4677030383134019\r\n"
          ]
        }
      ],
      "source": [
        "!cat $results_filename"
      ]
    },
    {
      "cell_type": "markdown",
      "id": "b6d26127",
      "metadata": {
        "id": "b6d26127"
      },
      "source": [
        "### Going further\n",
        "\n",
        "Now we're finished. You might be wondering: why did we have to guess this manually?\n",
        "\n",
        "* We can use Linear Regression to fit a straight line to data\n",
        "* If we know a non-linear function but not the right constants, we can use Non-linear Least Squares to fit\n",
        "* If we don't even know what non-linear function to use, we can consider eg Genetic Programming!"
      ]
    },
    {
      "cell_type": "markdown",
      "id": "1ae60389",
      "metadata": {
        "id": "1ae60389"
      },
      "source": [
        "Please see Vanderplas **Python Data Science Handbook**, available for free online, as a reference for Numpy, Pandas, Matplotlib, Seaborn, Scikit-Learn."
      ]
    },
    {
      "cell_type": "markdown",
      "id": "44260d2d",
      "metadata": {
        "id": "44260d2d"
      },
      "source": [
        "### Summary: `Matplotlib`\n",
        "\n",
        "* `import matplotlib.pyplot as plt`\n",
        "* `plt.plot` for a lineplot\n",
        "* `plt.scatter` for a scatterplot\n",
        "* `plt.xlim`, `plt.ylim` to control axis ranges\n",
        "* `plt.xlabel`, `plt.ylabel` to give axis labels\n",
        "* `r'$\\phi_{173}$'` - use LaTeX maths formatting in axis labels\n",
        "* `label=` inside `plot` or `scatter` to pass labels, then `plt.legend` to use them\n",
        "* Use semi-colon `;` on last line to remove ugly output\n",
        "  "
      ]
    },
    {
      "cell_type": "markdown",
      "id": "75fd8e55",
      "metadata": {
        "id": "75fd8e55"
      },
      "source": [
        "### Summary: Numpy\n",
        "\n",
        "* `import numpy as np`\n",
        "* Central object is the **array**\n",
        "* `x = np.array([1.0, 2.0, 3.0])` to create a 1D `float` array from a list\n",
        "* `M = np.array([[1, 2, 3], [4, 5, 6], [7, 8, 9]])` to create a 2D `int` array from a list of lists\n",
        "* `np.linspace(0, 10, 101, endpoint=True)` to generate a 1D grid\n",
        "* **Vectorised functions**: eg `np.log(x)` where `x` is an array, returns an array\n",
        "* Overloaded Python operators also vectorised, eg `(a-b)**2`"
      ]
    },
    {
      "cell_type": "markdown",
      "id": "ad77dc81",
      "metadata": {
        "id": "ad77dc81"
      },
      "source": [
        "### Summary: Numpy (2)\n",
        "\n",
        "* `np.random.uniform()` to generate uniform random numbers\n",
        "* `np.random.randn()` for normally-distributed numbers\n",
        "* `np.corrcoef` for correlation coefficient\n",
        "* `np.load`, `np.save` to load/save in `.npy` format\n",
        "* `np.genfromtxt`, `np.savetxt` to load/save in text format"
      ]
    },
    {
      "cell_type": "markdown",
      "id": "fa4b1ffb",
      "metadata": {
        "id": "fa4b1ffb"
      },
      "source": [
        "### Summary: Pandas\n",
        "\n",
        "* `import pandas as pd`\n",
        "* Central object is the **DataFrame**\n",
        "* `pd.read_csv`, `df.to_csv` for load/save csv\n",
        "* `df.head()` for a quick look\n",
        "* `df = pd.DataFrame(results)` to convert a list of rows to `DataFrame`\n",
        "* **A DataFrame is like a dictionary, name: column**\n",
        "* Therefore, access is like a `dict`: `df['x']`"
      ]
    }
  ],
  "metadata": {
    "celltoolbar": "Slideshow",
    "kernelspec": {
      "display_name": "Python 3 (ipykernel)",
      "language": "python",
      "name": "python3"
    },
    "language_info": {
      "codemirror_mode": {
        "name": "ipython",
        "version": 3
      },
      "file_extension": ".py",
      "mimetype": "text/x-python",
      "name": "python",
      "nbconvert_exporter": "python",
      "pygments_lexer": "ipython3",
      "version": "3.11.7"
    },
    "colab": {
      "provenance": []
    }
  },
  "nbformat": 4,
  "nbformat_minor": 5
}