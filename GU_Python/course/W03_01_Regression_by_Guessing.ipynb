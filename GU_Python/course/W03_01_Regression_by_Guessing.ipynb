{
 "cells": [
  {
   "cell_type": "markdown",
   "id": "9a7ffd39",
   "metadata": {
    "slideshow": {
     "slide_type": "slide"
    }
   },
   "source": [
    "<center><img src=img/MScAI_brand.png width=70%></center>\n",
    "\n",
    "# Regressing by Guessing"
   ]
  },
  {
   "cell_type": "markdown",
   "id": "49805d99",
   "metadata": {
    "slideshow": {
     "slide_type": "subslide"
    }
   },
   "source": [
    "In this notebook we'll implement an approach to **regression** based on **guessing**. This will introduce the most important ideas in `numpy`, `matplotlib`, and `pandas` - core libraries for scientific computing.\n",
    "\n",
    "Let's pretend we have carried out some scientific experiment, eg in microbiology. There's some chemical compound and we think that a certain type of cell grows faster or slower depending on the concentration of that compound. We've measured the concentration ($x$) and the resulting growth ($y$) and stored the results in a `.csv` file.\n",
    "\n",
    "Now we want to find out: how are $x$ and $y$ related? Let's plot the data and try to find a function $f$ such that $f(x) = y$, at least approximately."
   ]
  },
  {
   "cell_type": "code",
   "execution_count": 1,
   "id": "234e3472",
   "metadata": {
    "slideshow": {
     "slide_type": "subslide"
    }
   },
   "outputs": [],
   "source": [
    "# standard imports\n",
    "import numpy as np\n",
    "import matplotlib.pyplot as plt\n",
    "import pandas as pd"
   ]
  },
  {
   "cell_type": "markdown",
   "id": "954d0941",
   "metadata": {
    "slideshow": {
     "slide_type": "slide"
    }
   },
   "source": [
    "### Reading data with Pandas\n",
    "\n",
    "Our data is stored in this `.csv`."
   ]
  },
  {
   "cell_type": "code",
   "execution_count": 2,
   "id": "f9fbc7c9",
   "metadata": {},
   "outputs": [],
   "source": [
    "filename = \"data/cell_growth.csv\""
   ]
  },
  {
   "cell_type": "markdown",
   "id": "e935518b",
   "metadata": {
    "slideshow": {
     "slide_type": "subslide"
    }
   },
   "source": [
    "First let's take a look at the format. (You can also load into a text editor.) \n",
    "\n",
    "Below, `!` is Jupyter magic, not Python. `cat` means \"print\" in Unix. `$` means \"value of\" `filename`."
   ]
  },
  {
   "cell_type": "code",
   "execution_count": 3,
   "id": "50ae9824",
   "metadata": {},
   "outputs": [
    {
     "name": "stdout",
     "output_type": "stream",
     "text": [
      "x,y\r",
      "\r\n",
      "8.73,5.76\r",
      "\r\n",
      "6.15,2.48\r",
      "\r\n",
      "2.76,5.56\r",
      "\r\n",
      "1.89,5.16\r",
      "\r\n",
      "8.76,5.85\r",
      "\r\n",
      "1.64,4.84\r",
      "\r\n",
      "7.03,2.41\r",
      "\r\n",
      "1.41,4.44\r",
      "\r\n",
      "9.07,7.17\r",
      "\r\n",
      "9.88,11.81\r",
      "\r\n",
      "5.01,3.54\r",
      "\r\n",
      "0.45,1.54\r",
      "\r\n",
      "2.97,5.51\r",
      "\r\n",
      "1.36,4.33\r",
      "\r\n",
      "0.38,1.26\r",
      "\r\n",
      "6.30,2.41\r",
      "\r\n",
      "7.82,3.27\r",
      "\r\n",
      "7.37,2.66\r",
      "\r\n",
      "1.70,4.92\r",
      "\r\n",
      "6.20,2.46\r",
      "\r\n"
     ]
    }
   ],
   "source": [
    "!cat $filename"
   ]
  },
  {
   "cell_type": "markdown",
   "id": "8995a0d9",
   "metadata": {
    "slideshow": {
     "slide_type": "subslide"
    }
   },
   "source": [
    "It seems to be a `.csv` of two columns, with headers. This is easy to read in Pandas as follows."
   ]
  },
  {
   "cell_type": "code",
   "execution_count": 4,
   "id": "aa0f111e",
   "metadata": {},
   "outputs": [],
   "source": [
    "df = pd.read_csv(filename)"
   ]
  },
  {
   "cell_type": "markdown",
   "id": "17eb46d1",
   "metadata": {
    "slideshow": {
     "slide_type": "fragment"
    }
   },
   "source": [
    "(If the format was different, `read_csv` has many options to control how we read the data.)"
   ]
  },
  {
   "cell_type": "markdown",
   "id": "5e258729",
   "metadata": {
    "slideshow": {
     "slide_type": "subslide"
    }
   },
   "source": [
    "Let's confirm the column names and see if it was read in correctly:"
   ]
  },
  {
   "cell_type": "code",
   "execution_count": 5,
   "id": "129afcc1",
   "metadata": {},
   "outputs": [
    {
     "data": {
      "text/plain": [
       "Index(['x', 'y'], dtype='object')"
      ]
     },
     "execution_count": 5,
     "metadata": {},
     "output_type": "execute_result"
    }
   ],
   "source": [
    "df.columns"
   ]
  },
  {
   "cell_type": "code",
   "execution_count": 6,
   "id": "15f2cb9d",
   "metadata": {},
   "outputs": [
    {
     "data": {
      "text/html": [
       "<div>\n",
       "<style scoped>\n",
       "    .dataframe tbody tr th:only-of-type {\n",
       "        vertical-align: middle;\n",
       "    }\n",
       "\n",
       "    .dataframe tbody tr th {\n",
       "        vertical-align: top;\n",
       "    }\n",
       "\n",
       "    .dataframe thead th {\n",
       "        text-align: right;\n",
       "    }\n",
       "</style>\n",
       "<table border=\"1\" class=\"dataframe\">\n",
       "  <thead>\n",
       "    <tr style=\"text-align: right;\">\n",
       "      <th></th>\n",
       "      <th>x</th>\n",
       "      <th>y</th>\n",
       "    </tr>\n",
       "  </thead>\n",
       "  <tbody>\n",
       "    <tr>\n",
       "      <th>0</th>\n",
       "      <td>8.73</td>\n",
       "      <td>5.76</td>\n",
       "    </tr>\n",
       "    <tr>\n",
       "      <th>1</th>\n",
       "      <td>6.15</td>\n",
       "      <td>2.48</td>\n",
       "    </tr>\n",
       "    <tr>\n",
       "      <th>2</th>\n",
       "      <td>2.76</td>\n",
       "      <td>5.56</td>\n",
       "    </tr>\n",
       "    <tr>\n",
       "      <th>3</th>\n",
       "      <td>1.89</td>\n",
       "      <td>5.16</td>\n",
       "    </tr>\n",
       "    <tr>\n",
       "      <th>4</th>\n",
       "      <td>8.76</td>\n",
       "      <td>5.85</td>\n",
       "    </tr>\n",
       "  </tbody>\n",
       "</table>\n",
       "</div>"
      ],
      "text/plain": [
       "      x     y\n",
       "0  8.73  5.76\n",
       "1  6.15  2.48\n",
       "2  2.76  5.56\n",
       "3  1.89  5.16\n",
       "4  8.76  5.85"
      ]
     },
     "execution_count": 6,
     "metadata": {},
     "output_type": "execute_result"
    }
   ],
   "source": [
    "df.head() # see the first few rows"
   ]
  },
  {
   "cell_type": "markdown",
   "id": "3ec25a67",
   "metadata": {
    "slideshow": {
     "slide_type": "subslide"
    }
   },
   "source": [
    "A DataFrame has a shape like the following (a `tuple` of `int`s indicating 20 rows, 2 columns):"
   ]
  },
  {
   "cell_type": "code",
   "execution_count": 7,
   "id": "172445bf",
   "metadata": {},
   "outputs": [
    {
     "data": {
      "text/plain": [
       "(20, 2)"
      ]
     },
     "execution_count": 7,
     "metadata": {},
     "output_type": "execute_result"
    }
   ],
   "source": [
    "df.shape"
   ]
  },
  {
   "cell_type": "code",
   "execution_count": 8,
   "id": "b83b14b6",
   "metadata": {
    "slideshow": {
     "slide_type": "subslide"
    }
   },
   "outputs": [
    {
     "data": {
      "text/plain": [
       "pandas.core.frame.DataFrame"
      ]
     },
     "execution_count": 8,
     "metadata": {},
     "output_type": "execute_result"
    }
   ],
   "source": [
    "type(df)"
   ]
  },
  {
   "cell_type": "markdown",
   "id": "d61ac803",
   "metadata": {},
   "source": [
    "The object `df` is a Pandas **DataFrame**. Think of it like a `dict` of columns (`name: column`). (Or like an Excel file!) \n",
    "\n",
    "So, we can access the columns like this:"
   ]
  },
  {
   "cell_type": "code",
   "execution_count": 9,
   "id": "773f394c",
   "metadata": {},
   "outputs": [],
   "source": [
    "x = df['x']\n",
    "y = df['y']"
   ]
  },
  {
   "cell_type": "code",
   "execution_count": 10,
   "id": "28e2c09f",
   "metadata": {
    "slideshow": {
     "slide_type": "subslide"
    }
   },
   "outputs": [
    {
     "data": {
      "text/plain": [
       "pandas.core.series.Series"
      ]
     },
     "execution_count": 10,
     "metadata": {},
     "output_type": "execute_result"
    }
   ],
   "source": [
    "type(x)"
   ]
  },
  {
   "cell_type": "markdown",
   "id": "099cf818",
   "metadata": {
    "slideshow": {
     "slide_type": "-"
    }
   },
   "source": [
    "Each column is a Pandas **Series**, which is like a list of values, but they must all be of the same type (`dtype`):"
   ]
  },
  {
   "cell_type": "code",
   "execution_count": 11,
   "id": "fc2b2d5a",
   "metadata": {
    "slideshow": {
     "slide_type": "fragment"
    }
   },
   "outputs": [
    {
     "data": {
      "text/plain": [
       "dtype('float64')"
      ]
     },
     "execution_count": 11,
     "metadata": {},
     "output_type": "execute_result"
    }
   ],
   "source": [
    "x.dtype"
   ]
  },
  {
   "cell_type": "markdown",
   "id": "d3656f9a",
   "metadata": {
    "slideshow": {
     "slide_type": "fragment"
    }
   },
   "source": [
    "In fact, a **Series** is almost exactly the same as a 1D Numpy **array**, which we'll see shortly. They can be used interchangeably."
   ]
  },
  {
   "cell_type": "markdown",
   "id": "407e873f",
   "metadata": {
    "slideshow": {
     "slide_type": "slide"
    }
   },
   "source": [
    "### Plotting data with `Matplotlib`\n",
    "\n",
    "Let's visualise the data by making a **scatterplot** using `Matplotlib`. We can pass in lists, Numpy arrays, Pandas Series..."
   ]
  },
  {
   "cell_type": "code",
   "execution_count": 12,
   "id": "dfbcda6d",
   "metadata": {},
   "outputs": [
    {
     "data": {
      "text/plain": [
       "<matplotlib.collections.PathCollection at 0x7fddbbd8c5e0>"
      ]
     },
     "execution_count": 12,
     "metadata": {},
     "output_type": "execute_result"
    },
    {
     "data": {
      "image/png": "[encoded data removed]",
      "text/plain": [
       "<Figure size 432x288 with 1 Axes>"
      ]
     },
     "metadata": {
      "needs_background": "light"
     },
     "output_type": "display_data"
    }
   ],
   "source": [
    "plt.scatter(x, y)"
   ]
  },
  {
   "cell_type": "markdown",
   "id": "d58cae4a",
   "metadata": {
    "slideshow": {
     "slide_type": "subslide"
    }
   },
   "source": [
    "That looks good. A plot made by `Matplotlib` appears directly in Jupyter Notebook. \n",
    "\n",
    "But notice that ugly `<matplotlib.collections.PathCollection at 0x1b6335f2358>`. That's because `plt.scatter` also returns an object which we don't really care about. In Jupyter, the value of the last expression in a cell is always printed."
   ]
  },
  {
   "cell_type": "markdown",
   "id": "3968f020",
   "metadata": {
    "slideshow": {
     "slide_type": "fragment"
    }
   },
   "source": [
    "Let's remove that ugly text. We introduce the semi-colon `;` which can be used to put multiple expressions on the same line:"
   ]
  },
  {
   "cell_type": "code",
   "execution_count": 13,
   "id": "b88ddaf1",
   "metadata": {},
   "outputs": [
    {
     "data": {
      "text/plain": [
       "8"
      ]
     },
     "execution_count": 13,
     "metadata": {},
     "output_type": "execute_result"
    }
   ],
   "source": [
    "2 * 3; 2 * 4"
   ]
  },
  {
   "cell_type": "markdown",
   "id": "1c9b9202",
   "metadata": {
    "slideshow": {
     "slide_type": "subslide"
    }
   },
   "source": [
    "No-one **ever** uses a semi-colon except in the following `Matplotlib`/Jupyter Notebook hack.\n",
    "\n",
    "We add a semi-colon after `plt.scatter`, which means there is now an **empty expression** after it. It has no value, so nothing is printed."
   ]
  },
  {
   "cell_type": "code",
   "execution_count": 14,
   "id": "6e0d977f",
   "metadata": {
    "slideshow": {
     "slide_type": "fragment"
    }
   },
   "outputs": [
    {
     "data": {
      "image/png": "[encoded data removed]",
      "text/plain": [
       "<Figure size 432x288 with 1 Axes>"
      ]
     },
     "metadata": {
      "needs_background": "light"
     },
     "output_type": "display_data"
    }
   ],
   "source": [
    "plt.scatter(x, y);"
   ]
  },
  {
   "cell_type": "markdown",
   "id": "6ce97f78",
   "metadata": {
    "slideshow": {
     "slide_type": "-"
    }
   },
   "source": [
    "In all of the plots below, we'll use this semi-colon trick on the last line."
   ]
  },
  {
   "cell_type": "markdown",
   "id": "0dd4f66c",
   "metadata": {
    "slideshow": {
     "slide_type": "fragment"
    }
   },
   "source": [
    "Now, I notice that the $y$-axis doesn't start at zero. "
   ]
  },
  {
   "cell_type": "markdown",
   "id": "5f564b01",
   "metadata": {
    "slideshow": {
     "slide_type": "subslide"
    }
   },
   "source": [
    "I can control the lower and upper bounds for both axes like this:"
   ]
  },
  {
   "cell_type": "code",
   "execution_count": 15,
   "id": "fc5ef176",
   "metadata": {
    "slideshow": {
     "slide_type": "-"
    }
   },
   "outputs": [
    {
     "data": {
      "image/png": "[encoded data removed]",
      "text/plain": [
       "<Figure size 432x288 with 1 Axes>"
      ]
     },
     "metadata": {
      "needs_background": "light"
     },
     "output_type": "display_data"
    }
   ],
   "source": [
    "plt.scatter(x, y)\n",
    "plt.xlim((0, 10))\n",
    "plt.ylim((0, 15));"
   ]
  },
  {
   "cell_type": "markdown",
   "id": "b4fdc42c",
   "metadata": {
    "slideshow": {
     "slide_type": "subslide"
    }
   },
   "source": [
    "And of course, we should **always** label our axes:"
   ]
  },
  {
   "cell_type": "code",
   "execution_count": 16,
   "id": "316f5ca5",
   "metadata": {
    "slideshow": {
     "slide_type": "fragment"
    }
   },
   "outputs": [
    {
     "data": {
      "image/png": "[encoded data removed]",
      "text/plain": [
       "<Figure size 432x288 with 1 Axes>"
      ]
     },
     "metadata": {
      "needs_background": "light"
     },
     "output_type": "display_data"
    }
   ],
   "source": [
    "plt.scatter(x, y)\n",
    "plt.xlim((0, 10))\n",
    "plt.ylim((0, 15))\n",
    "plt.xlabel(\"x\")\n",
    "plt.ylabel(\"y\");"
   ]
  },
  {
   "cell_type": "markdown",
   "id": "5350db05",
   "metadata": {
    "slideshow": {
     "slide_type": "subslide"
    }
   },
   "source": [
    "However, perhaps we'd like to make them look a little nicer. Axis labels are often mathematical, so we can use LaTeX to format them. The `$` symbols are interpreted by `Matplotlib` as LaTeX math delimiters. And because we often use a backslash `\\` to introduce special characters in LaTeX, it's useful to use a Python **raw string** (`r`-string) which doesn't itself interpret `\\` characters as special."
   ]
  },
  {
   "cell_type": "code",
   "execution_count": 17,
   "id": "b97da0d6",
   "metadata": {},
   "outputs": [
    {
     "data": {
      "image/png": "[encoded data removed]",
      "text/plain": [
       "<Figure size 432x288 with 1 Axes>"
      ]
     },
     "metadata": {
      "needs_background": "light"
     },
     "output_type": "display_data"
    }
   ],
   "source": [
    "plt.scatter(x, y)\n",
    "plt.xlim((0, 10))\n",
    "plt.ylim((0, 15))\n",
    "plt.xlabel(r\"$x$\")\n",
    "plt.ylabel(r\"$\\phi_{173}$\"); # some nonsense formula to illustrate"
   ]
  },
  {
   "cell_type": "markdown",
   "id": "e20c0b8c",
   "metadata": {
    "slideshow": {
     "slide_type": "slide"
    }
   },
   "source": [
    "### Function fitting (wild guessing, Numpy, and more plotting)\n",
    "\n",
    "Next, let's guess: **what function $f$ relates $y$ to $x$, ie y = f(x)?** I don't have a clue, so let's try:"
   ]
  },
  {
   "cell_type": "code",
   "execution_count": 18,
   "id": "1715ec5a",
   "metadata": {},
   "outputs": [],
   "source": [
    "def f_guess(x):\n",
    "    return 3 * np.log(0.5 * x + 1)"
   ]
  },
  {
   "cell_type": "markdown",
   "id": "ba8fd924",
   "metadata": {
    "slideshow": {
     "slide_type": "subslide"
    }
   },
   "source": [
    "Now the above function looks innocent. We can run it as you might expect:"
   ]
  },
  {
   "cell_type": "code",
   "execution_count": 19,
   "id": "d73962f4",
   "metadata": {},
   "outputs": [
    {
     "data": {
      "text/plain": [
       "3.442207358512625"
      ]
     },
     "execution_count": 19,
     "metadata": {},
     "output_type": "execute_result"
    }
   ],
   "source": [
    "f_guess(4.3)"
   ]
  },
  {
   "cell_type": "markdown",
   "id": "704c371f",
   "metadata": {
    "slideshow": {
     "slide_type": "subslide"
    }
   },
   "source": [
    "And if we need to run it many times, we can:"
   ]
  },
  {
   "cell_type": "code",
   "execution_count": 20,
   "id": "89f85389",
   "metadata": {},
   "outputs": [
    {
     "name": "stdout",
     "output_type": "stream",
     "text": [
      "8.73 5.04\n",
      "6.15 4.21\n",
      "2.76 2.60\n",
      "1.89 2.00\n",
      "8.76 5.05\n",
      "1.64 1.80\n",
      "7.03 4.52\n",
      "1.41 1.60\n",
      "9.07 5.13\n",
      "9.88 5.35\n",
      "5.01 3.76\n",
      "0.45 0.61\n",
      "2.97 2.73\n",
      "1.36 1.56\n",
      "0.38 0.52\n",
      "6.30 4.27\n",
      "7.82 4.77\n",
      "7.37 4.63\n",
      "1.70 1.85\n",
      "6.20 4.23\n"
     ]
    }
   ],
   "source": [
    "for xi in x:\n",
    "    print(f\"{xi:.2f} {f_guess(xi):.2f}\")"
   ]
  },
  {
   "cell_type": "markdown",
   "id": "68874267",
   "metadata": {
    "slideshow": {
     "slide_type": "subslide"
    }
   },
   "source": [
    "However, with Numpy a function like this is **vectorised**. If the argument is an `array`, all the calls (like `np.log`) and operators (like `*` and `+`) take `array` inputs and return `array` outputs.\n",
    "\n",
    "They work by looping in underlying C or Fortran code, so it's much faster than looping in Python as above.\n",
    "\n",
    "Remember: someone has to write loops, but it doesn't have to be you."
   ]
  },
  {
   "cell_type": "code",
   "execution_count": 21,
   "id": "d6f2b946",
   "metadata": {
    "slideshow": {
     "slide_type": "subslide"
    }
   },
   "outputs": [],
   "source": [
    "z = np.array([0.0, 1.0, 2.0]) # make an array from a list"
   ]
  },
  {
   "cell_type": "markdown",
   "id": "5eac93ce",
   "metadata": {},
   "source": [
    "This is our first encounter with a true Numpy array, the most central object in the Python numerical ecosystem."
   ]
  },
  {
   "cell_type": "code",
   "execution_count": 22,
   "id": "f9981993",
   "metadata": {
    "slideshow": {
     "slide_type": "fragment"
    }
   },
   "outputs": [
    {
     "data": {
      "text/plain": [
       "numpy.ndarray"
      ]
     },
     "execution_count": 22,
     "metadata": {},
     "output_type": "execute_result"
    }
   ],
   "source": [
    "type(z)"
   ]
  },
  {
   "cell_type": "markdown",
   "id": "b8b3b1ba",
   "metadata": {
    "slideshow": {
     "slide_type": "fragment"
    }
   },
   "source": [
    "In an `array`, just like in a Pandas column, all values have the same type, called `dtype`:"
   ]
  },
  {
   "cell_type": "code",
   "execution_count": 23,
   "id": "98f86ab3",
   "metadata": {
    "slideshow": {
     "slide_type": "-"
    }
   },
   "outputs": [
    {
     "data": {
      "text/plain": [
       "dtype('float64')"
      ]
     },
     "execution_count": 23,
     "metadata": {},
     "output_type": "execute_result"
    }
   ],
   "source": [
    "z.dtype "
   ]
  },
  {
   "cell_type": "markdown",
   "id": "68fcd12f",
   "metadata": {
    "slideshow": {
     "slide_type": "subslide"
    }
   },
   "source": [
    "Numpy `array`s have a *shape* (same concept as a Pandas DataFrame shape), which is just a tuple of `int`s. A 1D array like this only has a single value:"
   ]
  },
  {
   "cell_type": "code",
   "execution_count": 24,
   "id": "1ab6b645",
   "metadata": {},
   "outputs": [
    {
     "data": {
      "text/plain": [
       "(3,)"
      ]
     },
     "execution_count": 24,
     "metadata": {},
     "output_type": "execute_result"
    }
   ],
   "source": [
    "z.shape"
   ]
  },
  {
   "cell_type": "markdown",
   "id": "b3ec416c",
   "metadata": {
    "slideshow": {
     "slide_type": "subslide"
    }
   },
   "source": [
    "So, we can calculate the value of `f_guess` on all of `x`:"
   ]
  },
  {
   "cell_type": "code",
   "execution_count": 25,
   "id": "0160398c",
   "metadata": {},
   "outputs": [
    {
     "data": {
      "text/plain": [
       "0     5.039689\n",
       "1     4.214612\n",
       "2     2.601301\n",
       "3     1.995786\n",
       "4     5.048065\n",
       "5     1.796510\n",
       "6     4.522216\n",
       "7     1.600695\n",
       "8     5.133275\n",
       "9     5.345127\n",
       "10    3.762572\n",
       "11    0.608823\n",
       "12    2.730818\n",
       "13    1.556381\n",
       "14    0.521860\n",
       "15    4.269325\n",
       "16    4.773822\n",
       "17    4.633098\n",
       "18    1.845557\n",
       "19    4.232961\n",
       "Name: x, dtype: float64"
      ]
     },
     "execution_count": 25,
     "metadata": {},
     "output_type": "execute_result"
    }
   ],
   "source": [
    "f_guess(x)"
   ]
  },
  {
   "cell_type": "markdown",
   "id": "bb42eba6",
   "metadata": {
    "slideshow": {
     "slide_type": "subslide"
    }
   },
   "source": [
    "We can plot both the true data and our guesses on the same plot. Look carefully at the two `plt.scatter` calls. Notice they have the same `x`. It is only our guesses for the $y$-value at each $x$ which differ."
   ]
  },
  {
   "cell_type": "code",
   "execution_count": 26,
   "id": "48992fc8",
   "metadata": {},
   "outputs": [
    {
     "data": {
      "image/png": "[encoded data removed]",
      "text/plain": [
       "<Figure size 432x288 with 1 Axes>"
      ]
     },
     "metadata": {
      "needs_background": "light"
     },
     "output_type": "display_data"
    }
   ],
   "source": [
    "plt.scatter(x, y)\n",
    "plt.scatter(x, f_guess(x))\n",
    "plt.xlim((0, 10))\n",
    "plt.ylim((0, 15))\n",
    "plt.xlabel(r\"$x$\")\n",
    "plt.ylabel(r\"$\\phi_{173}$\");"
   ]
  },
  {
   "cell_type": "markdown",
   "id": "9ee29145",
   "metadata": {
    "slideshow": {
     "slide_type": "subslide"
    }
   },
   "source": [
    "`Matplotlib` automatically introduces nice colours. But this will still be confusing. Which is which? We can use labels and a legend. Notice we pass in a `label` to each `scatter` call, and then the `legend` will use them. "
   ]
  },
  {
   "cell_type": "code",
   "execution_count": 27,
   "id": "1b802bb3",
   "metadata": {},
   "outputs": [
    {
     "data": {
      "image/png": "[encoded data removed]",
      "text/plain": [
       "<Figure size 432x288 with 1 Axes>"
      ]
     },
     "metadata": {
      "needs_background": "light"
     },
     "output_type": "display_data"
    }
   ],
   "source": [
    "plt.scatter(x, y, label=\"Data\")\n",
    "plt.scatter(x, f_guess(x), label=\"Guess\")\n",
    "plt.xlim((0, 10)); plt.ylim((0, 15))\n",
    "plt.xlabel(r\"$x$\"); plt.ylabel(r\"$\\phi_{173}$\") # ok, I lied\n",
    "plt.legend();"
   ]
  },
  {
   "cell_type": "markdown",
   "id": "7bce54c1",
   "metadata": {
    "slideshow": {
     "slide_type": "fragment"
    }
   },
   "source": [
    "Above, we are looking at the guessed $y$ values for each $x$. But since we have a **function** `f_guess`, we can do better."
   ]
  },
  {
   "cell_type": "markdown",
   "id": "7eeb847d",
   "metadata": {
    "slideshow": {
     "slide_type": "subslide"
    }
   },
   "source": [
    "We plot the entire function, not just points. We do this by **sampling** $x$ on a grid using `linspace`:"
   ]
  },
  {
   "cell_type": "code",
   "execution_count": 28,
   "id": "d343a63b",
   "metadata": {},
   "outputs": [
    {
     "data": {
      "text/plain": [
       "array([ 0. ,  0.1,  0.2,  0.3,  0.4,  0.5,  0.6,  0.7,  0.8,  0.9,  1. ,\n",
       "        1.1,  1.2,  1.3,  1.4,  1.5,  1.6,  1.7,  1.8,  1.9,  2. ,  2.1,\n",
       "        2.2,  2.3,  2.4,  2.5,  2.6,  2.7,  2.8,  2.9,  3. ,  3.1,  3.2,\n",
       "        3.3,  3.4,  3.5,  3.6,  3.7,  3.8,  3.9,  4. ,  4.1,  4.2,  4.3,\n",
       "        4.4,  4.5,  4.6,  4.7,  4.8,  4.9,  5. ,  5.1,  5.2,  5.3,  5.4,\n",
       "        5.5,  5.6,  5.7,  5.8,  5.9,  6. ,  6.1,  6.2,  6.3,  6.4,  6.5,\n",
       "        6.6,  6.7,  6.8,  6.9,  7. ,  7.1,  7.2,  7.3,  7.4,  7.5,  7.6,\n",
       "        7.7,  7.8,  7.9,  8. ,  8.1,  8.2,  8.3,  8.4,  8.5,  8.6,  8.7,\n",
       "        8.8,  8.9,  9. ,  9.1,  9.2,  9.3,  9.4,  9.5,  9.6,  9.7,  9.8,\n",
       "        9.9, 10. ])"
      ]
     },
     "execution_count": 28,
     "metadata": {},
     "output_type": "execute_result"
    }
   ],
   "source": [
    "# start at 0, go to 10, give 101 evenly-spaced points, including 10 itself\n",
    "xgrid = np.linspace(0, 10, 101, endpoint=True)\n",
    "xgrid"
   ]
  },
  {
   "cell_type": "markdown",
   "id": "b1349a37",
   "metadata": {
    "slideshow": {
     "slide_type": "subslide"
    }
   },
   "source": [
    "The following again applies our function `f_guess` to a Numpy `array`, and the result is an `array`."
   ]
  },
  {
   "cell_type": "code",
   "execution_count": 29,
   "id": "bdff7932",
   "metadata": {},
   "outputs": [],
   "source": [
    "y_guess_grid = f_guess(xgrid)"
   ]
  },
  {
   "cell_type": "code",
   "execution_count": 30,
   "id": "9bf6a3bd",
   "metadata": {
    "slideshow": {
     "slide_type": "subslide"
    }
   },
   "outputs": [
    {
     "data": {
      "image/png": "[encoded data removed]",
      "text/plain": [
       "<Figure size 432x288 with 1 Axes>"
      ]
     },
     "metadata": {
      "needs_background": "light"
     },
     "output_type": "display_data"
    }
   ],
   "source": [
    "plt.scatter(x, y, label=\"Data\")\n",
    "plt.plot(xgrid, y_guess_grid, label=\"Guess\")\n",
    "plt.xlim((0, 10)); plt.ylim((0, 15))\n",
    "plt.xlabel(r\"$x$\"); plt.ylabel(r\"$\\phi_{173}$\")\n",
    "plt.legend();"
   ]
  },
  {
   "cell_type": "markdown",
   "id": "fc9fd42c",
   "metadata": {
    "slideshow": {
     "slide_type": "fragment"
    }
   },
   "source": [
    "That's nice - we can really see the shape of `f_guess` now. But the colour disappeared! "
   ]
  },
  {
   "cell_type": "markdown",
   "id": "2c8b6c24",
   "metadata": {
    "slideshow": {
     "slide_type": "subslide"
    }
   },
   "source": [
    "We can control colour directly using `c` as below. There are several ways of specifying colours and styles but let's use the simplest, a colour string:"
   ]
  },
  {
   "cell_type": "code",
   "execution_count": 31,
   "id": "08f921bb",
   "metadata": {},
   "outputs": [
    {
     "data": {
      "image/png": "[encoded data removed]",
      "text/plain": [
       "<Figure size 432x288 with 1 Axes>"
      ]
     },
     "metadata": {
      "needs_background": "light"
     },
     "output_type": "display_data"
    }
   ],
   "source": [
    "plt.scatter(x, y, label=\"Data\")\n",
    "plt.plot(xgrid, y_guess_grid, c=\"orange\", label=\"Guess\")\n",
    "plt.xlim((0, 10)); plt.ylim((0, 15))\n",
    "plt.xlabel(r\"$x$\"); plt.ylabel(r\"$\\phi_{173}$\")\n",
    "plt.legend();"
   ]
  },
  {
   "cell_type": "markdown",
   "id": "0f0e5a6d",
   "metadata": {
    "slideshow": {
     "slide_type": "subslide"
    }
   },
   "source": [
    "Now it's obvious our guess was not very good! Let's try another guess."
   ]
  },
  {
   "cell_type": "code",
   "execution_count": 32,
   "id": "ac8454b0",
   "metadata": {},
   "outputs": [],
   "source": [
    "def f_guess2(x): return 1.3 ** x\n",
    "y_guess2_grid = f_guess2(xgrid)"
   ]
  },
  {
   "cell_type": "code",
   "execution_count": 33,
   "id": "da69e1fc",
   "metadata": {
    "slideshow": {
     "slide_type": "subslide"
    }
   },
   "outputs": [
    {
     "data": {
      "image/png": "[encoded data removed]",
      "text/plain": [
       "<Figure size 432x288 with 1 Axes>"
      ]
     },
     "metadata": {
      "needs_background": "light"
     },
     "output_type": "display_data"
    }
   ],
   "source": [
    "plt.scatter(x, y, label=\"Data\")\n",
    "plt.plot(xgrid, y_guess_grid, c=\"orange\", label=\"Guess\")\n",
    "plt.plot(xgrid, y_guess2_grid, c=\"green\", label=\"Guess 2\")\n",
    "plt.xlim((0, 10)); plt.ylim((0, 15))\n",
    "plt.xlabel(r\"$x$\"); plt.ylabel(r\"$\\phi_{173}$\")\n",
    "plt.legend();"
   ]
  },
  {
   "cell_type": "markdown",
   "id": "e564e1e2",
   "metadata": {
    "slideshow": {
     "slide_type": "fragment"
    }
   },
   "source": [
    "Is `f_guess2` better? It's hard to say. But of course we can measure it."
   ]
  },
  {
   "cell_type": "markdown",
   "id": "44d437b4",
   "metadata": {
    "slideshow": {
     "slide_type": "slide"
    }
   },
   "source": [
    "### Measuring regression performance\n",
    "\n",
    "There are two main ways of measuring how well a guess matches true data:\n",
    "\n",
    "* Root mean-squared error RMSE\n",
    "* Correlation - usually the squared correlation $R^2$"
   ]
  },
  {
   "cell_type": "markdown",
   "id": "94440eb0",
   "metadata": {
    "slideshow": {
     "slide_type": "subslide"
    }
   },
   "source": [
    "$$\\mathrm{RMSE}(a, b) = \\sqrt{\\frac{\\sum_{i=1}^n (a_i - b_i)^2}{n}}$$\n",
    "\n",
    "Here $a$ and $b$ are vectors (lists of numbers), so $a_i - b_i$ is the error at point $i$"
   ]
  },
  {
   "cell_type": "markdown",
   "id": "3e02c3aa",
   "metadata": {
    "slideshow": {
     "slide_type": "subslide"
    }
   },
   "source": [
    "We use RMSE by passing in the true $y$ and the guess $f(x)$. Let's define it in code and try it."
   ]
  },
  {
   "cell_type": "code",
   "execution_count": 34,
   "id": "3c44f8da",
   "metadata": {},
   "outputs": [],
   "source": [
    "def rmse(a, b):\n",
    "    return np.sqrt(np.mean((a - b)**2))"
   ]
  },
  {
   "cell_type": "code",
   "execution_count": 35,
   "id": "94ddae0e",
   "metadata": {
    "slideshow": {
     "slide_type": "fragment"
    }
   },
   "outputs": [
    {
     "data": {
      "text/plain": [
       "2.5470699888588686"
      ]
     },
     "execution_count": 35,
     "metadata": {},
     "output_type": "execute_result"
    }
   ],
   "source": [
    "rmse(f_guess(x), y)"
   ]
  },
  {
   "cell_type": "code",
   "execution_count": 36,
   "id": "bf67e8db",
   "metadata": {
    "slideshow": {
     "slide_type": "fragment"
    }
   },
   "outputs": [
    {
     "data": {
      "text/plain": [
       "3.161768844002654"
      ]
     },
     "execution_count": 36,
     "metadata": {},
     "output_type": "execute_result"
    }
   ],
   "source": [
    "rmse(f_guess2(x), y)"
   ]
  },
  {
   "cell_type": "markdown",
   "id": "a0cf7323",
   "metadata": {
    "slideshow": {
     "slide_type": "-"
    }
   },
   "source": [
    "It looks like `f_guess` is slightly better (smaller RMSE => smaller errors => better). But still, both are quite bad!"
   ]
  },
  {
   "cell_type": "markdown",
   "id": "d6d5e755",
   "metadata": {
    "slideshow": {
     "slide_type": "subslide"
    }
   },
   "source": [
    "Notice that here we are calling `f_guess(x)`, not `f_guess(xgrid)`, because we only want to compare the guesses against the true, known `y`."
   ]
  },
  {
   "cell_type": "markdown",
   "id": "da617192",
   "metadata": {
    "slideshow": {
     "slide_type": "subslide"
    }
   },
   "source": [
    "Another common method of comparing is to use squared correlation $R^2$, sometimes called the **coefficient of determination**. We can use the Numpy `corrcoef` function for this:"
   ]
  },
  {
   "cell_type": "code",
   "execution_count": 57,
   "id": "887d4ebd",
   "metadata": {
    "slideshow": {
     "slide_type": "-"
    }
   },
   "outputs": [
    {
     "name": "stdout",
     "output_type": "stream",
     "text": [
      "(2, 2)\n"
     ]
    },
    {
     "data": {
      "text/plain": [
       "array([[1.        , 0.34645592],\n",
       "       [0.34645592, 1.        ]])"
      ]
     },
     "execution_count": 57,
     "metadata": {},
     "output_type": "execute_result"
    }
   ],
   "source": [
    "c = np.corrcoef(f_guess(x), y)\n",
    "print(c.shape)\n",
    "c"
   ]
  },
  {
   "cell_type": "markdown",
   "id": "87f505d4",
   "metadata": {
    "slideshow": {
     "slide_type": "fragment"
    }
   },
   "source": [
    "If we pass it $n$ vectors it returns an $n \\times n$ `array` giving all possible correlation coefficients. The correlation between any vector and itself is 1, so we have 1 on the diagonal. And the correlation of $a$ and $b$ is the same as the correlation of $b$ and $a$, so the `array` is symmetric, as we see above.\n",
    "\n",
    "But we only need the off-diagonal term here. How can we access it?"
   ]
  },
  {
   "cell_type": "markdown",
   "id": "35abfb43",
   "metadata": {
    "slideshow": {
     "slide_type": "subslide"
    }
   },
   "source": [
    "We need an important new piece of syntax: given any Numpy array with 2 or more dimensions, we can pass a **tuple** as the index!"
   ]
  },
  {
   "cell_type": "code",
   "execution_count": 39,
   "id": "0179d491",
   "metadata": {},
   "outputs": [
    {
     "data": {
      "text/plain": [
       "8"
      ]
     },
     "execution_count": 39,
     "metadata": {},
     "output_type": "execute_result"
    }
   ],
   "source": [
    "A = np.array([[1, 2, 3],\n",
    "              [4, 5, 6],\n",
    "              [7, 8, 9]])\n",
    "A[2, 1] # here (2, 1) is a tuple"
   ]
  },
  {
   "cell_type": "markdown",
   "id": "4585f7e6",
   "metadata": {
    "slideshow": {
     "slide_type": "slide"
    }
   },
   "source": [
    "### Tangent: fancy indexing/slicing\n",
    "\n",
    "You can probably guess what happens when we use only one index, or introduce slice notation as well, eg:"
   ]
  },
  {
   "cell_type": "code",
   "execution_count": 40,
   "id": "6c5a9aaf",
   "metadata": {},
   "outputs": [
    {
     "data": {
      "text/plain": [
       "array([1, 2, 3])"
      ]
     },
     "execution_count": 40,
     "metadata": {},
     "output_type": "execute_result"
    }
   ],
   "source": [
    "A[0] # 0th row"
   ]
  },
  {
   "cell_type": "code",
   "execution_count": 41,
   "id": "9bb5cd65",
   "metadata": {
    "slideshow": {
     "slide_type": "fragment"
    }
   },
   "outputs": [
    {
     "data": {
      "text/plain": [
       "array([[4, 5, 6],\n",
       "       [7, 8, 9]])"
      ]
     },
     "execution_count": 41,
     "metadata": {},
     "output_type": "execute_result"
    }
   ],
   "source": [
    "A[1:3] # rows from 1 to 3 (excluding 3)"
   ]
  },
  {
   "cell_type": "code",
   "execution_count": 42,
   "id": "f5468e03",
   "metadata": {
    "slideshow": {
     "slide_type": "fragment"
    }
   },
   "outputs": [
    {
     "data": {
      "text/plain": [
       "array([1, 4, 7])"
      ]
     },
     "execution_count": 42,
     "metadata": {},
     "output_type": "execute_result"
    }
   ],
   "source": [
    "A[0:3, 0] # rows from 0 to 3 (excl 3), column 0"
   ]
  },
  {
   "cell_type": "code",
   "execution_count": 43,
   "id": "e13ccb19",
   "metadata": {
    "slideshow": {
     "slide_type": "fragment"
    }
   },
   "outputs": [
    {
     "data": {
      "text/plain": [
       "array([1, 4, 7])"
      ]
     },
     "execution_count": 43,
     "metadata": {},
     "output_type": "execute_result"
    }
   ],
   "source": [
    "A[:, 0] # rows from start to end, column 0"
   ]
  },
  {
   "cell_type": "markdown",
   "id": "0fb55870",
   "metadata": {
    "slideshow": {
     "slide_type": "subslide"
    }
   },
   "source": [
    "Anyway, with the tuple notation, we can define $R^2$ as follows."
   ]
  },
  {
   "cell_type": "code",
   "execution_count": 44,
   "id": "35113786",
   "metadata": {},
   "outputs": [],
   "source": [
    "def rsquared(a, b):\n",
    "    M = np.corrcoef(a, b)\n",
    "    R = M[0, 1]\n",
    "    return R**2"
   ]
  },
  {
   "cell_type": "code",
   "execution_count": 45,
   "id": "8165e408",
   "metadata": {},
   "outputs": [
    {
     "data": {
      "text/plain": [
       "0.12003170424651236"
      ]
     },
     "execution_count": 45,
     "metadata": {},
     "output_type": "execute_result"
    }
   ],
   "source": [
    "rsquared(f_guess(x), y)"
   ]
  },
  {
   "cell_type": "code",
   "execution_count": 46,
   "id": "0e1601e1",
   "metadata": {},
   "outputs": [
    {
     "data": {
      "text/plain": [
       "0.2980174153919696"
      ]
     },
     "execution_count": 46,
     "metadata": {},
     "output_type": "execute_result"
    }
   ],
   "source": [
    "rsquared(f_guess2(x), y)"
   ]
  },
  {
   "cell_type": "markdown",
   "id": "7cc07f99",
   "metadata": {
    "slideshow": {
     "slide_type": "subslide"
    }
   },
   "source": [
    "Now, remember **smaller RMSE is better**, but **larger $R^2$ is better**. So, now it seems `f_guess2` is better!\n",
    "\n",
    "`f_guess` is a bit more conservative in its guesses, and gives smaller RMSE. But `f_guess2` perhaps matches the **shape** a bit better, giving worse (larger) errors but also better (larger) $R^2$. \n",
    "\n",
    "So which is more important - RMSE or $R^2$? It depends on the application. But that's beyond our scope now."
   ]
  },
  {
   "cell_type": "markdown",
   "id": "75eb6954",
   "metadata": {
    "slideshow": {
     "slide_type": "slide"
    }
   },
   "source": [
    "### A more careful experiment\n",
    "\n",
    "Let's define a few more guesses, and give them informative names."
   ]
  },
  {
   "cell_type": "code",
   "execution_count": 47,
   "id": "1d57c495",
   "metadata": {},
   "outputs": [],
   "source": [
    "def xsq(x): return x**2\n",
    "def xcub(x): return x**3\n",
    "def logx1(x): return np.log(x+1)\n",
    "def my_weird_fn(x): return 0.1 * np.exp(0.5 * x)"
   ]
  },
  {
   "cell_type": "markdown",
   "id": "3732aacf",
   "metadata": {
    "slideshow": {
     "slide_type": "subslide"
    }
   },
   "source": [
    "Now a very important principle: in a proper experiment there should be no copy-pasting, and no manual re-running cells! These are sources of errors. Instead, put all the things we want to test into a `dict` or `list` and loop over them. Ideally the whole experiment should be wrapped up to be run in a single click."
   ]
  },
  {
   "cell_type": "code",
   "execution_count": 48,
   "id": "233d10d7",
   "metadata": {
    "slideshow": {
     "slide_type": "fragment"
    }
   },
   "outputs": [],
   "source": [
    "guesses = [f_guess, f_guess2, xsq, xcub, logx1, my_weird_fn]"
   ]
  },
  {
   "cell_type": "code",
   "execution_count": 49,
   "id": "c8be916b",
   "metadata": {
    "slideshow": {
     "slide_type": "subslide"
    }
   },
   "outputs": [
    {
     "data": {
      "image/png": "[encoded data removed]",
      "text/plain": [
       "<Figure size 432x288 with 1 Axes>"
      ]
     },
     "metadata": {
      "needs_background": "light"
     },
     "output_type": "display_data"
    }
   ],
   "source": [
    "plt.scatter(x, y, label=\"Data\")\n",
    "for guess in guesses: # loop to plot multiple guesses\n",
    "    plt.plot(xgrid, guess(xgrid), label=guess.__name__)\n",
    "plt.xlim((0, 10)); plt.ylim((0, 15)) # ok, I lied\n",
    "plt.xlabel(r\"$x$\"); plt.ylabel(r\"$\\phi_{173}$\")\n",
    "plt.legend();"
   ]
  },
  {
   "cell_type": "markdown",
   "id": "e9610340",
   "metadata": {
    "slideshow": {
     "slide_type": "subslide"
    }
   },
   "source": [
    "Maybe you can do a bit better - try defining a few more functions to replace those above. Try different functions, polynomials, different constants, anything you like."
   ]
  },
  {
   "cell_type": "markdown",
   "id": "5e5eff51",
   "metadata": {
    "slideshow": {
     "slide_type": "slide"
    }
   },
   "source": [
    "### Saving results\n",
    "\n",
    "Now, we've done a nice experiment. We've identified a function which seems to fit the data (hopefully).\n",
    "\n",
    "We need a plot suitable for inclusion in the paper we're going to submit to **Nature**."
   ]
  },
  {
   "cell_type": "markdown",
   "id": "2cca64cb",
   "metadata": {
    "slideshow": {
     "slide_type": "subslide"
    }
   },
   "source": [
    "In `Matplotlib` the image format is controlled by the filename suffix. Use `.pdf` for diagrams and plots, not `.jpg`, not `.png`. \n",
    "\n",
    "(Use `.jpg` only for photos, and `.png` only for screenshots, or if saving a plot for the web.)"
   ]
  },
  {
   "cell_type": "code",
   "execution_count": 50,
   "id": "d9edd152",
   "metadata": {
    "slideshow": {
     "slide_type": "-"
    }
   },
   "outputs": [],
   "source": [
    "img_filename = \"data/cell_growth.pdf\""
   ]
  },
  {
   "cell_type": "code",
   "execution_count": 51,
   "id": "35fcce09",
   "metadata": {
    "slideshow": {
     "slide_type": "fragment"
    }
   },
   "outputs": [],
   "source": [
    "plt.savefig(img_filename)\n",
    "plt.close() # when dealing with multiple plots, avoid over-plotting using close"
   ]
  },
  {
   "cell_type": "markdown",
   "id": "a25dae0f",
   "metadata": {
    "slideshow": {
     "slide_type": "subslide"
    }
   },
   "source": [
    "We'll also need a table of RMSE and $R^2$ results for publication. Let's make it in Pandas. We start by storing each row of results in a list."
   ]
  },
  {
   "cell_type": "code",
   "execution_count": 52,
   "id": "578eb8d1",
   "metadata": {},
   "outputs": [],
   "source": [
    "results = []\n",
    "for guess in guesses:\n",
    "    guess_y = guess(x)\n",
    "    result = (guess.__name__, rmse(y, guess_y), rsquared(y, guess_y))\n",
    "    results.append(result)"
   ]
  },
  {
   "cell_type": "code",
   "execution_count": 53,
   "id": "ff20fbe5",
   "metadata": {
    "slideshow": {
     "slide_type": "fragment"
    }
   },
   "outputs": [],
   "source": [
    "results_df = pd.DataFrame(results, columns=('fn_name', 'rmse', 'rsquared'))"
   ]
  },
  {
   "cell_type": "code",
   "execution_count": 54,
   "id": "6bb2fa76",
   "metadata": {
    "slideshow": {
     "slide_type": "subslide"
    }
   },
   "outputs": [
    {
     "data": {
      "text/html": [
       "<div>\n",
       "<style scoped>\n",
       "    .dataframe tbody tr th:only-of-type {\n",
       "        vertical-align: middle;\n",
       "    }\n",
       "\n",
       "    .dataframe tbody tr th {\n",
       "        vertical-align: top;\n",
       "    }\n",
       "\n",
       "    .dataframe thead th {\n",
       "        text-align: right;\n",
       "    }\n",
       "</style>\n",
       "<table border=\"1\" class=\"dataframe\">\n",
       "  <thead>\n",
       "    <tr style=\"text-align: right;\">\n",
       "      <th></th>\n",
       "      <th>fn_name</th>\n",
       "      <th>rmse</th>\n",
       "      <th>rsquared</th>\n",
       "    </tr>\n",
       "  </thead>\n",
       "  <tbody>\n",
       "    <tr>\n",
       "      <th>0</th>\n",
       "      <td>f_guess</td>\n",
       "      <td>2.547070</td>\n",
       "      <td>0.120032</td>\n",
       "    </tr>\n",
       "    <tr>\n",
       "      <th>1</th>\n",
       "      <td>f_guess2</td>\n",
       "      <td>3.161769</td>\n",
       "      <td>0.298017</td>\n",
       "    </tr>\n",
       "    <tr>\n",
       "      <th>2</th>\n",
       "      <td>xsq</td>\n",
       "      <td>42.225042</td>\n",
       "      <td>0.224947</td>\n",
       "    </tr>\n",
       "    <tr>\n",
       "      <th>3</th>\n",
       "      <td>xcub</td>\n",
       "      <td>388.647031</td>\n",
       "      <td>0.329021</td>\n",
       "    </tr>\n",
       "    <tr>\n",
       "      <th>4</th>\n",
       "      <td>logx1</td>\n",
       "      <td>3.548263</td>\n",
       "      <td>0.122482</td>\n",
       "    </tr>\n",
       "    <tr>\n",
       "      <th>5</th>\n",
       "      <td>my_weird_fn</td>\n",
       "      <td>3.061098</td>\n",
       "      <td>0.467703</td>\n",
       "    </tr>\n",
       "  </tbody>\n",
       "</table>\n",
       "</div>"
      ],
      "text/plain": [
       "       fn_name        rmse  rsquared\n",
       "0      f_guess    2.547070  0.120032\n",
       "1     f_guess2    3.161769  0.298017\n",
       "2          xsq   42.225042  0.224947\n",
       "3         xcub  388.647031  0.329021\n",
       "4        logx1    3.548263  0.122482\n",
       "5  my_weird_fn    3.061098  0.467703"
      ]
     },
     "execution_count": 54,
     "metadata": {},
     "output_type": "execute_result"
    }
   ],
   "source": [
    "results_df"
   ]
  },
  {
   "cell_type": "markdown",
   "id": "99be1851",
   "metadata": {},
   "source": [
    "Let's write that table to disk also."
   ]
  },
  {
   "cell_type": "code",
   "execution_count": 55,
   "id": "78aa0960",
   "metadata": {
    "slideshow": {
     "slide_type": "subslide"
    }
   },
   "outputs": [],
   "source": [
    "results_filename = \"data/cell_growth_results.csv\" \n",
    "results_df.to_csv(results_filename, index=False) # don't write an index column"
   ]
  },
  {
   "cell_type": "code",
   "execution_count": 56,
   "id": "b2ea72ff",
   "metadata": {
    "slideshow": {
     "slide_type": "subslide"
    }
   },
   "outputs": [
    {
     "name": "stdout",
     "output_type": "stream",
     "text": [
      "fn_name,rmse,rsquared\r\n",
      "f_guess,2.5470699888588686,0.12003170424651236\r\n",
      "f_guess2,3.161768844002654,0.2980174153919696\r\n",
      "xsq,42.22504191383356,0.22494680958583232\r\n",
      "xcub,388.6470314039689,0.32902140713756195\r\n",
      "logx1,3.54826331245571,0.12248168559184852\r\n",
      "my_weird_fn,3.0610980562078383,0.4677030383134019\r\n"
     ]
    }
   ],
   "source": [
    "!cat $results_filename"
   ]
  },
  {
   "cell_type": "markdown",
   "id": "b6d26127",
   "metadata": {
    "slideshow": {
     "slide_type": "slide"
    }
   },
   "source": [
    "### Going further\n",
    "\n",
    "Now we're finished. You might be wondering: why did we have to guess this manually? \n",
    "\n",
    "* We can use Linear Regression to fit a straight line to data\n",
    "* If we know a non-linear function but not the right constants, we can use Non-linear Least Squares to fit\n",
    "* If we don't even know what non-linear function to use, we can consider eg Genetic Programming! "
   ]
  },
  {
   "cell_type": "markdown",
   "id": "1ae60389",
   "metadata": {
    "slideshow": {
     "slide_type": "fragment"
    }
   },
   "source": [
    "Please see Vanderplas **Python Data Science Handbook**, available for free online, as a reference for Numpy, Pandas, Matplotlib, Seaborn, Scikit-Learn."
   ]
  },
  {
   "cell_type": "markdown",
   "id": "44260d2d",
   "metadata": {
    "slideshow": {
     "slide_type": "subslide"
    }
   },
   "source": [
    "### Summary: `Matplotlib`\n",
    "\n",
    "* `import matplotlib.pyplot as plt`\n",
    "* `plt.plot` for a lineplot\n",
    "* `plt.scatter` for a scatterplot\n",
    "* `plt.xlim`, `plt.ylim` to control axis ranges\n",
    "* `plt.xlabel`, `plt.ylabel` to give axis labels\n",
    "* `r'$\\phi_{173}$'` - use LaTeX maths formatting in axis labels\n",
    "* `label=` inside `plot` or `scatter` to pass labels, then `plt.legend` to use them\n",
    "* Use semi-colon `;` on last line to remove ugly output\n",
    "  "
   ]
  },
  {
   "cell_type": "markdown",
   "id": "75fd8e55",
   "metadata": {
    "slideshow": {
     "slide_type": "subslide"
    }
   },
   "source": [
    "### Summary: Numpy\n",
    "\n",
    "* `import numpy as np`\n",
    "* Central object is the **array**\n",
    "* `x = np.array([1.0, 2.0, 3.0])` to create a 1D `float` array from a list\n",
    "* `M = np.array([[1, 2, 3], [4, 5, 6], [7, 8, 9]])` to create a 2D `int` array from a list of lists\n",
    "* `np.linspace(0, 10, 101, endpoint=True)` to generate a 1D grid\n",
    "* **Vectorised functions**: eg `np.log(x)` where `x` is an array, returns an array\n",
    "* Overloaded Python operators also vectorised, eg `(a-b)**2`"
   ]
  },
  {
   "cell_type": "markdown",
   "id": "ad77dc81",
   "metadata": {
    "slideshow": {
     "slide_type": "subslide"
    }
   },
   "source": [
    "### Summary: Numpy (2)\n",
    "\n",
    "* `np.random.uniform()` to generate uniform random numbers\n",
    "* `np.random.randn()` for normally-distributed numbers\n",
    "* `np.corrcoef` for correlation coefficient\n",
    "* `np.load`, `np.save` to load/save in `.npy` format\n",
    "* `np.genfromtxt`, `np.savetxt` to load/save in text format"
   ]
  },
  {
   "cell_type": "markdown",
   "id": "fa4b1ffb",
   "metadata": {
    "slideshow": {
     "slide_type": "subslide"
    }
   },
   "source": [
    "### Summary: Pandas\n",
    "\n",
    "* `import pandas as pd`\n",
    "* Central object is the **DataFrame**\n",
    "* `pd.read_csv`, `df.to_csv` for load/save csv\n",
    "* `df.head()` for a quick look\n",
    "* `df = pd.DataFrame(results)` to convert a list of rows to `DataFrame`\n",
    "* **A DataFrame is like a dictionary, name: column**\n",
    "* Therefore, access is like a `dict`: `df['x']`"
   ]
  }
 ],
 "metadata": {
  "celltoolbar": "Slideshow",
  "kernelspec": {
   "display_name": "Python 3 (ipykernel)",
   "language": "python",
   "name": "python3"
  },
  "language_info": {
   "codemirror_mode": {
    "name": "ipython",
    "version": 3
   },
   "file_extension": ".py",
   "mimetype": "text/x-python",
   "name": "python",
   "nbconvert_exporter": "python",
   "pygments_lexer": "ipython3",
   "version": "3.11.7"
  }
 },
 "nbformat": 4,
 "nbformat_minor": 5
}
