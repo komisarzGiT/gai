{
 "cells": [
  {
   "cell_type": "markdown",
   "metadata": {},
   "source": [
    "# Week 2 Exercises\n",
    "\n",
    "This notebook contains lots of exercises testing concepts introduced in Weeks 1-2.\n",
    "\n",
    "Each exercise has doctests which will help you check that your code is working. The doctests are run in a cell directly after each exercise, and again all at once at the very bottom for convenience."
   ]
  },
  {
   "cell_type": "markdown",
   "metadata": {},
   "source": [
    "I'm taking some examples from some online sources. Each is credited where appropriate."
   ]
  },
  {
   "cell_type": "markdown",
   "metadata": {},
   "source": []
  },
  {
   "cell_type": "code",
   "execution_count": 3,
   "metadata": {},
   "outputs": [],
   "source": [
    "import doctest\n",
    "import math\n",
    "import random\n",
    "import itertools"
   ]
  },
  {
   "cell_type": "markdown",
   "metadata": {},
   "source": [
    "### `list`s\n",
    "\n",
    "Write a function to calculate the cumulative sum of a list. It will also work on an input tuple, but will still return a list."
   ]
  },
  {
   "cell_type": "code",
   "execution_count": 2,
   "metadata": {},
   "outputs": [],
   "source": [
    "def cumsum(L):\n",
    "    \"\"\"\n",
    "    >>> cumsum([5, 5, 5])\n",
    "    [5, 10, 15]\n",
    "    >>> cumsum([])\n",
    "    []\n",
    "    >>> cumsum([5])\n",
    "    [5]\n",
    "    >>> cumsum((5, 5, 5))\n",
    "    [5, 10, 15]\n",
    "    \"\"\"\n",
    "    # YOUR CODE HERE"
   ]
  },
  {
   "cell_type": "code",
   "execution_count": 3,
   "metadata": {},
   "outputs": [
    {
     "name": "stdout",
     "output_type": "stream",
     "text": [
      "Finding tests in NoName\n",
      "Trying:\n",
      "    cumsum([5, 5, 5])\n",
      "Expecting:\n",
      "    [5, 10, 15]\n",
      "ok\n",
      "Trying:\n",
      "    cumsum([])\n",
      "Expecting:\n",
      "    []\n",
      "ok\n",
      "Trying:\n",
      "    cumsum([5])\n",
      "Expecting:\n",
      "    [5]\n",
      "ok\n",
      "Trying:\n",
      "    cumsum((5, 5, 5))\n",
      "Expecting:\n",
      "    [5, 10, 15]\n",
      "ok\n"
     ]
    }
   ],
   "source": [
    "doctest.run_docstring_examples(cumsum, globals(), verbose=True)"
   ]
  },
  {
   "cell_type": "markdown",
   "metadata": {},
   "source": [
    "As you know, we have a builtin function `sum`, eg `sum([4, 5, 6])` gives 15. Write a similar function `product`:"
   ]
  },
  {
   "cell_type": "code",
   "execution_count": 4,
   "metadata": {},
   "outputs": [],
   "source": [
    "def product(L):\n",
    "    \"\"\"\n",
    "    >>> product([1, 1, 1])\n",
    "    1\n",
    "    >>> product([1, 2, 3])\n",
    "    6\n",
    "    >>> product([]) # the sum of an empty list is 0, but the product of an empty list is 1\n",
    "    1\n",
    "    \"\"\"\n",
    "    # YOUR CODE HERE"
   ]
  },
  {
   "cell_type": "code",
   "execution_count": 5,
   "metadata": {},
   "outputs": [
    {
     "name": "stdout",
     "output_type": "stream",
     "text": [
      "Finding tests in NoName\n",
      "Trying:\n",
      "    product([1, 1, 1])\n",
      "Expecting:\n",
      "    1\n",
      "ok\n",
      "Trying:\n",
      "    product([1, 2, 3])\n",
      "Expecting:\n",
      "    6\n",
      "ok\n",
      "Trying:\n",
      "    product([]) # the sum of an empty list is 0, but the product of an empty list is 1\n",
      "Expecting:\n",
      "    1\n",
      "ok\n"
     ]
    }
   ],
   "source": [
    "doctest.run_docstring_examples(product, globals(), verbose=True)"
   ]
  },
  {
   "cell_type": "markdown",
   "metadata": {},
   "source": [
    "### Comprehensions\n",
    "\n",
    "We want to create a list containing $e^x \\; \\forall x \\in [0.0, 0.1, ..., 1.0]$. Here $\\forall$ means \"for all\". So it means we want $[e^{0.0}, e^{0.1}, ... e^{1.0}]$. Use a list comprehension, range and of course `math.exp` to do this."
   ]
  },
  {
   "cell_type": "code",
   "execution_count": 6,
   "metadata": {},
   "outputs": [],
   "source": [
    "def make_e_x():\n",
    "    \"\"\"\n",
    "    Notice we can still use a doctest even if there are no arguments.\n",
    "    >>> make_e_x()\n",
    "    [1.0, 1.1051709180756477, 1.2214027581601699, 1.3498588075760032, 1.4918246976412703, 1.6487212707001282, 1.8221188003905089, 2.0137527074704766, 2.225540928492468, 2.45960311115695, 2.718281828459045]\n",
    "    \"\"\"\n",
    "    # YOUR CODE HERE\n",
    "    "
   ]
  },
  {
   "cell_type": "code",
   "execution_count": 7,
   "metadata": {},
   "outputs": [
    {
     "name": "stdout",
     "output_type": "stream",
     "text": [
      "Finding tests in NoName\n",
      "Trying:\n",
      "    make_e_x()\n",
      "Expecting:\n",
      "    [1.0, 1.1051709180756477, 1.2214027581601699, 1.3498588075760032, 1.4918246976412703, 1.6487212707001282, 1.8221188003905089, 2.0137527074704766, 2.225540928492468, 2.45960311115695, 2.718281828459045]\n",
      "ok\n"
     ]
    }
   ],
   "source": [
    "doctest.run_docstring_examples(make_e_x, globals(), verbose=True)"
   ]
  },
  {
   "cell_type": "markdown",
   "metadata": {},
   "source": [
    "### `map`\n",
    "\n",
    "Now do the same exercise as above, but this time using `map`."
   ]
  },
  {
   "cell_type": "code",
   "execution_count": 8,
   "metadata": {},
   "outputs": [],
   "source": [
    "def make_e_x_map():\n",
    "    \"\"\"\n",
    "    Notice we can still use a doctest even if there are no arguments.\n",
    "    >>> make_e_x_map()\n",
    "    [1.0, 1.1051709180756477, 1.2214027581601699, 1.3498588075760032, 1.4918246976412703, 1.6487212707001282, 1.8221188003905089, 2.0137527074704766, 2.225540928492468, 2.45960311115695, 2.718281828459045]\n",
    "    \"\"\"\n",
    "    # YOUR CODE HERE"
   ]
  },
  {
   "cell_type": "code",
   "execution_count": 9,
   "metadata": {},
   "outputs": [
    {
     "name": "stdout",
     "output_type": "stream",
     "text": [
      "Finding tests in NoName\n",
      "Trying:\n",
      "    make_e_x_map()\n",
      "Expecting:\n",
      "    [1.0, 1.1051709180756477, 1.2214027581601699, 1.3498588075760032, 1.4918246976412703, 1.6487212707001282, 1.8221188003905089, 2.0137527074704766, 2.225540928492468, 2.45960311115695, 2.718281828459045]\n",
      "ok\n"
     ]
    }
   ],
   "source": [
    "doctest.run_docstring_examples(make_e_x_map, globals(), verbose=True)"
   ]
  },
  {
   "cell_type": "markdown",
   "metadata": {},
   "source": [
    "### Generator comprehensions\n",
    "\n",
    "* How many unique cuboids are there, whose sides (integer-valued) sum to 250 or less?\n",
    "* How many unique cuboids are there, whose sides (integer-valued) sum to exactly 250?\n",
    "* What is the highest-volume cuboid whose sides (integer-valued) sum to exactly 250?\n",
    "\n",
    "A cuboid where one or more sides equal 0 is not a cuboid, so don't count those.\n",
    "\n",
    "There are a **lot** of cuboids whose sides sum to 250 or less and we don't want to create them all in memory. So we start by writing a **generator** to generate cuboids whose sides are all < 250."
   ]
  },
  {
   "cell_type": "code",
   "execution_count": 10,
   "metadata": {},
   "outputs": [],
   "source": [
    "def cuboids(n):\n",
    "    # we *canonicalise* on the ordering x <= y <= z to avoid duplicates\n",
    "    for x in range(1, n):\n",
    "        for y in range(x, n):\n",
    "            for z in range(y, n):\n",
    "                yield (x, y, z)"
   ]
  },
  {
   "cell_type": "markdown",
   "metadata": {},
   "source": [
    "Now let's use that generator inside some generator comprehensions. **Hint**: for the last part, also use the `product` function we wrote above."
   ]
  },
  {
   "cell_type": "code",
   "execution_count": 11,
   "metadata": {},
   "outputs": [],
   "source": [
    "# How many unique cuboids are there, whose sides (integer-valued) sum to 250 or less?\n",
    "def n_cuboids_side_lt(side):\n",
    "    \"\"\"\n",
    "    # NB: 400K, not 2.6M (2.6M is the number of cuboids where *each* side <= 250)\n",
    "    >>> n_cuboids_side_lt(250) # side_lt means \"sum of sides less than\"\n",
    "    436611\n",
    "    \"\"\"\n",
    "    ## YOUR CODE HERE"
   ]
  },
  {
   "cell_type": "code",
   "execution_count": null,
   "metadata": {},
   "outputs": [],
   "source": [
    "doctest.run_docstring_examples(n_cuboids_side_lt, globals(), verbose=True)"
   ]
  },
  {
   "cell_type": "code",
   "execution_count": 13,
   "metadata": {},
   "outputs": [],
   "source": [
    "# How many unique cuboids are there, whose sides (integer-valued) sum to exactly 250?\n",
    "def n_cuboids_sum_eq(side_sum):\n",
    "    \"\"\"\n",
    "    >>> n_cuboids_sum_eq(250) # sum_eq means \"sum of sides equal to\"\n",
    "    5208\n",
    "    \"\"\"\n",
    "    # YOUR CODE HERE"
   ]
  },
  {
   "cell_type": "code",
   "execution_count": null,
   "metadata": {},
   "outputs": [],
   "source": [
    "doctest.run_docstring_examples(n_cuboids_sum_eq, globals(), verbose=True)"
   ]
  },
  {
   "cell_type": "code",
   "execution_count": 15,
   "metadata": {},
   "outputs": [],
   "source": [
    "# What is the highest-volume cuboid whose sides (integer-valued) sum to exactly 250?\n",
    "def highest_vol_cuboid_sum_eq(side_sum):\n",
    "    \"\"\"\n",
    "    >>> highest_vol_cuboid_sum_eq(250)\n",
    "    (83, 83, 84)\n",
    "    \"\"\"\n",
    "    # YOUR CODE HERE "
   ]
  },
  {
   "cell_type": "code",
   "execution_count": null,
   "metadata": {},
   "outputs": [],
   "source": [
    "doctest.run_docstring_examples(highest_vol_cuboid_sum_eq, globals(), verbose=True)"
   ]
  },
  {
   "cell_type": "markdown",
   "metadata": {},
   "source": [
    "### `dict` comprehensions\n",
    "\n",
    "Use a `dict` comprehension to invert a dictionary. That is, if in the original `dict` we have a key-value pair `k: v`, we should now have `v: k`. "
   ]
  },
  {
   "cell_type": "code",
   "execution_count": 17,
   "metadata": {},
   "outputs": [],
   "source": [
    "def invert_dict(d):\n",
    "    \"\"\"Use a dict comprehension to invert the dict.\n",
    "\n",
    "    >>> invert_dict({\"a\": 1, \"dog\": 3, \"giraffe\": 7})\n",
    "    {1: 'a', 3: 'dog', 7: 'giraffe'}\n",
    "\n",
    "    Recall keys must be unique. If we have a dict with non-unique *values* and\n",
    "    we invert, we'll now have non-unique keys, so the *later* ones will over-write\n",
    "    the earlier ones. Notice *dog* disappears:\n",
    "\n",
    "    >>> invert_dict({\"a\": 1, \"dog\": 3, \"giraffe\": 7, \"cat\": 3})\n",
    "    {1: 'a', 3: 'cat', 7: 'giraffe'}\n",
    "    \"\"\"\n",
    "\n",
    "    # YOUR CODE HERE"
   ]
  },
  {
   "cell_type": "code",
   "execution_count": 18,
   "metadata": {},
   "outputs": [
    {
     "name": "stdout",
     "output_type": "stream",
     "text": [
      "Finding tests in NoName\n",
      "Trying:\n",
      "    invert_dict({\"a\": 1, \"dog\": 3, \"giraffe\": 7})\n",
      "Expecting:\n",
      "    {1: 'a', 3: 'dog', 7: 'giraffe'}\n",
      "ok\n",
      "Trying:\n",
      "    invert_dict({\"a\": 1, \"dog\": 3, \"giraffe\": 7, \"cat\": 3})\n",
      "Expecting:\n",
      "    {1: 'a', 3: 'cat', 7: 'giraffe'}\n",
      "ok\n"
     ]
    }
   ],
   "source": [
    "doctest.run_docstring_examples(invert_dict, globals(), verbose=True)"
   ]
  },
  {
   "cell_type": "markdown",
   "metadata": {},
   "source": [
    "### Exceptions\n",
    "\n",
    "In the following function, `return s[-n:]` does the basic job. But we want to check that the user does not request too large a value of $n$. If they do, we should `raise ValueError` with an informative message such as `ValueError: Can't return 7 elements from string abcde of length 5`. Hint: you could use an f-string to create that string. \n"
   ]
  },
  {
   "cell_type": "code",
   "execution_count": 19,
   "metadata": {},
   "outputs": [],
   "source": [
    "def get_last_n_elements(s, n):\n",
    "    \"\"\"\n",
    "    >>> get_last_n_elements(\"abcde\", 2)\n",
    "    'de'\n",
    "\n",
    "    >>> get_last_n_elements(\"abcde\", 7) # notice we can write doctests to expect errors, as here:\n",
    "    Traceback (most recent call last):\n",
    "        ...\n",
    "    ValueError: Can't return 7 elements from string abcde of length 5\n",
    "    \"\"\"\n",
    "\n",
    "    # YOUR CODE HERE\n",
    "    return s[-n:]"
   ]
  },
  {
   "cell_type": "code",
   "execution_count": 20,
   "metadata": {},
   "outputs": [
    {
     "name": "stdout",
     "output_type": "stream",
     "text": [
      "Finding tests in NoName\n",
      "Trying:\n",
      "    get_last_n_elements(\"abcde\", 2)\n",
      "Expecting:\n",
      "    'de'\n",
      "ok\n",
      "Trying:\n",
      "    get_last_n_elements(\"abcde\", 7) # notice we can write doctests to expect errors, as here:\n",
      "Expecting:\n",
      "    Traceback (most recent call last):\n",
      "        ...\n",
      "    ValueError: Can't return 7 elements from string abcde of length 5\n",
      "ok\n"
     ]
    }
   ],
   "source": [
    "doctest.run_docstring_examples(get_last_n_elements, globals(), verbose=True)"
   ]
  },
  {
   "cell_type": "markdown",
   "metadata": {},
   "source": [
    "### `f`-strings"
   ]
  },
  {
   "cell_type": "markdown",
   "metadata": {},
   "source": [
    "Write a function that takes a list of strings and prints them, one per line, in a rectangular frame. For example the list `[\"Hello\", \"World\", \"in\", \"a\", \"frame\"]` gets printed as:\n",
    "\n",
    "```\n",
    "*********\n",
    "* Hello *\n",
    "* World *\n",
    "* in    *\n",
    "* a     *\n",
    "* frame *\n",
    "*********\n",
    "```\n",
    " \n",
    "From https://adriann.github.io/programming_problems.html \n",
    "\n",
    "**Hint**: recall that using `f`-strings, we can ask to print a string with *padding* of a certain *width*, eg like this:\n"
   ]
  },
  {
   "cell_type": "code",
   "execution_count": 21,
   "metadata": {},
   "outputs": [
    {
     "name": "stdout",
     "output_type": "stream",
     "text": [
      "|hi   |\n"
     ]
    }
   ],
   "source": [
    "width = 5\n",
    "s = \"hi\"\n",
    "print(f\"|{s:<{width}}|\")"
   ]
  },
  {
   "cell_type": "code",
   "execution_count": 22,
   "metadata": {},
   "outputs": [],
   "source": [
    "def frame(L):\n",
    "    \"\"\"\n",
    "    Notice in this case we don't return anything. But a doctest can still \n",
    "    test against the printed output. \n",
    "    \n",
    "    The output is multiple lines. In cases like this it's handy to put the doctest\n",
    "    at the very left, ie unindented. We can do that without a problem as below.\n",
    "    \n",
    ">>> frame([\"Hello\", \"World\", \"in\", \"a\", \"frame\"])\n",
    "*********\n",
    "* Hello *\n",
    "* World *\n",
    "* in    *\n",
    "* a     *\n",
    "* frame *\n",
    "*********\n",
    "    \"\"\"\n",
    "    # YOUR CODE HERE"
   ]
  },
  {
   "cell_type": "code",
   "execution_count": 23,
   "metadata": {},
   "outputs": [
    {
     "name": "stdout",
     "output_type": "stream",
     "text": [
      "Finding tests in NoName\n",
      "Trying:\n",
      "    frame([\"Hello\", \"World\", \"in\", \"a\", \"frame\"])\n",
      "Expecting:\n",
      "    *********\n",
      "    * Hello *\n",
      "    * World *\n",
      "    * in    *\n",
      "    * a     *\n",
      "    * frame *\n",
      "    *********\n",
      "ok\n"
     ]
    }
   ],
   "source": [
    "doctest.run_docstring_examples(frame, globals(), verbose=True)"
   ]
  },
  {
   "cell_type": "markdown",
   "metadata": {},
   "source": [
    "### `f`-strings\n",
    "\n",
    "Write a function to print out a multiplication table for integers up to $n$. **Hint**: figure out how many spaces the largest answer will need (eg, $12*12=144$ => 3 digits). Use `f`-string padding again.\n",
    "\n",
    "From https://adriann.github.io/programming_problems.html"
   ]
  },
  {
   "cell_type": "code",
   "execution_count": 4,
   "metadata": {},
   "outputs": [],
   "source": [
    "def mult_table(n):\n",
    "    \"\"\"\n",
    ">>> mult_table(5)\n",
    "   1   2   3   4   5\n",
    "   2   4   6   8  10\n",
    "   3   6   9  12  15\n",
    "   4   8  12  16  20\n",
    "   5  10  15  20  25\n",
    ">>> mult_table(3)\n",
    "  1  2  3\n",
    "  2  4  6\n",
    "  3  6  9\n",
    "    \"\"\"\n",
    "    # how many digits will our answers be? check the largest possible answer\n",
    "    # to allow enough space to print\n",
    "    if n**2 > 999: digits = 4\n",
    "    elif n**2 > 99: digits = 3\n",
    "    elif n**2 > 9: digits = 2\n",
    "    else: digits = 1\n",
    "    # YOUR CODE HERE"
   ]
  },
  {
   "cell_type": "code",
   "execution_count": 5,
   "metadata": {},
   "outputs": [
    {
     "name": "stdout",
     "output_type": "stream",
     "text": [
      "Finding tests in NoName\n",
      "Trying:\n",
      "    mult_table(5)\n",
      "Expecting:\n",
      "       1   2   3   4   5\n",
      "       2   4   6   8  10\n",
      "       3   6   9  12  15\n",
      "       4   8  12  16  20\n",
      "       5  10  15  20  25\n",
      "**********************************************************************\n",
      "File \"__main__\", line 3, in NoName\n",
      "Failed example:\n",
      "    mult_table(5)\n",
      "Expected:\n",
      "       1   2   3   4   5\n",
      "       2   4   6   8  10\n",
      "       3   6   9  12  15\n",
      "       4   8  12  16  20\n",
      "       5  10  15  20  25\n",
      "Got nothing\n",
      "Trying:\n",
      "    mult_table(3)\n",
      "Expecting:\n",
      "      1  2  3\n",
      "      2  4  6\n",
      "      3  6  9\n",
      "**********************************************************************\n",
      "File \"__main__\", line 9, in NoName\n",
      "Failed example:\n",
      "    mult_table(3)\n",
      "Expected:\n",
      "      1  2  3\n",
      "      2  4  6\n",
      "      3  6  9\n",
      "Got nothing\n"
     ]
    }
   ],
   "source": [
    "doctest.run_docstring_examples(mult_table, globals(), verbose=True)"
   ]
  },
  {
   "cell_type": "markdown",
   "metadata": {},
   "source": [
    "### Unpacking\n",
    "\n",
    "Implement a function to extract the middle of a list, that is all except the head (first element) and tail (last element). Notice how we specify that if the user passes a list of 2 items, the \"middle\" is an empty list: not an error. But if the user passes a list of less than 2, then there is no middle: notice how we write that an error is an expected result, in a doctest."
   ]
  },
  {
   "cell_type": "code",
   "execution_count": 26,
   "metadata": {},
   "outputs": [],
   "source": [
    "def extract_middle(s):\n",
    "    \"\"\"\n",
    "    Remove the first and last elements, and return the rest as a list.\n",
    "    \n",
    "    >>> extract_middle([0, 1, 2, 3, 4, 5])\n",
    "    [1, 2, 3, 4]\n",
    "    >>> extract_middle((0, 1, 2, 3, 4, 5))\n",
    "    [1, 2, 3, 4]\n",
    "    >>> extract_middle((0, 1))\n",
    "    []\n",
    "    >>> extract_middle([0])\n",
    "    Traceback (most recent call last):\n",
    "    ...\n",
    "    TypeError\n",
    "    \"\"\"\n",
    "    # YOUR CODE HERE"
   ]
  },
  {
   "cell_type": "code",
   "execution_count": 27,
   "metadata": {},
   "outputs": [
    {
     "name": "stdout",
     "output_type": "stream",
     "text": [
      "Finding tests in NoName\n",
      "Trying:\n",
      "    extract_middle([0, 1, 2, 3, 4, 5])\n",
      "Expecting:\n",
      "    [1, 2, 3, 4]\n",
      "ok\n",
      "Trying:\n",
      "    extract_middle((0, 1, 2, 3, 4, 5))\n",
      "Expecting:\n",
      "    [1, 2, 3, 4]\n",
      "ok\n",
      "Trying:\n",
      "    extract_middle((0, 1))\n",
      "Expecting:\n",
      "    []\n",
      "ok\n",
      "Trying:\n",
      "    extract_middle([0])\n",
      "Expecting:\n",
      "    Traceback (most recent call last):\n",
      "    ...\n",
      "    TypeError\n",
      "ok\n"
     ]
    }
   ],
   "source": [
    "doctest.run_docstring_examples(extract_middle, globals(), verbose=True)"
   ]
  },
  {
   "cell_type": "markdown",
   "metadata": {},
   "source": [
    "### `dict`s\n",
    "\n",
    "Write a function which **merges** two dictionaries. It should not **mutate** the arguments."
   ]
  },
  {
   "cell_type": "code",
   "execution_count": 28,
   "metadata": {},
   "outputs": [],
   "source": [
    "def merge(d1, d2):\n",
    "    \"\"\"\n",
    "    Here we test the output in the usual way:\n",
    "    >>> merge({'a': 1, 'b': 2}, {'a': 17, 'c': 3})\n",
    "    {'a': 17, 'b': 2, 'c': 3}\n",
    "    \n",
    "    But we are also asked not to mutate the arguments. We can also check this\n",
    "    using doctests, because doctests act as if they are running an ongoing session:\n",
    "    \n",
    "    >>> d1 = {'a': 1, 'b': 2}\n",
    "    >>> d2 = {'a': 17, 'c': 3}\n",
    "    >>> d3 = merge(d1, d2)\n",
    "    >>> d3\n",
    "    {'a': 17, 'b': 2, 'c': 3}\n",
    "    >>> d1 # confirm that d1 has not been mutated\n",
    "    {'a': 1, 'b': 2}\n",
    "    \"\"\"\n",
    "    # YOUR CODE HERE"
   ]
  },
  {
   "cell_type": "code",
   "execution_count": 29,
   "metadata": {},
   "outputs": [
    {
     "name": "stdout",
     "output_type": "stream",
     "text": [
      "Finding tests in NoName\n",
      "Trying:\n",
      "    merge({'a': 1, 'b': 2}, {'a': 17, 'c': 3})\n",
      "Expecting:\n",
      "    {'a': 17, 'b': 2, 'c': 3}\n",
      "ok\n",
      "Trying:\n",
      "    d1 = {'a': 1, 'b': 2}\n",
      "Expecting nothing\n",
      "ok\n",
      "Trying:\n",
      "    d2 = {'a': 17, 'c': 3}\n",
      "Expecting nothing\n",
      "ok\n",
      "Trying:\n",
      "    d3 = merge(d1, d2)\n",
      "Expecting nothing\n",
      "ok\n",
      "Trying:\n",
      "    d3\n",
      "Expecting:\n",
      "    {'a': 17, 'b': 2, 'c': 3}\n",
      "ok\n",
      "Trying:\n",
      "    d1 # confirm that d1 has not been mutated\n",
      "Expecting:\n",
      "    {'a': 1, 'b': 2}\n",
      "ok\n"
     ]
    }
   ],
   "source": [
    "doctest.run_docstring_examples(merge, globals(), verbose=True)"
   ]
  },
  {
   "cell_type": "markdown",
   "metadata": {},
   "source": [
    "### `list`s\n",
    "\n",
    "Implement binary search. Binary search assumes that the input list is sorted. This allows us to search quickly, by cutting the list in half at every step. \"Search\" means we are given a sorted list of items (eg strings) and a search item and we have to identify whether the search item is present in the list.\n",
    "\n",
    "1. If the list is empty, return False\n",
    "2. If the list is 1 element, check if that element equals x\n",
    "3. Otherwise, get the mid-point element in the list. \n",
    "4. If x < midpoint, recurse with the first half of the list.\n",
    "5. Otherwise, recurse with the second half.\n",
    "\n",
    "**NB** Python lists can already tell you whether an item is present: `x in L`. But this is $O(n)$ because it doesn't assume `L` is sorted. Python also has a binary search built in, but our goal is to practice implementation. "
   ]
  },
  {
   "cell_type": "code",
   "execution_count": 30,
   "metadata": {},
   "outputs": [],
   "source": [
    "def bsearch(L, x):\n",
    "    \"\"\"\n",
    "    >>> bsearch([0, 4, 6, 7, 10, 12], 1)\n",
    "    False\n",
    "    >>> bsearch([0, 4, 6, 7, 10, 12], 7)\n",
    "    True\n",
    "    >>> bsearch([0, 4, 6, 7], 6)\n",
    "    True\n",
    "    \n",
    "    \"\"\"\n",
    "    # YOUR CODE HERE"
   ]
  },
  {
   "cell_type": "code",
   "execution_count": 31,
   "metadata": {},
   "outputs": [
    {
     "name": "stdout",
     "output_type": "stream",
     "text": [
      "Finding tests in NoName\n",
      "Trying:\n",
      "    bsearch([0, 4, 6, 7, 10, 12], 1)\n",
      "Expecting:\n",
      "    False\n",
      "ok\n",
      "Trying:\n",
      "    bsearch([0, 4, 6, 7, 10, 12], 7)\n",
      "Expecting:\n",
      "    True\n",
      "ok\n",
      "Trying:\n",
      "    bsearch([0, 4, 6, 7], 6)\n",
      "Expecting:\n",
      "    True\n",
      "ok\n"
     ]
    }
   ],
   "source": [
    "doctest.run_docstring_examples(bsearch, globals(), verbose=True)"
   ]
  },
  {
   "cell_type": "markdown",
   "metadata": {},
   "source": [
    "### Comprehensions\n",
    "\n",
    "John and Mary founded J&M publishing house and bought two old printers to equip it. Now they have their first commercial deal - to print a document consisting of N pages.\n",
    "\n",
    "It appears that printers work at different speed. One produces a page in x seconds and other does it in y seconds.\n",
    "So now company founders are curious about minimum time they can spend on printing the whole document with two printers.\n",
    "\n",
    "(This is a very simple case of the **job-shop scheduling problem**).\n",
    "\n",
    "Let's try this simple approach: try all cases, ie (0, n), (1, n-1), ... (n, 0), and choose the min.\n",
    "\n",
    "**Hint**: suppose printer x takes 10 seconds to do all of its work, and printer y takes 12 seconds to do all of its work. How long is the entire job?\n",
    "\n",
    "Problem from https://www.codeabbey.com/index/task_view/two-printers"
   ]
  },
  {
   "cell_type": "code",
   "execution_count": 32,
   "metadata": {},
   "outputs": [],
   "source": [
    "def min_two_printer_time(x, y, n):\n",
    "    \"\"\"\n",
    "    >>> min_two_printer_time(1, 1, 5) # each printer takes 1s per page, there are 5 pages => 3s\n",
    "    3\n",
    "    >>> min_two_printer_time(3, 5, 4) # 3 pages for x => 9s, 1 page for y => 5s => total 9s\n",
    "    9\n",
    "    \"\"\"\n",
    "    # YOUR CODE HERE"
   ]
  },
  {
   "cell_type": "code",
   "execution_count": 33,
   "metadata": {},
   "outputs": [
    {
     "name": "stdout",
     "output_type": "stream",
     "text": [
      "Finding tests in NoName\n",
      "Trying:\n",
      "    min_two_printer_time(1, 1, 5) # each printer takes 1s per page, there are 5 pages => 3s\n",
      "Expecting:\n",
      "    3\n",
      "ok\n",
      "Trying:\n",
      "    min_two_printer_time(3, 5, 4) # 3 pages for x => 9s, 1 page for y => 5s => total 9s\n",
      "Expecting:\n",
      "    9\n",
      "ok\n"
     ]
    }
   ],
   "source": [
    "doctest.run_docstring_examples(min_two_printer_time, globals(), verbose=True)"
   ]
  },
  {
   "cell_type": "markdown",
   "metadata": {},
   "source": [
    "### Simulation with random numbers\n",
    "\n",
    "In Poker, we get a hand of 5 cards. A **flush** is a hand where all cards are the same suit. What is the probability of getting a flush? You might know how to calculate this using basic probability:\n",
    "\n",
    "\n",
    "\n",
    "1. The first card can be any suit. Probability 1.\n",
    "2. The second card has to be the same as the first, but now the first card of that suit is gone. Probability 12/51.\n",
    "3. The third has to be the same again, but now the first two of that suit are gone. Probability 11/50.\n",
    "4. Same idea again. Probability 10/49.\n",
    "5. Same idea again. Probability 9/48.\n",
    "\n",
    "Product: $1 \\times 12/51 \\times 11/50 \\times 10/49 \\times 9/48$"
   ]
  },
  {
   "cell_type": "code",
   "execution_count": 34,
   "metadata": {},
   "outputs": [
    {
     "data": {
      "text/plain": [
       "0.0019807923169267707"
      ]
     },
     "execution_count": 34,
     "metadata": {},
     "output_type": "execute_result"
    }
   ],
   "source": [
    "1*(12/51)*(11/50)*(10/49)*(9/48) # 0.002 -> 0.2%"
   ]
  },
  {
   "cell_type": "markdown",
   "metadata": {},
   "source": [
    "However, our goal here is to program a simulation to check this calculation! We'll use a generic function `simulate_prob(gen, predicate, trials)`. In this, `gen` is a function to generate a random object (here, a poker hand); `predicate` is a function which checks whether the object meets some condition (here, whether it is a flush); and `trials` is the number of trials. The answer is just the number of objects which meet the condition divided by the number of trials."
   ]
  },
  {
   "cell_type": "code",
   "execution_count": 35,
   "metadata": {},
   "outputs": [],
   "source": [
    "def simulate_prob(gen, pred, trials):\n",
    "    \"\"\"\n",
    "    Notice in simulations, the output is different every time, so \n",
    "    we can't write a doctest in the usual way. One trick is to \n",
    "    write a check which is True or False.\n",
    "    >>> 0.001 < simulate_prob(deal_hand, check_flush, 10000) < 0.003\n",
    "    True\n",
    "    \"\"\"\n",
    "    count = 0\n",
    "    for i in range(trials):\n",
    "        if pred(gen()):\n",
    "            count += 1\n",
    "    return count / trials"
   ]
  },
  {
   "cell_type": "markdown",
   "metadata": {},
   "source": [
    "Our job is to write a suitable `gen` called `deal_hand` and a suitable `predicate` called `check_flush`."
   ]
  },
  {
   "cell_type": "code",
   "execution_count": 36,
   "metadata": {},
   "outputs": [],
   "source": [
    "def deal_hand():\n",
    "    \"\"\"\n",
    "    Every card has a suit and a number\n",
    "    Suits are Hearts, Diamonds, Clubs, Spades\n",
    "    Numbers are 1 up to 13, where 1 is Ace, 11 is Jack, 12 is Queen, 13 is King\n",
    "    \n",
    "    Create a list of the 52 possible cards: ['H1', 'H2', ... 'S13']\n",
    "    Then use random.sample to choose 5 of them.\n",
    "    >>> len(deal_hand()) # deal 5 cards\n",
    "    5\n",
    "    >>> len(deal_hand()[0]) in (2, 3) # each card a string of length 2 or length 3\n",
    "    True\n",
    "    >>> deal_hand()[0][0] in 'HDCS' # the suit is first, a single char\n",
    "    True\n",
    "    >>> int(deal_hand()[0][1:]) in range(1, 14) # the number of the card\n",
    "    True\n",
    "    \"\"\"\n",
    "    # YOUR CODE HERE"
   ]
  },
  {
   "cell_type": "code",
   "execution_count": 37,
   "metadata": {},
   "outputs": [
    {
     "name": "stdout",
     "output_type": "stream",
     "text": [
      "Finding tests in NoName\n",
      "Trying:\n",
      "    len(deal_hand()) # deal 5 cards\n",
      "Expecting:\n",
      "    5\n",
      "ok\n",
      "Trying:\n",
      "    len(deal_hand()[0]) in (2, 3) # each card a string of length 2 or length 3\n",
      "Expecting:\n",
      "    True\n",
      "ok\n",
      "Trying:\n",
      "    deal_hand()[0][0] in 'HDCS' # the suit is first, a single char\n",
      "Expecting:\n",
      "    True\n",
      "ok\n",
      "Trying:\n",
      "    int(deal_hand()[0][1:]) in range(1, 14) # the number of the card\n",
      "Expecting:\n",
      "    True\n",
      "ok\n"
     ]
    }
   ],
   "source": [
    "doctest.run_docstring_examples(deal_hand, globals(), verbose=True)"
   ]
  },
  {
   "cell_type": "code",
   "execution_count": 38,
   "metadata": {},
   "outputs": [],
   "source": [
    "def check_flush(hand):\n",
    "    \"\"\"\n",
    "    If we take all cards c in the hand, and take their suits c[0], and put them in a set\n",
    "    and it turns out to be of size 1, it shows they all have same suit\n",
    "    >>> check_flush(['S1', 'S2', 'S3', 'S4', 'S5'])\n",
    "    True\n",
    "    >>> check_flush(['S1', 'S2', 'S3', 'S4', 'C5'])\n",
    "    False\n",
    "    \"\"\"\n",
    "    # YOUR CODE HERE"
   ]
  },
  {
   "cell_type": "code",
   "execution_count": 39,
   "metadata": {},
   "outputs": [
    {
     "name": "stdout",
     "output_type": "stream",
     "text": [
      "Finding tests in NoName\n",
      "Trying:\n",
      "    check_flush(['S1', 'S2', 'S3', 'S4', 'S5'])\n",
      "Expecting:\n",
      "    True\n",
      "ok\n",
      "Trying:\n",
      "    check_flush(['S1', 'S2', 'S3', 'S4', 'C5'])\n",
      "Expecting:\n",
      "    False\n",
      "ok\n"
     ]
    }
   ],
   "source": [
    "doctest.run_docstring_examples(check_flush, globals(), verbose=True)"
   ]
  },
  {
   "cell_type": "markdown",
   "metadata": {},
   "source": [
    "### `itertools`\n",
    "\n",
    "Let's suppose you are booking cinema tickets for a group of 5 people, Anne, Bob, Carol, Dave, and Emma. You have found 5 seats together, numbered 0-4. But you have to decide who will sit where:\n",
    "\n",
    "* Anne and Bob are a couple, so they have to sit together.\n",
    "* Seats 0 and 4 are aisle seats.\n",
    "* Dave and Emma always insist on aisle seats.\n",
    "* Dave and Bob always argue about who gets the elbow-rest, so they should not sit together.\n",
    "\n",
    "\n",
    "\n",
    "**Hint** the skeleton code below uses `itertools.permutations` to generate all possible permutations of the people and to calculate the integer location of each person. Your job is only to implement the constraints.\n",
    "\n",
    "Inspired by https://xkcd.com/173/\n"
   ]
  },
  {
   "cell_type": "code",
   "execution_count": 40,
   "metadata": {},
   "outputs": [],
   "source": [
    "def seating():\n",
    "    \"\"\"\n",
    ">>> seating()\n",
    "('d', 'a', 'b', 'c', 'e')\n",
    "('d', 'c', 'a', 'b', 'e')\n",
    "('d', 'c', 'b', 'a', 'e')\n",
    "('e', 'a', 'b', 'c', 'd')\n",
    "('e', 'b', 'a', 'c', 'd')\n",
    "('e', 'c', 'b', 'a', 'd')\n",
    "\"\"\"\n",
    "    for p in itertools.permutations('abcde'):\n",
    "        a, b, c, d, e = [p.index(i) for i in 'abcde']\n",
    "        # YOUR CODE HERE\n",
    "        print(p)"
   ]
  },
  {
   "cell_type": "code",
   "execution_count": 41,
   "metadata": {},
   "outputs": [
    {
     "name": "stdout",
     "output_type": "stream",
     "text": [
      "Finding tests in NoName\n",
      "Trying:\n",
      "    seating()\n",
      "Expecting:\n",
      "    ('d', 'a', 'b', 'c', 'e')\n",
      "    ('d', 'c', 'a', 'b', 'e')\n",
      "    ('d', 'c', 'b', 'a', 'e')\n",
      "    ('e', 'a', 'b', 'c', 'd')\n",
      "    ('e', 'b', 'a', 'c', 'd')\n",
      "    ('e', 'c', 'b', 'a', 'd')\n",
      "ok\n"
     ]
    }
   ],
   "source": [
    "doctest.run_docstring_examples(seating, globals(), verbose=True)"
   ]
  },
  {
   "cell_type": "markdown",
   "metadata": {
    "id": "5CYuB7Bwe9sL"
   },
   "source": [
    "### List processing\n",
    "\n",
    "Implement **element-wise** matrix operations. Given two matrices $A$ and $B$, assuming they have the same shape $(m, n)$, the result of an element-wise operation such\n",
    "as addition has the same shape. Eg we can have element-wise addition, and then in the result $C$ each element $C_{i, j} = A_{i, j} + B_{i, j}$. The operation can be any binary operation, ie it takes two arguments (like addition, subtraction, multiplication, etc.).\n",
    "\n",
    "Notice that element-wise matrix multiplication is a simple operation: don't confuse it with the more complex matrix multiplication below."
   ]
  },
  {
   "cell_type": "code",
   "execution_count": 42,
   "metadata": {
    "id": "4nkhaJPwpB80"
   },
   "outputs": [],
   "source": [
    "def elementwise_matop(A, B, op):\n",
    "    \"\"\"\n",
    "    >>> elementwise_matop([[0, 1], [2, 3]], [[10, 10], [10, 10]], lambda a, b: a*b)\n",
    "    [[0, 10], [20, 30]]\n",
    "    >>> elementwise_matop([[0, 1], [2, 3]], [[10, 10], [10, 10]], lambda a, b: a+b)\n",
    "    [[10, 11], [12, 13]]\n",
    "    \"\"\"\n",
    "    if len(A) != len(B): raise ValueError\n",
    "    m = len(A)\n",
    "    n = len(A[0])\n",
    "    C = [] # make the empty result\n",
    "    # YOUR CODE HERE\n",
    "    return C"
   ]
  },
  {
   "cell_type": "code",
   "execution_count": 43,
   "metadata": {
    "colab": {
     "base_uri": "https://localhost:8080/"
    },
    "id": "naUy-juPpQ89",
    "outputId": "98083c0a-18c3-4a96-e5bf-9d8889721c4b"
   },
   "outputs": [
    {
     "name": "stdout",
     "output_type": "stream",
     "text": [
      "Finding tests in NoName\n",
      "Trying:\n",
      "    elementwise_matop([[0, 1], [2, 3]], [[10, 10], [10, 10]], lambda a, b: a*b)\n",
      "Expecting:\n",
      "    [[0, 10], [20, 30]]\n",
      "ok\n",
      "Trying:\n",
      "    elementwise_matop([[0, 1], [2, 3]], [[10, 10], [10, 10]], lambda a, b: a+b)\n",
      "Expecting:\n",
      "    [[10, 11], [12, 13]]\n",
      "ok\n"
     ]
    }
   ],
   "source": [
    "doctest.run_docstring_examples(elementwise_matop, globals(), verbose=True)"
   ]
  },
  {
   "cell_type": "markdown",
   "metadata": {
    "id": "-2e9OW4Ef6v0"
   },
   "source": [
    "### List processing\n",
    "\n",
    "Implement the dot-product on vectors. Given two vectors $A$ and $B$, each of length $n$, the dot-product $C = A . B$ has the same length and each element $C_i = A_i B_i$."
   ]
  },
  {
   "cell_type": "code",
   "execution_count": 44,
   "metadata": {
    "id": "dNXhkchHgSET"
   },
   "outputs": [],
   "source": [
    "def dot_product(A, B):\n",
    "    \"\"\"\n",
    "    >>> dot_product([2, 3, 4], [1, 1, 1])\n",
    "    9\n",
    "    >>> dot_product([2, 3, 4], [1, 1])\n",
    "    Traceback (most recent call last):\n",
    "    ...\n",
    "    ValueError\n",
    "    \"\"\"\n",
    "    # YOUR CODE HERE"
   ]
  },
  {
   "cell_type": "code",
   "execution_count": 45,
   "metadata": {
    "colab": {
     "base_uri": "https://localhost:8080/"
    },
    "id": "eHWN-_AVglBi",
    "outputId": "06e6edc0-dee4-4ef7-cc39-8b05511938c7"
   },
   "outputs": [
    {
     "name": "stdout",
     "output_type": "stream",
     "text": [
      "Finding tests in NoName\n",
      "Trying:\n",
      "    dot_product([2, 3, 4], [1, 1, 1])\n",
      "Expecting:\n",
      "    9\n",
      "ok\n",
      "Trying:\n",
      "    dot_product([2, 3, 4], [1, 1])\n",
      "Expecting:\n",
      "    Traceback (most recent call last):\n",
      "    ...\n",
      "    ValueError\n",
      "ok\n"
     ]
    }
   ],
   "source": [
    "doctest.run_docstring_examples(dot_product, globals(), verbose=True)"
   ]
  },
  {
   "cell_type": "markdown",
   "metadata": {
    "id": "KYcEVThmVDyH"
   },
   "source": [
    "### List processing\n",
    "\n",
    "Implement matrix multiplication. Remember, in matrix multiplication we have two matrices A and B. The product $C=AB$ is only well-defined\n",
    "when they have compatible shapes $(m, n)$ and $(n, p)$. $C$ has shape $(m, p)$. The value $C_{i,j}$ has the value $\\sum_k A_{i,k} B_{k,j}$."
   ]
  },
  {
   "cell_type": "code",
   "execution_count": 46,
   "metadata": {
    "id": "xKdSWefkU-2f"
   },
   "outputs": [],
   "source": [
    "def matmul(A, B):\n",
    "    \"\"\"\n",
    "    >>> A = [[2, 3],\n",
    "    ...      [2, 1]]\n",
    "    >>> B = [[1, 0],\n",
    "    ...      [0, 1]]\n",
    "    >>> matmul(A, B)\n",
    "    [[2, 3], [2, 1]]\n",
    "    >>> D = [[2, 2, 2],\n",
    "    ...      [1, 1, 1]]\n",
    "    >>> matmul(A, D) # ok\n",
    "    [[7, 7, 7], [5, 5, 5]]\n",
    "    >>> matmul(D, A) # not compatible shapes\n",
    "    Traceback (most recent call last):\n",
    "    ...\n",
    "    ValueError\n",
    "    \"\"\"\n",
    "    # YOUR CODE HERE"
   ]
  },
  {
   "cell_type": "code",
   "execution_count": 47,
   "metadata": {
    "colab": {
     "base_uri": "https://localhost:8080/"
    },
    "id": "I_Q4wSr9mMtN",
    "outputId": "7d271540-1415-4f26-a61e-24c9d6e7bfd8"
   },
   "outputs": [
    {
     "name": "stdout",
     "output_type": "stream",
     "text": [
      "Finding tests in NoName\n",
      "Trying:\n",
      "    A = [[2, 3],\n",
      "         [2, 1]]\n",
      "Expecting nothing\n",
      "ok\n",
      "Trying:\n",
      "    B = [[1, 0],\n",
      "         [0, 1]]\n",
      "Expecting nothing\n",
      "ok\n",
      "Trying:\n",
      "    matmul(A, B)\n",
      "Expecting:\n",
      "    [[2, 3], [2, 1]]\n",
      "ok\n",
      "Trying:\n",
      "    D = [[2, 2, 2],\n",
      "         [1, 1, 1]]\n",
      "Expecting nothing\n",
      "ok\n",
      "Trying:\n",
      "    matmul(A, D) # ok\n",
      "Expecting:\n",
      "    [[7, 7, 7], [5, 5, 5]]\n",
      "ok\n",
      "Trying:\n",
      "    matmul(D, A) # not compatible shapes\n",
      "Expecting:\n",
      "    Traceback (most recent call last):\n",
      "    ...\n",
      "    ValueError\n",
      "ok\n"
     ]
    }
   ],
   "source": [
    "doctest.run_docstring_examples(matmul, globals(), verbose=True)"
   ]
  },
  {
   "cell_type": "markdown",
   "metadata": {},
   "source": [
    "Let's check our results with Numpy (which we will see next week):"
   ]
  },
  {
   "cell_type": "code",
   "execution_count": 48,
   "metadata": {
    "id": "bnpdHfS9YrQy"
   },
   "outputs": [],
   "source": [
    "import numpy as np"
   ]
  },
  {
   "cell_type": "code",
   "execution_count": 49,
   "metadata": {
    "colab": {
     "base_uri": "https://localhost:8080/",
     "height": 181
    },
    "id": "Y_gBxK4OYtZn",
    "outputId": "4b232538-722c-4a44-fbcf-5f6b4cbda0a7"
   },
   "outputs": [
    {
     "data": {
      "text/plain": [
       "array([[2, 3],\n",
       "       [2, 1]])"
      ]
     },
     "execution_count": 49,
     "metadata": {},
     "output_type": "execute_result"
    }
   ],
   "source": [
    "A = np.array([[2, 3],\n",
    "              [2, 1]])\n",
    "B = np.array([[1, 0],\n",
    "              [0, 1]])\n",
    "A @ B "
   ]
  },
  {
   "cell_type": "code",
   "execution_count": 50,
   "metadata": {
    "id": "2QUVt1mCY3Wt"
   },
   "outputs": [
    {
     "data": {
      "text/plain": [
       "array([[7, 7, 7],\n",
       "       [5, 5, 5]])"
      ]
     },
     "execution_count": 50,
     "metadata": {},
     "output_type": "execute_result"
    }
   ],
   "source": [
    "D = np.array([[2, 2, 2],\n",
    "              [1, 1, 1]])\n",
    "A @ D "
   ]
  },
  {
   "cell_type": "code",
   "execution_count": 51,
   "metadata": {},
   "outputs": [
    {
     "data": {
      "text/plain": [
       "TestResults(failed=0, attempted=52)"
      ]
     },
     "execution_count": 51,
     "metadata": {},
     "output_type": "execute_result"
    }
   ],
   "source": [
    "doctest.testmod()"
   ]
  },
  {
   "cell_type": "code",
   "execution_count": null,
   "metadata": {},
   "outputs": [],
   "source": []
  }
 ],
 "metadata": {
  "colab": {
   "provenance": []
  },
  "kernelspec": {
   "display_name": "Python 3 (ipykernel)",
   "language": "python",
   "name": "python3"
  },
  "language_info": {
   "codemirror_mode": {
    "name": "ipython",
    "version": 3
   },
   "file_extension": ".py",
   "mimetype": "text/x-python",
   "name": "python",
   "nbconvert_exporter": "python",
   "pygments_lexer": "ipython3",
   "version": "3.9.6"
  }
 },
 "nbformat": 4,
 "nbformat_minor": 4
}
