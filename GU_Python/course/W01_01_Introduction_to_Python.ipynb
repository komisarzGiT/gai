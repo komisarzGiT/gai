{
 "cells": [
  {
   "cell_type": "markdown",
   "metadata": {
    "slideshow": {
     "slide_type": "slide"
    }
   },
   "source": [
    "<center><img src=img/MScAI_brand.png width=70%></center>\n",
    "\n",
    "# Introduction to Python"
   ]
  },
  {
   "cell_type": "markdown",
   "metadata": {
    "slideshow": {
     "slide_type": "notes"
    }
   },
   "source": [
    "In this notebook we'll introduce Python, say why it's a good language to learn, see several ways to execute Python code, and observe some of the basic features of the language."
   ]
  },
  {
   "cell_type": "markdown",
   "metadata": {
    "slideshow": {
     "slide_type": "slide"
    }
   },
   "source": [
    "### Why Python?\n",
    "\n",
    "* Multiple styles of programming\n",
    "* Interactive\n",
    "* Use in AI research\n",
    "* Fun?"
   ]
  },
  {
   "cell_type": "markdown",
   "metadata": {
    "slideshow": {
     "slide_type": "slide"
    }
   },
   "source": [
    "<center><img src=https://imgs.xkcd.com/comics/python.png width=50%></center>\n",
    "\n",
    "<small>From https://www.xkcd.com/353/</small>"
   ]
  },
  {
   "cell_type": "markdown",
   "metadata": {
    "slideshow": {
     "slide_type": "notes"
    }
   },
   "source": [
    "I started using Python around 2004, and my experience was a lot like the guy in this comic. A lot of things that seemed to be a hassle when I had to do them in C just disappeared, so programming became a lot faster and more fun."
   ]
  },
  {
   "cell_type": "markdown",
   "metadata": {
    "slideshow": {
     "slide_type": "slide"
    }
   },
   "source": [
    "Python was created by Guido Van Rossum in 1991.\n",
    "\n",
    "<center><img src=https://upload.wikimedia.org/wikipedia/commons/d/d0/Guido-portrait-2014-curvves.jpg width=40%></center>"
   ]
  },
  {
   "cell_type": "markdown",
   "metadata": {
    "slideshow": {
     "slide_type": "subslide"
    }
   },
   "source": [
    "### Installing Python\n",
    "\n",
    "We will install Python and associated libraries using the Anaconda distribution from `https://www.anaconda.com/distribution/`. Choose the latest Python 3 version, e.g. 3.8. Follow its steps to install. After install, the steps below should work directly (for MacOS and Linux). For Windows, find the Anaconda group in the Start Menu, and run `Anaconda PowerShell Prompt` for a terminal, or just `Spyder` or `Jupyter` as needed."
   ]
  },
  {
   "cell_type": "markdown",
   "metadata": {
    "slideshow": {
     "slide_type": "slide"
    }
   },
   "source": [
    "### Example: Newton's algorithm for square roots"
   ]
  },
  {
   "cell_type": "code",
   "execution_count": 4,
   "metadata": {
    "slideshow": {
     "slide_type": ""
    }
   },
   "outputs": [
    {
     "name": "stdout",
     "output_type": "stream",
     "text": [
      "1\n",
      "32.5\n",
      "17.234615384615385\n",
      "10.474036101145005\n",
      "8.292191785986859\n",
      "8.005147977880979\n",
      "8.000001655289593\n",
      "8.00000000000017\n"
     ]
    },
    {
     "data": {
      "text/plain": [
       "8.00000000000017"
      ]
     },
     "execution_count": 4,
     "metadata": {},
     "output_type": "execute_result"
    }
   ],
   "source": [
    "def newton(a, x0, tol=10**-8): # define a new function\n",
    "    \"\"\"Newton's method for finding square roots.\"\"\"\n",
    "    x = x0 # initial value\n",
    "    while True: # forever\n",
    "        print(x)\n",
    "        y = (x + a/x) / 2 # update y\n",
    "        if abs(x - y) < tol: # x and y arbitrarily close\n",
    "            break # exit the infinite loop\n",
    "        x = y # update x\n",
    "    return x\n",
    "\n",
    "newton(64, 1) # call the function (\"function invocation\") "
   ]
  },
  {
   "cell_type": "markdown",
   "metadata": {
    "slideshow": {
     "slide_type": "slide"
    }
   },
   "source": [
    "### Ways of running Python"
   ]
  },
  {
   "cell_type": "markdown",
   "metadata": {
    "slideshow": {
     "slide_type": "notes"
    }
   },
   "source": [
    "* `python`: provides an old-school-looking interface for interactive programming (i.e. you type commands, and see results straight away). The prompt is `>>>`\n",
    "* `ipython`: similar, but better. The prompt is `In [1]:` or similar.\n",
    "* Notepad, Atom, Emacs, vi, etc: these are text editors. In a text editor, or an IDE, you can save a Python file with `.py` extension, and then you can run that from the command-line: `$ python myprogram.py`. Here `$` is the command-line prompt. NB: do not try to run a Python program from inside a Python/IPython prompt, i.e. do not write `>>> python myprogram.py`. Similarly, do not try to use Python interactively from the command-line, i.e. do not write `$ import math`.\n",
    "* `Spyder` is an IDE which combines the interaction of `ipython` with the `.py` editing/saving of Notepad, etc.\n",
    "* `jupyter notebook` is the environment I use to write these notes and slides.\n"
   ]
  },
  {
   "cell_type": "markdown",
   "metadata": {
    "slideshow": {
     "slide_type": "notes"
    }
   },
   "source": [
    "\n",
    "### `python`\n",
    "* At your command-line, type `python`. You should see a startup message with some version numbers, hints, and then a prompt looking like `>>> `. Here you can type Python interactively, or copy-paste the code above. Warning: pasting can be weird in `python`.\n",
    "\n",
    "\n",
    "### `ipython`\n",
    "* At your command-line, type `ipython`. You should see a startup message with some version numbers, hints, and then a prompt looking like `In [1]:`. Copy-paste the code above.\n"
   ]
  },
  {
   "cell_type": "markdown",
   "metadata": {
    "slideshow": {
     "slide_type": "notes"
    }
   },
   "source": [
    "### Non-interactively\n",
    "* Open your favourite text editor (Notepad, Atom, Emacs, vi, etc.) and paste in the code above, and save it as `newton.py`. Go to your command-line (bash, Terminal, PowerShell, etc.) and `cd` to the right directory. Type `$ python newton.py` and you should see the output as above.\n"
   ]
  },
  {
   "cell_type": "markdown",
   "metadata": {
    "slideshow": {
     "slide_type": "notes"
    }
   },
   "source": [
    "### Spyder\n",
    "* Spyder is an integrated development environment (IDE) installed as part of Anaconda. Open it and paste the code into the editor window. Save it. Then click the green arrow to run it. Observe you can now see the values of some variables in the variable inspector window. This is really useful! Another nice IDE is PyCharm."
   ]
  },
  {
   "cell_type": "markdown",
   "metadata": {
    "slideshow": {
     "slide_type": "notes"
    }
   },
   "source": [
    "\n",
    "### Jupyter Notebook\n",
    "* At your command-line, type `jupyter notebook`. You'll see a listing of the current directory, and some headers and buttons. Click the `New` button to create a notebook. Then in the first *cell* of the notebook, paste the code, and execute it using `Shift-Enter`. You should see output. A new cell will be created below where you can type some more code. In a Jupyter Notebook, you can have a mix of code, results, graphs, and documentation, all saved together with `.ipynb` extension. The material you are reading is *written* as a Jupyter notebook. You may be reading it as a notebook, or converted into another form, e.g. HTML or slides."
   ]
  },
  {
   "cell_type": "markdown",
   "metadata": {
    "slideshow": {
     "slide_type": "slide"
    }
   },
   "source": [
    "### Basic types\n",
    "\n",
    "* Booleans (`bool`): `True`, `False`\n",
    "* Integers (`int`): no special `long`, `unsigned`, etc.\n",
    "* Floating-point (`float`): no `double`\n",
    "* Strings (`str`): no special `char` type."
   ]
  },
  {
   "cell_type": "markdown",
   "metadata": {
    "slideshow": {
     "slide_type": "notes"
    }
   },
   "source": [
    "\n",
    "Python has Booleans, integers, floating-point numbers, and strings, just as you'd expect. There is no special type for characters, as in C: we just use a short string. There is no special type for `double`, as in C: all floating-point numbers are double precision. There is no distinction between `int` and `long` as in C."
   ]
  },
  {
   "cell_type": "markdown",
   "metadata": {
    "slideshow": {
     "slide_type": "slide"
    }
   },
   "source": [
    "### \"Everything is an object\""
   ]
  },
  {
   "cell_type": "markdown",
   "metadata": {
    "slideshow": {
     "slide_type": "notes"
    }
   },
   "source": [
    "Everything is an object: all types, even things like `int`s, may have some methods associated with them, including constructors. Don't worry if you haven't studied object-oriented programming before. We will see some later. For now, we can check an object's type and list its methods as here."
   ]
  },
  {
   "cell_type": "code",
   "execution_count": 4,
   "metadata": {},
   "outputs": [
    {
     "data": {
      "text/plain": [
       "int"
      ]
     },
     "execution_count": 4,
     "metadata": {},
     "output_type": "execute_result"
    }
   ],
   "source": [
    "x = 3\n",
    "type(x)"
   ]
  },
  {
   "cell_type": "code",
   "execution_count": 5,
   "metadata": {},
   "outputs": [
    {
     "data": {
      "text/plain": [
       "True"
      ]
     },
     "execution_count": 5,
     "metadata": {},
     "output_type": "execute_result"
    }
   ],
   "source": [
    "x >= 2"
   ]
  },
  {
   "cell_type": "code",
   "execution_count": 42,
   "metadata": {
    "scrolled": true,
    "slideshow": {
     "slide_type": "fragment"
    }
   },
   "outputs": [
    {
     "name": "stdout",
     "output_type": "stream",
     "text": [
      "['__abs__', '__add__', '__and__', '__bool__', '__ceil__', '__class__', '__delattr__', '__dir__', '__divmod__', '__doc__', '__eq__', '__float__', '__floor__', '__floordiv__', '__format__', '__ge__', '__getattribute__', '__getnewargs__', '__gt__', '__hash__', '__index__', '__init__', '__init_subclass__', '__int__', '__invert__', '__le__', '__lshift__', '__lt__', '__mod__', '__mul__', '__ne__', '__neg__', '__new__', '__or__', '__pos__', '__pow__', '__radd__', '__rand__', '__rdivmod__', '__reduce__', '__reduce_ex__', '__repr__', '__rfloordiv__', '__rlshift__', '__rmod__', '__rmul__', '__ror__', '__round__', '__rpow__', '__rrshift__', '__rshift__', '__rsub__', '__rtruediv__', '__rxor__', '__setattr__', '__sizeof__', '__str__', '__sub__', '__subclasshook__', '__truediv__', '__trunc__', '__xor__', 'bit_length', 'conjugate', 'denominator', 'from_bytes', 'imag', 'numerator', 'real', 'to_bytes']\n"
     ]
    }
   ],
   "source": [
    "print(dir(x))"
   ]
  },
  {
   "cell_type": "code",
   "execution_count": 43,
   "metadata": {
    "slideshow": {
     "slide_type": "fragment"
    }
   },
   "outputs": [
    {
     "data": {
      "text/plain": [
       "2"
      ]
     },
     "execution_count": 43,
     "metadata": {},
     "output_type": "execute_result"
    }
   ],
   "source": [
    "x.bit_length()"
   ]
  },
  {
   "cell_type": "markdown",
   "metadata": {
    "slideshow": {
     "slide_type": "slide"
    }
   },
   "source": [
    "### Operators\n",
    "\n",
    "All the usual arithmetic operators are available: `+`, `-`, `*`, `/`, `%`, `**`, also integer division `//`, etc.\n",
    "\n",
    "We also have the usual assignment and augmented assignment operators: `=`, `+=`, `-=`, `*=`, `/=`, `%=`, etc.\n",
    "\n",
    "And Boolean operators: `==`, `<`, `<=`, `>`, `>=`, etc."
   ]
  },
  {
   "cell_type": "markdown",
   "metadata": {
    "slideshow": {
     "slide_type": "subslide"
    }
   },
   "source": [
    "**Exercise**: write an expression which evaluates to `True` if the number of seconds in a year is greater than the number of months in a millenium."
   ]
  },
  {
   "cell_type": "code",
   "execution_count": 49,
   "metadata": {
    "slideshow": {
     "slide_type": "fragment"
    }
   },
   "outputs": [
    {
     "data": {
      "text/plain": [
       "True"
      ]
     },
     "execution_count": 49,
     "metadata": {},
     "output_type": "execute_result"
    }
   ],
   "source": [
    "365 * 24 * 60 * 60 > 1000 * 12"
   ]
  },
  {
   "cell_type": "markdown",
   "metadata": {
    "slideshow": {
     "slide_type": "slide"
    }
   },
   "source": [
    "### Strings"
   ]
  },
  {
   "cell_type": "code",
   "execution_count": 12,
   "metadata": {
    "slideshow": {
     "slide_type": "fragment"
    }
   },
   "outputs": [
    {
     "name": "stdout",
     "output_type": "stream",
     "text": [
      "abc\n"
     ]
    }
   ],
   "source": [
    "s = \"abc\" # equivalent\n",
    "s = 'abc' # but not s = 'abc\"\n",
    "print(s)"
   ]
  },
  {
   "cell_type": "code",
   "execution_count": 15,
   "metadata": {},
   "outputs": [
    {
     "name": "stdout",
     "output_type": "stream",
     "text": [
      "abc\"xyz\n"
     ]
    }
   ],
   "source": [
    "s = 'abc\"xyz'\n",
    "print(s)"
   ]
  },
  {
   "cell_type": "code",
   "execution_count": 16,
   "metadata": {
    "slideshow": {
     "slide_type": "fragment"
    }
   },
   "outputs": [
    {
     "data": {
      "text/plain": [
       "True"
      ]
     },
     "execution_count": 16,
     "metadata": {},
     "output_type": "execute_result"
    }
   ],
   "source": [
    "s.startswith(\"ab\")"
   ]
  },
  {
   "cell_type": "markdown",
   "metadata": {
    "slideshow": {
     "slide_type": "notes"
    }
   },
   "source": [
    "There are lots of useful functions which can operate on strings. Often they run as functions on a string *object* -- a variable of type `str`, e.g. \n",
    "\n",
    "This is just a function `startswith` which effectively takes two arguments. For no real reason, the first argument (the string) is given before the function name, with a dot after it. The second argument (the prefix we are checking for) is given in round brackets as usual. This syntax is because `s` is an *object* -- *everything is an object* -- and `startswith` is a *member function*, i.e. a function that belongs to that object."
   ]
  },
  {
   "cell_type": "markdown",
   "metadata": {
    "slideshow": {
     "slide_type": "slide"
    }
   },
   "source": [
    "* `startswith`, `endswith`\n",
    "* `upper`, `lower`\n",
    "* `reverse`\n",
    "* `find`, `count`\n",
    "* `join`, `split`\n",
    "* `replace`\n",
    "* More here https://docs.python.org/3/library/stdtypes.html#string-methods"
   ]
  },
  {
   "cell_type": "markdown",
   "metadata": {
    "slideshow": {
     "slide_type": "slide"
    }
   },
   "source": [
    "Let's get in the habit of using the help system which is built-in on IPython, Spyder and Jupyter Notebook:"
   ]
  },
  {
   "cell_type": "code",
   "execution_count": 24,
   "metadata": {},
   "outputs": [
    {
     "name": "stdout",
     "output_type": "stream",
     "text": [
      "Help on built-in function isnumeric:\n",
      "\n",
      "isnumeric() method of builtins.str instance\n",
      "    Return True if the string is a numeric string, False otherwise.\n",
      "    \n",
      "    A string is numeric if all characters in the string are numeric and there is at\n",
      "    least one character in the string.\n",
      "\n"
     ]
    }
   ],
   "source": [
    "s = \"34\"\n",
    "help(s.isnumeric)"
   ]
  },
  {
   "cell_type": "markdown",
   "metadata": {
    "slideshow": {
     "slide_type": "fragment"
    }
   },
   "source": [
    "Now is also a good time to recommend the excellent official docs: https://docs.python.org/3/"
   ]
  },
  {
   "cell_type": "markdown",
   "metadata": {
    "slideshow": {
     "slide_type": "slide"
    }
   },
   "source": [
    "### Conditionals\n",
    "\n",
    "In `newton`, we saw just the `if` form, but we could also write:\n",
    "```python\n",
    "if a > 3:\n",
    "    print(\"a\")\n",
    "else:\n",
    "    print(\"b\")\n",
    "```\n",
    "or even:\n",
    "```python\n",
    "if a > 3:\n",
    "    print(\"a\")\n",
    "elif b > 3:\n",
    "    print(\"b\")\n",
    "else:\n",
    "    print(\"c\")\n",
    "```"
   ]
  },
  {
   "cell_type": "markdown",
   "metadata": {
    "slideshow": {
     "slide_type": "slide"
    }
   },
   "source": [
    "### Exercise\n",
    "\n",
    "\n",
    "* Using `while`, write code which prints the Hailstones sequence starting at a given number $n$, e.g. $n=50$.\n",
    "\n",
    "(In case you don't know the Hailstones sequence: if $h_i$ is even, then $h_{i+1} = h_i / 2$; but if $h_i$ is odd, then $h_{i+1} = 3h_i+1$. The sequence will repeat when it reaches the subsequence 4, 2, 1, 4, $\\ldots$, so your loop should stop when it hits 1.)"
   ]
  },
  {
   "cell_type": "code",
   "execution_count": 3,
   "metadata": {
    "slideshow": {
     "slide_type": "slide"
    }
   },
   "outputs": [
    {
     "name": "stdout",
     "output_type": "stream",
     "text": [
      "3\n",
      "10\n",
      "5\n",
      "16\n",
      "8\n",
      "4\n",
      "2\n",
      "1\n"
     ]
    }
   ],
   "source": [
    "n = 3\n",
    "print(n) # print the initial value\n",
    "while n > 1:\n",
    "    if n % 2 == 0: # n is even\n",
    "        n = n // 2 # // means integer division\n",
    "    else: # n must be odd\n",
    "        n = 3 * n + 1\n",
    "    print(n) # print each successive value"
   ]
  }
 ],
 "metadata": {
  "anaconda-cloud": {},
  "celltoolbar": "Slideshow",
  "kernelspec": {
   "display_name": "Python 3 (ipykernel)",
   "language": "python",
   "name": "python3"
  },
  "language_info": {
   "codemirror_mode": {
    "name": "ipython",
    "version": 3
   },
   "file_extension": ".py",
   "mimetype": "text/x-python",
   "name": "python",
   "nbconvert_exporter": "python",
   "pygments_lexer": "ipython3",
   "version": "3.11.7"
  }
 },
 "nbformat": 4,
 "nbformat_minor": 4
}
