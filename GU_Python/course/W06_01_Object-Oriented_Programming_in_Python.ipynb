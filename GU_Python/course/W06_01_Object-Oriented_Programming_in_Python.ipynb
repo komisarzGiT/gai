{
 "cells": [
  {
   "cell_type": "markdown",
   "metadata": {
    "slideshow": {
     "slide_type": "slide"
    }
   },
   "source": [
    "<center><img src=img/MScAI_brand.png width=70%></center>\n",
    "\n",
    "# Object-Oriented Programming in Python"
   ]
  },
  {
   "cell_type": "markdown",
   "metadata": {
    "slideshow": {
     "slide_type": "subslide"
    }
   },
   "source": [
    "This notebook is about OOP in Python. Students who have not studied OOP concepts such as objects, class, constructors, methods, inheritance, and polymorphism in another language should refer to Downey, Chapters 15--18, and feel free to contact me for further resources and help. "
   ]
  },
  {
   "cell_type": "markdown",
   "metadata": {
    "slideshow": {
     "slide_type": "subslide"
    }
   },
   "source": [
    "### Contents\n",
    "\n",
    "* Defining classes\n",
    "* Special double-underscore methods\n",
    "* Inheritance and duck-typing"
   ]
  },
  {
   "cell_type": "markdown",
   "metadata": {
    "slideshow": {
     "slide_type": "slide"
    }
   },
   "source": [
    "In Python, we define a class using `class`. The following, believe it or not, is a working class which can be instantiated."
   ]
  },
  {
   "cell_type": "code",
   "execution_count": 1,
   "metadata": {},
   "outputs": [],
   "source": [
    "class C:\n",
    "    pass"
   ]
  },
  {
   "cell_type": "markdown",
   "metadata": {
    "slideshow": {
     "slide_type": "subslide"
    }
   },
   "source": [
    "Now we can make an object `c` of type `C`. The **constructor** is a special method (a **method** is a function that belongs to a class or object, rather than a stand-alone function). Its job is to **create an instance**. We call the constructor as if we were calling the class itself:"
   ]
  },
  {
   "cell_type": "code",
   "execution_count": 2,
   "metadata": {},
   "outputs": [],
   "source": [
    "c = C()"
   ]
  },
  {
   "cell_type": "code",
   "execution_count": 3,
   "metadata": {
    "slideshow": {
     "slide_type": "fragment"
    }
   },
   "outputs": [
    {
     "name": "stdout",
     "output_type": "stream",
     "text": [
      "<__main__.C object at 0x0000013D73F5EA20>\n"
     ]
    }
   ],
   "source": [
    "print(c) # it exists, but it doesn't do much"
   ]
  },
  {
   "cell_type": "markdown",
   "metadata": {
    "slideshow": {
     "slide_type": "subslide"
    }
   },
   "source": [
    "Now let's make a better constructor. The `self` is the first argument of all methods and it refers to the object itself -- the equivalent of `this` in some languages."
   ]
  },
  {
   "cell_type": "code",
   "execution_count": 4,
   "metadata": {
    "slideshow": {
     "slide_type": "-"
    }
   },
   "outputs": [
    {
     "name": "stdout",
     "output_type": "stream",
     "text": [
      "17\n"
     ]
    }
   ],
   "source": [
    "class C:\n",
    "    def __init__(self, data=17):\n",
    "        self.data = data\n",
    "c = C()\n",
    "print(c.data)"
   ]
  },
  {
   "cell_type": "markdown",
   "metadata": {
    "slideshow": {
     "slide_type": "subslide"
    }
   },
   "source": [
    "In Python, we don't have any restrictions on accessing fields, and notice, objects are mutable."
   ]
  },
  {
   "cell_type": "code",
   "execution_count": 5,
   "metadata": {},
   "outputs": [
    {
     "name": "stdout",
     "output_type": "stream",
     "text": [
      "18\n"
     ]
    }
   ],
   "source": [
    "c.data += 1 # no need for set() or get()\n",
    "print(c.data)"
   ]
  },
  {
   "cell_type": "markdown",
   "metadata": {
    "slideshow": {
     "slide_type": "subslide"
    }
   },
   "source": [
    "A class has its own namespace. So it's fine to have a variable called `data` and a variable called `c.data` at the same time with different values."
   ]
  },
  {
   "cell_type": "markdown",
   "metadata": {
    "slideshow": {
     "slide_type": "subslide"
    }
   },
   "source": [
    "### Double-underscore methods\n",
    "\n",
    "The `__init__` constructor is just one of several special double-underscore methods in Python. When we use some common Python things like `len` and `<`, it results in a call to a particular method, for example:\n",
    "\n",
    "call      |  translation\n",
    "----------|------------------------\n",
    "`C(data)` |  `C.__init__(data)`\n",
    "`len(c)`  |  `c.__len__()`\n",
    "`repr(c)` |  `c.__repr__()`\n",
    "`str(c)`  |  `c.__str__()` \n",
    "`c < d`   |  `c.__lt__(d)` "
   ]
  },
  {
   "cell_type": "markdown",
   "metadata": {
    "slideshow": {
     "slide_type": "subslide"
    }
   },
   "source": [
    "It's worth remarking on the relationship between `str(c)` and `repr(c)`. \n",
    "\n",
    "When we call `print(c)`, it calls `str(c)` and that is translated to `c.__str__()` which should return a printable, human-readable string.\n",
    "\n",
    "When we just put `c` by itself in IPython or a Jupyter Notebook cell, `repr(c)` is called and that is translated to `c.__repr__()` which should return a printable string representing everything there is to know about the object, eg all the values of variables which would be needed to re-created the object. "
   ]
  },
  {
   "cell_type": "markdown",
   "metadata": {
    "slideshow": {
     "slide_type": "subslide"
    }
   },
   "source": [
    "Often developers try to implement `__repr__` so that the result would work as a constructor call, eg:"
   ]
  },
  {
   "cell_type": "code",
   "execution_count": 6,
   "metadata": {},
   "outputs": [
    {
     "data": {
      "text/plain": [
       "DecisionTreeClassifier(max_depth=7)"
      ]
     },
     "execution_count": 6,
     "metadata": {},
     "output_type": "execute_result"
    }
   ],
   "source": [
    "from sklearn.tree import DecisionTreeClassifier\n",
    "dt = DecisionTreeClassifier(max_depth=7)\n",
    "dt # equivalent to calling `repr(dt)`"
   ]
  },
  {
   "cell_type": "markdown",
   "metadata": {},
   "source": [
    "The result of `repr(dt)` could be copied and pasted as valid Python code."
   ]
  },
  {
   "cell_type": "markdown",
   "metadata": {
    "slideshow": {
     "slide_type": "subslide"
    }
   },
   "source": [
    "A slight complication: \n",
    "\n",
    "* If an object `c` doesn't have `__repr__`, then `repr(c)` will give an ugly default like `<__main__.C at 0x27597d9fc18>`.\n",
    "* If an object `c` doesn't have `__str__`, then `str(c)` will fallback to `c.__repr__()`. \n",
    "\n",
    "For most classes, the `repr` string (\"everything there is to know about the object\") also works fine as a *human-readable* string. So we need only implement `__repr__`. \n",
    "\n",
    "If we really need two different strings for these purposes, we can implement both `__repr__` and `__str__`."
   ]
  },
  {
   "cell_type": "markdown",
   "metadata": {
    "slideshow": {
     "slide_type": "notes"
    }
   },
   "source": [
    "So, let's implement some of these \"dunder\" (double-underscore) methods:"
   ]
  },
  {
   "cell_type": "code",
   "execution_count": 7,
   "metadata": {
    "slideshow": {
     "slide_type": "subslide"
    }
   },
   "outputs": [
    {
     "name": "stdout",
     "output_type": "stream",
     "text": [
      "True\n"
     ]
    }
   ],
   "source": [
    "class C:\n",
    "    def __init__(self, data=17):\n",
    "        self.data = data\n",
    "    def __repr__(self):\n",
    "        return f\"C({self.data})\"\n",
    "    def __lt__(self, other):\n",
    "        return self.data < other.data\n",
    "        \n",
    "c1 = C()\n",
    "c2 = C(18)\n",
    "print(c1 < c2)"
   ]
  },
  {
   "cell_type": "markdown",
   "metadata": {
    "slideshow": {
     "slide_type": "subslide"
    }
   },
   "source": [
    "### A free lunch\n",
    "\n",
    "Sometimes implementing one special method is enough to get others \"for free\". We implemented `__lt__` for \"less than\", allowing `c1 < c2` to work. We didn't implement `__gt__`. Nevertheless, it works:"
   ]
  },
  {
   "cell_type": "code",
   "execution_count": 8,
   "metadata": {},
   "outputs": [
    {
     "data": {
      "text/plain": [
       "False"
      ]
     },
     "execution_count": 8,
     "metadata": {},
     "output_type": "execute_result"
    }
   ],
   "source": [
    "c1 > c2"
   ]
  },
  {
   "cell_type": "markdown",
   "metadata": {
    "slideshow": {
     "slide_type": "subslide"
    }
   },
   "source": [
    "That's because Python knows that these operators are symmetric. If we wanted to define `>` to be non-symmetric to `<`, we could do so, just by implementing both `__lt__` and `__gt__` separately."
   ]
  },
  {
   "cell_type": "markdown",
   "metadata": {
    "slideshow": {
     "slide_type": "subslide"
    }
   },
   "source": [
    "### Inheritance\n",
    "\n",
    "We can make a new class which has some behaviour (methods and fields) of its own, and inherits other behaviour from a superclass. The syntax is: put the parent (superclass) in parentheses after `class C`."
   ]
  },
  {
   "cell_type": "code",
   "execution_count": 9,
   "metadata": {
    "slideshow": {
     "slide_type": "-"
    }
   },
   "outputs": [],
   "source": [
    "class D(C):\n",
    "    def hello(self):\n",
    "        print(f\"Hello, my value is {self.data}\")"
   ]
  },
  {
   "cell_type": "markdown",
   "metadata": {
    "slideshow": {
     "slide_type": "subslide"
    }
   },
   "source": [
    "This new class has composite behaviour:"
   ]
  },
  {
   "cell_type": "code",
   "execution_count": 10,
   "metadata": {},
   "outputs": [
    {
     "name": "stdout",
     "output_type": "stream",
     "text": [
      "C(12)\n",
      "Hello, my value is 12\n"
     ]
    }
   ],
   "source": [
    "d = D(12)\n",
    "print(d) # inherited from C\n",
    "d.hello() # in D itself"
   ]
  },
  {
   "cell_type": "markdown",
   "metadata": {
    "slideshow": {
     "slide_type": "subslide"
    }
   },
   "source": [
    "### `super`\n",
    "\n",
    "Sometimes we want to inherit a method, but also add to it. This is especially common in `__init__`. We call `super` to get the **superclass** (the class we are inheriting from), and call its `__init__` directly. "
   ]
  },
  {
   "cell_type": "code",
   "execution_count": 11,
   "metadata": {
    "slideshow": {
     "slide_type": "subslide"
    }
   },
   "outputs": [
    {
     "name": "stdout",
     "output_type": "stream",
     "text": [
      "Hello, my value is 15 and my config is specific to D\n"
     ]
    }
   ],
   "source": [
    "class D(C):\n",
    "    def __init__(self, data=17):\n",
    "        super().__init__(data)\n",
    "        self.config = \"specific to D\"\n",
    "    def hello(self):\n",
    "        print(f\"Hello, my value is {self.data} and my config is {self.config}\")\n",
    "d = D(15)\n",
    "d.hello()"
   ]
  },
  {
   "cell_type": "markdown",
   "metadata": {
    "slideshow": {
     "slide_type": "subslide"
    }
   },
   "source": [
    "### Duck typing\n",
    "\n",
    "Don't forget, we have duck typing! In fact, duck typing is the Python approach to *polymorphism*. For example this works, even though `d` and `c` are of different types, `D` and `C`:"
   ]
  },
  {
   "cell_type": "code",
   "execution_count": 12,
   "metadata": {},
   "outputs": [
    {
     "data": {
      "text/plain": [
       "True"
      ]
     },
     "execution_count": 12,
     "metadata": {},
     "output_type": "execute_result"
    }
   ],
   "source": [
    "d < c"
   ]
  },
  {
   "cell_type": "markdown",
   "metadata": {
    "slideshow": {
     "slide_type": "subslide"
    }
   },
   "source": [
    "We can understand this by the substitution model:\n",
    "\n",
    "```\n",
    "d < c ... gets translated to ...\n",
    "d.__lt__(c) ... which runs ...\n",
    "d.data < c.data ... which evaluates to ...\n",
    "12 < 17 ... which evaluates to ...\n",
    "True\n",
    "```"
   ]
  }
 ],
 "metadata": {
  "celltoolbar": "Slideshow",
  "kernelspec": {
   "display_name": "Python 3",
   "language": "python",
   "name": "python3"
  },
  "language_info": {
   "codemirror_mode": {
    "name": "ipython",
    "version": 3
   },
   "file_extension": ".py",
   "mimetype": "text/x-python",
   "name": "python",
   "nbconvert_exporter": "python",
   "pygments_lexer": "ipython3",
   "version": "3.8.5"
  }
 },
 "nbformat": 4,
 "nbformat_minor": 2
}
