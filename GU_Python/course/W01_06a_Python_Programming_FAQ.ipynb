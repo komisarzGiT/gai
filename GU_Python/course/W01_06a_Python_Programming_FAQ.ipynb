{
 "cells": [
  {
   "cell_type": "markdown",
   "metadata": {
    "slideshow": {
     "slide_type": "slide"
    }
   },
   "source": [
    "<center><img src=img/MScAI_brand.png width=80%></center>\n",
    "\n",
    "# FAQ"
   ]
  },
  {
   "cell_type": "markdown",
   "metadata": {},
   "source": [
    "---\n",
    "\n",
    "Lecture 2 (Python programming): Frequently-asked questions\n",
    "\n",
    "Outline\n",
    "---\n",
    "\n",
    "* Why did the computer do *that*?\n",
    "* What is an algorithm?\n",
    "* What do I do when I'm just stuck?\n",
    "* What is good Python style?\n",
    "* What about getters and setters?\n",
    "* What is the benefit of functions?\n",
    "* Why is my code broken?\n",
    "* What does this error mean?\n",
    "\n"
   ]
  },
  {
   "cell_type": "markdown",
   "metadata": {},
   "source": [
    "Why did the computer do *that*?\n",
    "--------------------------\n",
    "\n",
    "*Don't anthropomorphize computers. They hate that!*\n",
    "\n",
    "A computer is stupid. It does what you tell it. If you tell it to do the wrong thing, it will do it!"
   ]
  },
  {
   "cell_type": "markdown",
   "metadata": {},
   "source": [
    "What is an algorithm?\n",
    "---------------------\n",
    "\n",
    "An *algorithm* is a sequence of steps which can be carried out to produce some definite result, a bit like a recipe is a sequence of steps which results in a cake. An example of an algorithm: the sequence of steps you use to carry out long division. Each step is definite and requires no common-sense or interpretation or judgement. Therefore you could program a computer to do them. \n",
    "\n",
    "A *program* is a concrete implementation of an algorithm.\n",
    "\n",
    "Sometimes we write algorithms on paper before we implement them on computer. When we talked about the problem of finding the goal, in a video recording of a football match, we went from a vague description of the method, to a precise algorithm written in *pseudo-code*. If we wanted we could then proceed to write a Python implementation.\n",
    "\n",
    "Pseudo-code is any type of semi-formal language used for just this purpose: writing algorithms without tying ourselves to a particular computer language and without getting bogged down in syntactic details. For example:\n",
    "\n",
    "```\n",
    "Long division: given integers a, b, we will compute a/b as follows:\n",
    "\n",
    "Write a as a sequence of digits a0 a1 a2 a3 ... an.\n",
    "If b < a0, then calculate the maximal p, and hence minimal q, such that a0 = pb + q.\n",
    "\n",
    "\n",
    "\n"
   ]
  },
  {
   "cell_type": "markdown",
   "metadata": {
    "slideshow": {
     "slide_type": "slide"
    }
   },
   "source": [
    "What do I when I'm just stuck?\n",
    "---\n",
    "\n",
    "Incremental development: start with a small piece of code that works (even if it doesn’t do anything useful), and gradually add to it."
   ]
  },
  {
   "cell_type": "markdown",
   "metadata": {
    "slideshow": {
     "slide_type": "fragment"
    }
   },
   "source": [
    "Debug by adding print statements in strategic places to confirm variable values *or* use the debugger and the list of variables' values in an IDE like Spyder."
   ]
  },
  {
   "cell_type": "markdown",
   "metadata": {
    "slideshow": {
     "slide_type": "fragment"
    }
   },
   "source": [
    "Get in the habit of trying things. If you ask yourself (e.g.) \"what happens if I pass in the wrong number of arguments?\", *try it and see.*"
   ]
  },
  {
   "cell_type": "markdown",
   "metadata": {
    "slideshow": {
     "slide_type": "slide"
    }
   },
   "source": [
    "What is good Python style?\n",
    "---\n",
    "\n",
    "When we write code, we're trying to tell the computer what to do. But there will be human readers too: our co-workers, and, importantly, *our future selves*. Code should be human-readable. Some of the ideas of readability apply across all languages, for example using *comments* and using good layout and variable names.\n",
    "\n",
    "A *comment* is a piece of text inserted into code to make it more understandable. Python ignores it: it's for human readers. Anything after the `#` symbol is a comment."
   ]
  },
  {
   "cell_type": "code",
   "execution_count": 37,
   "metadata": {
    "slideshow": {
     "slide_type": "fragment"
    }
   },
   "outputs": [],
   "source": [
    "# this is a comment on its own line\n",
    "x = 3 # a comment can begin after some code on the same line"
   ]
  },
  {
   "cell_type": "code",
   "execution_count": 38,
   "metadata": {},
   "outputs": [],
   "source": [
    "# this is a comment, and the following code won't be executed: x = 4"
   ]
  },
  {
   "cell_type": "markdown",
   "metadata": {
    "slideshow": {
     "slide_type": "slide"
    }
   },
   "source": [
    "Even more important is style. It's easier to read code which is cleanly laid-out, consistent, and organised, where the variable names and function names are descriptive (but not too long). Here are simple examples of good variable names and layout, and bad."
   ]
  },
  {
   "cell_type": "markdown",
   "metadata": {},
   "source": [
    "Good: \n",
    "```\n",
    "name = \"James\"\n",
    "job = \"lecturer\"\n",
    "```\n",
    "\n",
    "Bad:\n",
    "```\n",
    "xyz = \"James\"\n",
    "my_var_13        =\"lecturer\"\n",
    "```"
   ]
  },
  {
   "cell_type": "markdown",
   "metadata": {},
   "source": [
    "The programmer can choose the names for the variables, functions, and classes. There are a few *rules* fixed by the language: a name must be composed of the letters `a-z` and `A-Z`, the numbers `0-9`, and the underscore `_`, and it must *start* with a letter. Spaces and special characters like `&` and `@` are not allowed in names. Note that this applies to variable, function and class names -- not to things like dictionary keys.\n",
    "\n",
    "There are a few *conventions* also. Variables and functions are usually named with all lower-case letters and underscores to separate words, e.g. `max_n_users`. Classes are usually named with CamelCase, that is no underscores, but the first letter of each word capitalised, e.g. `DatabaseConnection`. Note that this is a different convention from that of Java.\n",
    "\n",
    "Beyond the rules, and the conventions, there is some common advice which is a bit more subjective, as follows.\n",
    "\n",
    "In some contexts, a descriptive variable name makes life easier for the reader:"
   ]
  },
  {
   "cell_type": "code",
   "execution_count": null,
   "metadata": {},
   "outputs": [],
   "source": [
    "# just a theoretical example -- don't run this\n",
    "top_user = max(users, key=lambda x: x.usage)\n",
    "# ... several lines later, the name top_user helps remind the reader\n",
    "send_email(top_user, subject=\"Your usage statistics\")"
   ]
  },
  {
   "cell_type": "markdown",
   "metadata": {},
   "source": [
    "It's very common to need a variable that counts how many of something there are. I like to use `n_` as an indicator for this, for example `n_users`, the number of users below. I think `number_of_users` and similar are too long. Some people prefer `user_cnt` (\"user count\"). Note that it's not \"users count\". "
   ]
  },
  {
   "cell_type": "code",
   "execution_count": 2,
   "metadata": {
    "collapsed": true,
    "jupyter": {
     "outputs_hidden": true
    }
   },
   "outputs": [],
   "source": [
    "users = [\"1234\", \"1789\", \"1601\"]\n",
    "n_users = len(users)"
   ]
  },
  {
   "cell_type": "markdown",
   "metadata": {},
   "source": [
    "In some contexts, a short variable name is suitable:"
   ]
  },
  {
   "cell_type": "code",
   "execution_count": 1,
   "metadata": {
    "collapsed": true,
    "jupyter": {
     "outputs_hidden": true
    }
   },
   "outputs": [],
   "source": [
    "def all_positive(L):\n",
    "    for x in L:\n",
    "        if x < 0:\n",
    "            return False\n",
    "    return True"
   ]
  },
  {
   "cell_type": "markdown",
   "metadata": {},
   "source": [
    "Here, `x` is a good variable name. There's no need to make it descriptive. Even if our plan is to use this to check that (say) a list of interest rate values are all positive, there's nothing inherent in the function which is specific to interest rates. Therefore we should write `all_positive` in the generic way shown.\n",
    "\n",
    "Good function names are just as important. `all_positive` is a good name for a *predicate* function like this. A predicate is a function of one argument, which checks some property and returns `True` or `False` as appropriate. There's no special syntax for a predicate or anything like that. When using it, we'll write `all_positive(interest_rates)`, and we read that as \"are all interest rates positive?\"."
   ]
  },
  {
   "cell_type": "markdown",
   "metadata": {
    "slideshow": {
     "slide_type": "fragment"
    }
   },
   "source": [
    "The best way to get a sense for Python style is to read Python code. Also, search online for \"pep8\", a document that describes some details of accepted Python style."
   ]
  },
  {
   "cell_type": "markdown",
   "metadata": {},
   "source": [
    "What about getters and setters?\n",
    "---\n",
    "\n",
    "If you've spent much time in Java or similar object-oriented language, you've probably typed `int getX() { return X; }` and `void setX(int X) { this.X = X; }` a million times. In Python there's no need for that: all fields (variables belonging to an object) are public, so given an object `c`, you can get a variable's value by saying `c.X` or set it by saying `c.X = 17` as appropriate. \n",
    "\n",
    "But in Java, sometimes it's useful to enforce some bounds checking, or validity checking, or to carry out some calculations or book-keeping whenever a caller `get`s or `set`s a field. We can do that in Python too, of course. But the nice thing is we can start off by making a class using the direct access to fields, as above, and later on change to access mediated by `get` and `set` methods, without changing any of the code that *uses* the class. We use a mechanism called `@property`, which is outside the scope of this module, but which you can look up [here](http://www.python-course.eu/python3_properties.php). "
   ]
  },
  {
   "cell_type": "markdown",
   "metadata": {},
   "source": [
    "What is the benefit of functions?\n",
    "---\n",
    "\n",
    "This question arises because it's often possible to write all your code as just one line after another, without defining and using any functions. But it's not a good idea. The point of a function is to work as a machine that does a single job well, so that people can then use it to get that job done, without having to think about how it's done. Here, \"people\" might mean yourself. If your programming task is large and complex, you can manage that complexity by dividing the problem up into smaller sub-tasks (and sub-sub-tasks, etc) until one of them is small enough to be implemented as a single function. And then your mind doesn't have to worry about *how* that function works anymore.\n",
    "\n",
    "This process of creating functions to do jobs, and then just using them and forgetting how they work internally (in order to cut complexity) is called *abstraction* and it is crucial in all types of programming. No matter what type of program we're writing, we're taking advantage of some abstractions provided by someone else (or occasionally by our own work)."
   ]
  },
  {
   "cell_type": "markdown",
   "metadata": {},
   "source": [
    "What does this error mean?\n",
    "---\n",
    "\n",
    "We'll see lots of errors when we write Python code. Every programmer does, not just beginners, so don't worry. Most of a programmer's time is probably spent reading code and thinking, followed by a lot of time spent debugging, followed by only a little time spent actually writing new code.\n",
    "\n",
    "The most common types of errors are probably:\n",
    "\n",
    "* `SyntaxError`: some basic rule of the language was violated, like putting a semi-colon where it doesn't belong: `x = ;3`, or trying to close a square bracket with a curly one: `x = [4, 5}`.\n",
    "* `KeyError`: you tried to access an element of a dictionary which didn't exist. Maybe you mis-spelled the name, or used a string like `\"37\"` instead of an integer key `37`?\n",
    "* `IndexError`: you tried to access, for example, element 13 of a 4-item list.\n",
    "* `TypeError`: can mean a few things, but for example if you try to modify a string or tuple you get this error. Remember they are immutable. You can make a new string or tuple with the desired new contents instead. For strings you can also use `replace` or a few other modifiers if appropriate. `TypeError` also occurs if you pass too many or too few arguments to a function: `math.sin(45, 90)`.\n",
    "* `NameError`: you tried to use a variable, function, or class that didn't exist. Maybe you mis-spelled it, or forgot to `import` something?\n",
    "* `AttributeError`: quite like `NameError`, except that the thing that didn't exist is an *attribute*, that is a field (a variable or a function) that belongs to a class or a module, e.g. `math.sine(45)`."
   ]
  },
  {
   "cell_type": "code",
   "execution_count": null,
   "metadata": {
    "collapsed": true,
    "jupyter": {
     "outputs_hidden": true
    }
   },
   "outputs": [],
   "source": []
  }
 ],
 "metadata": {
  "anaconda-cloud": {},
  "celltoolbar": "Slideshow",
  "kernelspec": {
   "display_name": "Python 3 (ipykernel)",
   "language": "python",
   "name": "python3"
  },
  "language_info": {
   "codemirror_mode": {
    "name": "ipython",
    "version": 3
   },
   "file_extension": ".py",
   "mimetype": "text/x-python",
   "name": "python",
   "nbconvert_exporter": "python",
   "pygments_lexer": "ipython3",
   "version": "3.11.7"
  }
 },
 "nbformat": 4,
 "nbformat_minor": 4
}
