{
 "cells": [
  {
   "cell_type": "markdown",
   "metadata": {
    "slideshow": {
     "slide_type": "slide"
    }
   },
   "source": [
    "<center><img src=img/MScAI_brand.png width=70%></center>\n",
    "\n",
    "# Scikit-Learn: Summary"
   ]
  },
  {
   "cell_type": "markdown",
   "metadata": {
    "slideshow": {
     "slide_type": "slide"
    }
   },
   "source": [
    "In this notebook we will:\n",
    "\n",
    "* Summarise very briefly some methods provided by Scikit-Learn\n",
    "* Look at the Estimator and related APIs.\n",
    "\n",
    "I'm not recording a video for this notebook - it is just for reading and reference."
   ]
  },
  {
   "cell_type": "markdown",
   "metadata": {
    "slideshow": {
     "slide_type": "slide"
    }
   },
   "source": [
    "\n",
    "### Scikit-Learn Summary Table\n",
    "\n",
    "Problem | Example | Technique | Create | Fit | Evaluate | Use\n",
    "------------|---------|-----------|--------|-----|-------|-----\n",
    "**Unsupervised**|\n",
    "Clustering  |Customer segmentation|$k$-means|`km = KMeans(nclusters=2)`|`km.fit(X)`|`km.score(X)`|`km.labels_`\n",
    "Density estimation|Plotting a distribution smoothly|Kernel density estimation|`kde = KernelDensity()`|`kde.fit(X)`| (none)|`kde.score_samples(new_X)`\n",
    "Representation learning|Visualising data|Multi-dimensional scaling|`mds = MDS()`|`mds.fit(X)`|(none)|`mds.embedding_`\n",
    "**Supervised**|\n",
    "Regression  |Predict car values | Linear regression|`lr = LinearRegression()`|`lr.fit(train_X, train_y)`|`lr.score(test_X, test_y)`|`lr.predict(new_X)`\n",
    "Classification|Predict customer churn|Support vector machines|`svm = SVC()`|`svm.fit(train_X, train_y)`|`svm.score(test_X, test_y)`|`svm.predict(new_X)`"
   ]
  },
  {
   "cell_type": "markdown",
   "metadata": {
    "slideshow": {
     "slide_type": "subslide"
    }
   },
   "source": [
    "And here's a decision tree from a Scikit-Learn collaborator. As a decision aid (to help you choose an algorithm) it's of dubious value, but as a summary it's nice!"
   ]
  },
  {
   "cell_type": "markdown",
   "metadata": {
    "slideshow": {
     "slide_type": "subslide"
    }
   },
   "source": [
    "<img src=img/sklearn-tree.png width=95%>\n",
    "\n",
    "<font size=1>https://scikit-learn.org/stable/tutorial/machine_learning_map/index.html</font>\n",
    "\n"
   ]
  },
  {
   "cell_type": "markdown",
   "metadata": {
    "slideshow": {
     "slide_type": "subslide"
    }
   },
   "source": [
    "The user guide is very good:\n",
    "\n",
    "https://scikit-learn.org/stable/user_guide.html#user-guide\n",
    "\n",
    "Finally, this page lists all the main packages and so gives an overview of what is available:\n",
    "\n",
    "https://scikit-learn.org/stable/modules/classes.html"
   ]
  },
  {
   "cell_type": "markdown",
   "metadata": {
    "slideshow": {
     "slide_type": "slide"
    }
   },
   "source": [
    "### The Estimator, Predictor, Transformer, and Model APIs"
   ]
  },
  {
   "cell_type": "markdown",
   "metadata": {
    "slideshow": {
     "slide_type": "-"
    }
   },
   "source": [
    "We have already seen the central APIs of Scikit-Learn when studying supervised learning. "
   ]
  },
  {
   "cell_type": "markdown",
   "metadata": {
    "slideshow": {
     "slide_type": "subslide"
    }
   },
   "source": [
    "\n",
    "\n",
    "\"the main API implemented by scikit-learn is that of the estimator. An estimator is any object that learns from data; it may be a classification, regression or clustering algorithm or a transformer that extracts/filters useful features from raw data.\"\n"
   ]
  },
  {
   "cell_type": "markdown",
   "metadata": {
    "slideshow": {
     "slide_type": "subslide"
    }
   },
   "source": [
    "An object is an **estimator** if it has a `fit` method, where `fit` may accept `X` or `X` and `y`:\n",
    "\n",
    "```python\n",
    "estimator.fit(X)\n",
    "# OR...\n",
    "estimator.fit(X, y)\n",
    "```\n",
    "\n",
    "That is **duck typing**!"
   ]
  },
  {
   "cell_type": "markdown",
   "metadata": {
    "slideshow": {
     "slide_type": "subslide"
    }
   },
   "source": [
    "A **predictor** object is an estimator which also has a `predict` method:\n",
    "\n",
    "```python\n",
    "estimator.predict(X)\n",
    "```"
   ]
  },
  {
   "cell_type": "markdown",
   "metadata": {
    "slideshow": {
     "slide_type": "subslide"
    }
   },
   "source": [
    "Some predictors whose `predict` output is discrete (e.g. clustering or classification) will implement either `predict_proba` or `decision_function`, which return real values:\n",
    "\n",
    "```python\n",
    "estimator.predict_proba(X)\n",
    "```\n",
    "\n",
    "The `predict` method is then usually implemented as a threshold over the result, e.g.:\n",
    "\n",
    "```python\n",
    "    def predict(self, X):\n",
    "        return self.predict_proba(X) > self.threshold\n",
    "```"
   ]
  },
  {
   "cell_type": "markdown",
   "metadata": {
    "slideshow": {
     "slide_type": "subslide"
    }
   },
   "source": [
    "A **transformer** is an estimator with either `transform` or `fit_transform`. Often transformers are representation learning approaches, ie they output new features after training on the data. `transform` is the method which outputs the new features. `fit_transform` is just a shortcut to calling `fit` and then `transform` on the same data.\n",
    "\n",
    "**Don't confuse a Scikit-Learn transformer with a deep learning transformer, which is a different concept.**"
   ]
  },
  {
   "cell_type": "markdown",
   "metadata": {
    "slideshow": {
     "slide_type": "subslide"
    }
   },
   "source": [
    "A **model** is an object with a `score` method which evaluates how good it is, e.g. $R^2$ or classification accuracy. Higher is always better. \n",
    "\n",
    "```python\n",
    "score(X)\n",
    "```\n",
    "\n",
    "or\n",
    "\n",
    "```python\n",
    "score(X, y)\n",
    "```"
   ]
  },
  {
   "cell_type": "markdown",
   "metadata": {
    "slideshow": {
     "slide_type": "subslide"
    }
   },
   "source": [
    "### Semantics\n",
    "\n",
    "Calling `predict` **before** `fit` is disallowed.\n",
    "\n",
    "After fitting, the estimator object will usually have some new attributes named with a trailing underscore, e.g. `lr.coef_` and `lr.intercept_` for linear regression, or `support_vectors_` and some others for an SVM."
   ]
  },
  {
   "cell_type": "markdown",
   "metadata": {
    "slideshow": {
     "slide_type": "subslide"
    }
   },
   "source": [
    "Also, a call to `fit` over-writes the result of any previous call. \n",
    "\n",
    "```python\n",
    "lr.fit(X1, y1)\n",
    "lr.fit(X2, y2)\n",
    "```\n",
    "\n",
    "has the same effect as just: `lr.fit(X2, y2)`.\n",
    "\n",
    "(A few estimators allow `warm_start=True` in the constructor, or `partial_fit(X, y)`, so that we can pick up training where we left off. But we won't cover these.)"
   ]
  }
 ],
 "metadata": {
  "celltoolbar": "Slideshow",
  "kernelspec": {
   "display_name": "Python 3",
   "language": "python",
   "name": "python3"
  },
  "language_info": {
   "codemirror_mode": {
    "name": "ipython",
    "version": 3
   },
   "file_extension": ".py",
   "mimetype": "text/x-python",
   "name": "python",
   "nbconvert_exporter": "python",
   "pygments_lexer": "ipython3",
   "version": "3.8.5"
  }
 },
 "nbformat": 4,
 "nbformat_minor": 2
}
