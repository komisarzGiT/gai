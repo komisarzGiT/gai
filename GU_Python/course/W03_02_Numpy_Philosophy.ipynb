{
 "cells": [
  {
   "cell_type": "markdown",
   "metadata": {
    "slideshow": {
     "slide_type": "slide"
    }
   },
   "source": [
    "<center><img src=img/MScAI_brand.png width=70%></center>\n",
    "\n",
    "# Numpy Philosophy"
   ]
  },
  {
   "cell_type": "markdown",
   "metadata": {
    "slideshow": {
     "slide_type": "slide"
    }
   },
   "source": [
    "Short video/notebook with notes on: why Numpy?\n",
    "\n",
    "* Speed\n",
    "* Abstraction\n",
    "* A library of pre-written functions"
   ]
  },
  {
   "cell_type": "markdown",
   "metadata": {
    "slideshow": {
     "slide_type": "notes"
    }
   },
   "source": [
    "Numpy (\"Numerical Python\", pronounced NUM-pie, not NUM-pee) is a library used in Python for numerical computing. Most scientific computing work in Python relies on Numpy as a base.\n",
    "\n",
    "But we can already do numerical calculations in Python, so why does Numpy exist? \n",
    "\n",
    "1. **Speed**. Numpy makes many numerical calculations much faster.\n",
    "\n",
    "2. **Abstraction**. It is very handy to be able to think of our equations as (e.g.) $y = \\beta x$ as opposed to $y_0 = \\beta x_0$, $y_1 = \\beta x_1$, etc., even though they mean the same thing.\n",
    "\n",
    "3. **A library**. Numpy provides many common functions. \"Batteries included.\""
   ]
  },
  {
   "cell_type": "markdown",
   "metadata": {
    "slideshow": {
     "slide_type": "subslide"
    }
   },
   "source": [
    "### Numpy array\n",
    "\n",
    "\"NumPy’s main object is the homogeneous multidimensional array. It is a table of elements (usually numbers), all of the same type, indexed by a tuple of non-negative integers\" - https://numpy.org/devdocs/user/quickstart.html"
   ]
  },
  {
   "cell_type": "markdown",
   "metadata": {
    "slideshow": {
     "slide_type": "subslide"
    }
   },
   "source": [
    "### Vectorisation\n",
    "\n",
    "Instead of writing a `for`-loop to process each item of a Python `list`, we write a single line to process all elements of a Numpy `array`, \"all at once\". \n",
    "\n",
    "This is called *vectorisation*. The same concept is essential to good performance in Matlab and R.\n"
   ]
  },
  {
   "cell_type": "markdown",
   "metadata": {
    "slideshow": {
     "slide_type": "subslide"
    }
   },
   "source": [
    "Compare:\n",
    "\n",
    "```python\n",
    "L = [1, 2, 3, 4]\n",
    "s = 0\n",
    "for x in L:\n",
    "    s += x\n",
    "```\n"
   ]
  },
  {
   "cell_type": "markdown",
   "metadata": {
    "slideshow": {
     "slide_type": "fragment"
    }
   },
   "source": [
    "And:\n",
    "\n",
    "```python\n",
    "    \n",
    "x = np.array(L)\n",
    "s = x.sum()\n",
    "```"
   ]
  },
  {
   "cell_type": "markdown",
   "metadata": {
    "slideshow": {
     "slide_type": "fragment"
    }
   },
   "source": [
    "\n",
    "From the point of view of *abstraction*, the for-loop is hidden. From the point of view of *speed*, the for-loop is moved from pure Python into an underlying function written in C or Fortran."
   ]
  },
  {
   "cell_type": "markdown",
   "metadata": {
    "slideshow": {
     "slide_type": "subslide"
    }
   },
   "source": [
    "When dealing with large data, Python can be slow. If we have a list of 10 numbers and we calculate the mean, it is instantaneous. But if we have 10 million numbers, it will be slow. The reason for this is Python's *flexibility*. Python allows a list to contain any type of value, eg we can have a mixed list of `int`s, `float`s, `string`s, other `list`s, and so on. Python has to check what type each value is before deciding how to add it (or whether it even *can* add it). \n",
    "\n",
    "In a Numpy array, all elements are of the same type, e.g. all `float`. Thus there is no need for Python to waste time checking what type each value is. The saving is probably a factor of 100, depending on the workload."
   ]
  },
  {
   "cell_type": "markdown",
   "metadata": {
    "slideshow": {
     "slide_type": "subslide"
    }
   },
   "source": [
    "### Further reading\n",
    "\n",
    "* Great introduction: https://jalammar.github.io/visual-numpy/\n",
    "* A cheat sheet: https://www.dataquest.io/blog/numpy-cheat-sheet/\n",
    "* Exercises (many quite difficult): https://github.com/rougier/numpy-100\n",
    "* Nice textbook reference on Numpy with several longer worked examples: http://www.labri.fr/perso/nrougier/from-python-to-numpy/\n",
    "* If you're already good at Matlab: https://www.numpy.org/devdocs/user/numpy-for-matlab-users.html\n",
    "* If you're already good at R: http://mathesaurus.sourceforge.net/r-numpy.html"
   ]
  }
 ],
 "metadata": {
  "anaconda-cloud": {},
  "celltoolbar": "Slideshow",
  "kernelspec": {
   "display_name": "Python 3 (ipykernel)",
   "language": "python",
   "name": "python3"
  },
  "language_info": {
   "codemirror_mode": {
    "name": "ipython",
    "version": 3
   },
   "file_extension": ".py",
   "mimetype": "text/x-python",
   "name": "python",
   "nbconvert_exporter": "python",
   "pygments_lexer": "ipython3",
   "version": "3.11.7"
  }
 },
 "nbformat": 4,
 "nbformat_minor": 4
}
