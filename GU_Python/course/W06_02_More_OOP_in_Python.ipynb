{
 "cells": [
  {
   "cell_type": "markdown",
   "metadata": {
    "slideshow": {
     "slide_type": "slide"
    }
   },
   "source": [
    "<center><img src=img/MScAI_brand.png width=70%></center>\n",
    "\n",
    "# More OOP in Python"
   ]
  },
  {
   "cell_type": "markdown",
   "metadata": {
    "slideshow": {
     "slide_type": "subslide"
    }
   },
   "source": [
    "This notebook is about a few slightly more advanced OOP topics in Python:\n",
    "\n",
    "* Multiple inheritance and mixins\n",
    "* Functions as objects\n",
    "* The `iterator` protocol."
   ]
  },
  {
   "cell_type": "markdown",
   "metadata": {
    "slideshow": {
     "slide_type": "subslide"
    }
   },
   "source": [
    "### Multiple inheritance\n",
    "\n",
    "It is fairly common to use inheritance, and even chains of inheritance: class `D` inherits from `B` which inherits from `C`, etc. Any class which doesn't explicitly inherit from another class implicitly inherits from `object` -- a kind of null class which is \"the root of the inheritance hierarchy\"."
   ]
  },
  {
   "cell_type": "markdown",
   "metadata": {
    "slideshow": {
     "slide_type": "subslide"
    }
   },
   "source": [
    "However, we can also have **multiple inheritance**, where class `D` inherits from both `B` and `C` (and neither `B` nor `C` inherits from the other)."
   ]
  },
  {
   "cell_type": "markdown",
   "metadata": {
    "slideshow": {
     "slide_type": "-"
    }
   },
   "source": [
    "<center><img src=img/multiple_inheritance.png width=35%></center>"
   ]
  },
  {
   "cell_type": "code",
   "execution_count": 1,
   "metadata": {
    "slideshow": {
     "slide_type": "subslide"
    }
   },
   "outputs": [],
   "source": [
    "class C:\n",
    "    def __init__(self, data=17):\n",
    "        self.data = data\n",
    "    def __repr__(self):\n",
    "        return f\"C({self.data})\"\n",
    "    def __lt__(self, other):\n",
    "        return self.data < other.data\n",
    "class B: # a mixin\n",
    "    def bzzz(self):\n",
    "        print(\"bzzz\")\n",
    "class D(B, C):\n",
    "    def hello(self):\n",
    "        print(f\"Hello, my value is {self.data}\")    "
   ]
  },
  {
   "cell_type": "code",
   "execution_count": 2,
   "metadata": {
    "slideshow": {
     "slide_type": "subslide"
    }
   },
   "outputs": [
    {
     "name": "stdout",
     "output_type": "stream",
     "text": [
      "C(17)\n",
      "bzzz\n",
      "Hello, my value is 17\n"
     ]
    }
   ],
   "source": [
    "d = D()\n",
    "print(d) # repr from C\n",
    "d.bzzz() # from B\n",
    "d.hello() # from D"
   ]
  },
  {
   "cell_type": "markdown",
   "metadata": {
    "slideshow": {
     "slide_type": "subslide"
    }
   },
   "source": [
    "(A minor point: what happens if both B and C have a function with the same name? The Python **Method Resolution Order** comes into play to decide. We won't discuss this.)"
   ]
  },
  {
   "cell_type": "markdown",
   "metadata": {
    "slideshow": {
     "slide_type": "slide"
    }
   },
   "source": [
    "### Functions as objects\n",
    "\n",
    "A function is an object, because everything in Python is an object.\n",
    "\n",
    "Eg, a function has a `__name__` attribute (a `str`):"
   ]
  },
  {
   "cell_type": "code",
   "execution_count": 3,
   "metadata": {},
   "outputs": [],
   "source": [
    "def square(x): return x**2\n",
    "def cube(x): return x**3"
   ]
  },
  {
   "cell_type": "code",
   "execution_count": 4,
   "metadata": {
    "slideshow": {
     "slide_type": "fragment"
    }
   },
   "outputs": [
    {
     "name": "stdout",
     "output_type": "stream",
     "text": [
      "square(3) = 9\n",
      "cube(3) = 27\n"
     ]
    }
   ],
   "source": [
    "fns = [square, cube]\n",
    "for fn in fns:\n",
    "    print(f\"{fn.__name__}(3) = {fn(3)}\")"
   ]
  },
  {
   "cell_type": "markdown",
   "metadata": {
    "slideshow": {
     "slide_type": "subslide"
    }
   },
   "source": [
    "And we can even add arbitrary attributes to an existing function. "
   ]
  },
  {
   "cell_type": "code",
   "execution_count": 5,
   "metadata": {},
   "outputs": [],
   "source": [
    "square.my_special_information = \"test\""
   ]
  },
  {
   "cell_type": "code",
   "execution_count": 6,
   "metadata": {},
   "outputs": [
    {
     "data": {
      "text/plain": [
       "'test'"
      ]
     },
     "execution_count": 6,
     "metadata": {},
     "output_type": "execute_result"
    }
   ],
   "source": [
    "square.my_special_information"
   ]
  },
  {
   "cell_type": "markdown",
   "metadata": {
    "slideshow": {
     "slide_type": "subslide"
    }
   },
   "source": [
    "Here's a small example: storing a function's **inverse**:"
   ]
  },
  {
   "cell_type": "code",
   "execution_count": 7,
   "metadata": {
    "slideshow": {
     "slide_type": "-"
    }
   },
   "outputs": [],
   "source": [
    "import math\n",
    "square.inverse = lambda x: math.sqrt(x)\n",
    "cube.inverse = lambda x: math.pow(x, 1/3)"
   ]
  },
  {
   "cell_type": "code",
   "execution_count": 8,
   "metadata": {},
   "outputs": [
    {
     "name": "stdout",
     "output_type": "stream",
     "text": [
      "square(3.0) = 9.0 and inverse = 3.0\n",
      "cube(3.0) = 27.0 and inverse = 3.0\n"
     ]
    }
   ],
   "source": [
    "for fn in fns:\n",
    "    print(f\"{fn.__name__}(3.0) = {fn(3.0)} and inverse = {fn.inverse(fn(3))}\")"
   ]
  },
  {
   "cell_type": "markdown",
   "metadata": {
    "slideshow": {
     "slide_type": "slide"
    }
   },
   "source": [
    "### The `iterator` protocol\n",
    "\n",
    "These double-underscore methods are used to define several other crucial pieces of Python's inner workings. For example - a `for` loop. We write `for x in L` where `L` is some object -- what happens internally?"
   ]
  },
  {
   "cell_type": "markdown",
   "metadata": {
    "slideshow": {
     "slide_type": "fragment"
    }
   },
   "source": [
    "**If** `L` has the `iterator` protocol - in other words, if it has `__iter__` and `__next__` - then it works, and those methods define what values `L` gives back."
   ]
  },
  {
   "cell_type": "code",
   "execution_count": 9,
   "metadata": {
    "slideshow": {
     "slide_type": "subslide"
    }
   },
   "outputs": [],
   "source": [
    "class ReverseCount:\n",
    "    def __init__(self, n):\n",
    "        self.n = n\n",
    "    def __iter__(self):\n",
    "        # often it doesn't have to do anything other than return self\n",
    "        return self\n",
    "    def __next__(self):\n",
    "        if self.n <= 0:\n",
    "            raise StopIteration # tell the for-loop we have no more items\n",
    "        self.n -= 1\n",
    "        return self.n"
   ]
  },
  {
   "cell_type": "code",
   "execution_count": 10,
   "metadata": {
    "scrolled": false,
    "slideshow": {
     "slide_type": "fragment"
    }
   },
   "outputs": [
    {
     "name": "stdout",
     "output_type": "stream",
     "text": [
      "4\n",
      "3\n",
      "2\n",
      "1\n",
      "0\n"
     ]
    }
   ],
   "source": [
    "for x in ReverseCount(5):\n",
    "    print(x)"
   ]
  }
 ],
 "metadata": {
  "celltoolbar": "Slideshow",
  "kernelspec": {
   "display_name": "Python 3",
   "language": "python",
   "name": "python3"
  },
  "language_info": {
   "codemirror_mode": {
    "name": "ipython",
    "version": 3
   },
   "file_extension": ".py",
   "mimetype": "text/x-python",
   "name": "python",
   "nbconvert_exporter": "python",
   "pygments_lexer": "ipython3",
   "version": "3.8.5"
  }
 },
 "nbformat": 4,
 "nbformat_minor": 2
}
