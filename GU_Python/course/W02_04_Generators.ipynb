{
 "cells": [
  {
   "cell_type": "markdown",
   "metadata": {
    "slideshow": {
     "slide_type": "slide"
    }
   },
   "source": [
    "<center><img src=img/MScAI_brand.png width=70%></center>\n",
    "\n",
    "# Generators"
   ]
  },
  {
   "cell_type": "markdown",
   "metadata": {
    "slideshow": {
     "slide_type": "notes"
    }
   },
   "source": [
    "Python aims to allow quite *lego-like* programming - small pieces, flexibly combinable. Generators are a nice tool for this. They're also important for saving memory."
   ]
  },
  {
   "cell_type": "markdown",
   "metadata": {
    "slideshow": {
     "slide_type": "slide"
    }
   },
   "source": [
    "Generators\n",
    "---\n",
    "\n",
    "A generator is like a function -- but instead of returning a\n",
    "single value, it *yields* one value at a time. \n",
    "\n",
    "* `yield` keyword\n",
    "* Eg called by a for-loop\n",
    "* Saves memory\n",
    "* \"Lazy\" versus \"eager\" execution.\n"
   ]
  },
  {
   "cell_type": "markdown",
   "metadata": {
    "slideshow": {
     "slide_type": "notes"
    }
   },
   "source": [
    "After the caller has \"used\" the `yield`ed value -- usually,\n",
    "inside a `for` loop or comprehension or similar -- \n",
    "control comes back into the generator, and it can then proceed to yield\n",
    "another value, and so on.\n",
    "\n",
    "Generators are very useful in situations where we would normally have\n",
    "to create a huge (potentially infinite) list as our return value,\n",
    "which would use up all our RAM. A generator allows us to create and\n",
    "yield just one item from the huge list at a time, so the huge list is\n",
    "never actually formed.\n",
    "\n",
    "A generator is called \"lazy\", because it doesn't do all its work\n",
    "immediately when you call it. It does just enough for now, then\n",
    "stops, and can resume later. A normal function is \"eager\", the opposite of lazy.\n"
   ]
  },
  {
   "cell_type": "markdown",
   "metadata": {
    "slideshow": {
     "slide_type": "slide"
    }
   },
   "source": [
    "### `yield`\n",
    "\n",
    "* `yield` is like `return`\n",
    "* But it gives back just one value, and suspends the generator\n",
    "* When the caller asks for the **next** value, the generator **resumes**\n",
    "* Resuming is not like calling the generator again from the start."
   ]
  },
  {
   "cell_type": "code",
   "execution_count": 5,
   "metadata": {
    "slideshow": {
     "slide_type": "slide"
    }
   },
   "outputs": [],
   "source": [
    "def gen_squares(start, stop):\n",
    "    result = []\n",
    "    for i in range(start, stop):\n",
    "        print('hello')\n",
    "        result.append(i**2)"
   ]
  },
  {
   "cell_type": "code",
   "execution_count": 7,
   "metadata": {},
   "outputs": [
    {
     "data": {
      "text/plain": [
       "<generator object gen_squares at 0x107d98e40>"
      ]
     },
     "execution_count": 7,
     "metadata": {},
     "output_type": "execute_result"
    }
   ],
   "source": [
    "gen_squares(0, 100000000000)"
   ]
  },
  {
   "cell_type": "markdown",
   "metadata": {
    "slideshow": {
     "slide_type": "subslide"
    }
   },
   "source": [
    "There's no law that says the consumer has to *use* all the items yielded by the generator."
   ]
  },
  {
   "cell_type": "markdown",
   "metadata": {
    "slideshow": {
     "slide_type": "fragment"
    }
   },
   "source": [
    "This fact allows generators to be infinite, e.g. using \n",
    "```python\n",
    "def all_the_ints():\n",
    "    i = 0\n",
    "    while True:\n",
    "        yield i\n",
    "        i = i+1\n",
    "for i in all_the_ints():\n",
    "    if i > 100: break\n",
    "    else: print(i)\n",
    "```\n",
    "\n",
    "In the `itertools` module there are several examples where this is useful."
   ]
  },
  {
   "cell_type": "markdown",
   "metadata": {
    "slideshow": {
     "slide_type": "subslide"
    }
   },
   "source": [
    "**Example** one place where generators are very important is when reading in files. A file on disk could be, say 10Gb - enough to use up all the RAM on our machine if we read it at once. So it's good practice, if possible, to open the file and then read and process one line at a time. "
   ]
  },
  {
   "cell_type": "markdown",
   "metadata": {
    "slideshow": {
     "slide_type": "subslide"
    }
   },
   "source": [
    "```python\n",
    "# nice example from \n",
    "# https://realpython.com/introduction-to-python-generators/\n",
    "def csv_reader(file_name):\n",
    "    file = open(file_name)\n",
    "    result = file.read().split(\"\\n\") # MemoryError\n",
    "    return result\n",
    "\n",
    "row_count = 0\n",
    "for row in csv_reader('some_enormous_file.csv'):\n",
    "    row_count += 1\n",
    "print(row_count)\n",
    "```"
   ]
  },
  {
   "cell_type": "markdown",
   "metadata": {
    "slideshow": {
     "slide_type": "subslide"
    }
   },
   "source": [
    "We get a `MemoryError` because we tried to load a lot of data into memory at once. Instead we should read one line at a time, and `yield` it:"
   ]
  },
  {
   "cell_type": "markdown",
   "metadata": {},
   "source": [
    "```python\n",
    "def csv_reader(file_name):\n",
    "    for row in open(file_name, \"r\"):\n",
    "        yield row\n",
    "\n",
    "row_count = 0\n",
    "for row in csv_reader('some_enormous_file.csv'):\n",
    "    row_count += 1\n",
    "print(row_count)\n",
    "```"
   ]
  },
  {
   "cell_type": "markdown",
   "metadata": {
    "slideshow": {
     "slide_type": "slide"
    }
   },
   "source": [
    "### `yield from`\n",
    "\n",
    "`yield from` is a useful shorthand which can be used to `yield` each item from a sub-generator, one-by-one."
   ]
  },
  {
   "cell_type": "code",
   "execution_count": 11,
   "metadata": {},
   "outputs": [
    {
     "name": "stdout",
     "output_type": "stream",
     "text": [
      "1\n",
      "2\n",
      "3\n",
      "4\n"
     ]
    }
   ],
   "source": [
    "def subgen1():\n",
    "    yield 1\n",
    "    yield 2\n",
    "\n",
    "def subgen2():\n",
    "    yield 3\n",
    "    yield 4\n",
    "\n",
    "def gen():\n",
    "    yield from subgen1()\n",
    "    yield from subgen2()\n",
    "\n",
    "for item in gen():\n",
    "    print(item)"
   ]
  },
  {
   "cell_type": "markdown",
   "metadata": {
    "slideshow": {
     "slide_type": "subslide"
    }
   },
   "source": [
    "When would this be useful? One example is when writing **depth-first traversal of a tree**, which we'll see elsewhere in the module."
   ]
  },
  {
   "cell_type": "markdown",
   "metadata": {
    "slideshow": {
     "slide_type": "slide"
    }
   },
   "source": [
    "### Generator comprehensions\n",
    "\n",
    "A **generator comprehension** is like a list comprehension, but now using round brackets `()` instead of square. It doesn't create a list, but a generator."
   ]
  },
  {
   "cell_type": "code",
   "execution_count": 8,
   "metadata": {
    "slideshow": {
     "slide_type": "fragment"
    }
   },
   "outputs": [
    {
     "name": "stdout",
     "output_type": "stream",
     "text": [
      "0\n",
      "2\n",
      "4\n",
      "6\n",
      "8\n",
      "10\n",
      "12\n",
      "14\n",
      "16\n",
      "18\n"
     ]
    }
   ],
   "source": [
    "gc = (x for x in range(20) if x % 2 == 0)\n",
    "for x in gc:\n",
    "    print(x)"
   ]
  },
  {
   "cell_type": "markdown",
   "metadata": {
    "slideshow": {
     "slide_type": "subslide"
    }
   },
   "source": [
    "After a generator comprehension has been used, it is **exhausted**. Nothing is left in it to be yielded:"
   ]
  },
  {
   "cell_type": "code",
   "execution_count": 17,
   "metadata": {},
   "outputs": [],
   "source": [
    "for x in gc:\n",
    "    print(x)"
   ]
  },
  {
   "cell_type": "markdown",
   "metadata": {
    "slideshow": {
     "slide_type": "slide"
    }
   },
   "source": [
    "**Example** (adapted from Prof Michael Madden): Use a generator to generate Pythagorean triples (i.e. integers $(x, y, z)$ such that $x^2 + y^2 = z^2$), and $x, y, z \\in [1, 30]$\n"
   ]
  },
  {
   "cell_type": "code",
   "execution_count": 4,
   "metadata": {
    "slideshow": {
     "slide_type": "fragment"
    }
   },
   "outputs": [],
   "source": [
    "def pythagorean_triples(n):\n",
    "    # we *canonicalise* on the ordering x <= y <= z to avoid duplicates\n",
    "    for x in range(1, n):\n",
    "        for y in range(x, n):\n",
    "            for z in range(y, n):\n",
    "                if x**2 + y**2 == z**2:\n",
    "                    yield (x, y, z)"
   ]
  },
  {
   "cell_type": "code",
   "execution_count": 5,
   "metadata": {
    "slideshow": {
     "slide_type": "fragment"
    }
   },
   "outputs": [
    {
     "name": "stdout",
     "output_type": "stream",
     "text": [
      "3 4 5\n",
      "5 12 13\n",
      "6 8 10\n",
      "7 24 25\n",
      "8 15 17\n",
      "9 12 15\n",
      "10 24 26\n",
      "12 16 20\n",
      "15 20 25\n",
      "20 21 29\n"
     ]
    }
   ],
   "source": [
    "for x, y, z in pythagorean_triples(30):\n",
    "    print(x, y, z)"
   ]
  },
  {
   "cell_type": "markdown",
   "metadata": {
    "slideshow": {
     "slide_type": "subslide"
    }
   },
   "source": [
    "Now do the same again, but this time using a generator comprehension instead:"
   ]
  },
  {
   "cell_type": "code",
   "execution_count": 6,
   "metadata": {
    "slideshow": {
     "slide_type": "fragment"
    }
   },
   "outputs": [
    {
     "name": "stdout",
     "output_type": "stream",
     "text": [
      "Pythagorean triples:\n",
      "3 4 5\n",
      "5 12 13\n",
      "6 8 10\n",
      "7 24 25\n",
      "8 15 17\n",
      "9 12 15\n",
      "10 24 26\n",
      "12 16 20\n",
      "15 20 25\n",
      "20 21 29\n"
     ]
    }
   ],
   "source": [
    "triples = ((x,y,z) \n",
    "           for x in range(1,30)\n",
    "           for y in range(x,30) \n",
    "           for z in range(y,30) \n",
    "           if x**2 + y**2 == z**2)\n",
    "\n",
    "print('Pythagorean triples:')\n",
    "for x, y, z in triples:\n",
    "    print(x, y, z)"
   ]
  }
 ],
 "metadata": {
  "anaconda-cloud": {},
  "celltoolbar": "Slideshow",
  "kernelspec": {
   "display_name": "Python 3 (ipykernel)",
   "language": "python",
   "name": "python3"
  },
  "language_info": {
   "codemirror_mode": {
    "name": "ipython",
    "version": 3
   },
   "file_extension": ".py",
   "mimetype": "text/x-python",
   "name": "python",
   "nbconvert_exporter": "python",
   "pygments_lexer": "ipython3",
   "version": "3.11.7"
  }
 },
 "nbformat": 4,
 "nbformat_minor": 4
}
