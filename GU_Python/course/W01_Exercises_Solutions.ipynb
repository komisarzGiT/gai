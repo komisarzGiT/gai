{
 "cells": [
  {
   "cell_type": "markdown",
   "metadata": {},
   "source": [
    "# Week 1 Exercises"
   ]
  },
  {
   "cell_type": "markdown",
   "metadata": {},
   "source": [
    "\n",
    "1. Have you installed Anaconda (or a different method of Python installation, if you are confident)?\n",
    "\n",
    "2. Are you able to run Python code in the following scenarios?\n",
    "\n",
    "  * Coding and running in an IDE such as VS Code, Spyder, PyCharm, or similar\n",
    "  * Running a .ipynb in Jupyter Notebook\n",
    "  * Running interactively in IPython\n",
    "  * Running a .py file in the command-line (Powershell, Terminal, ...)\n",
    "\n",
    "\n",
    "If not, please look at the videos, read docs online, ask a classmate, the lecturer, or the TA."
   ]
  },
  {
   "cell_type": "markdown",
   "metadata": {},
   "source": [
    "3. Write code for the `hailstones` problem. Start on a positive integer $n$. If it is even, go to $n/2$. If it is odd, go to $3n+1$. Iterate until you reach the number 1. Start with `def hailstones(n):`"
   ]
  },
  {
   "cell_type": "code",
   "execution_count": 3,
   "metadata": {},
   "outputs": [
    {
     "name": "stdout",
     "output_type": "stream",
     "text": [
      "10\n",
      "5\n",
      "16\n",
      "8\n",
      "4\n",
      "2\n",
      "1\n"
     ]
    }
   ],
   "source": [
    "def hailstones(n):\n",
    "    print(n)\n",
    "    if n == 1:\n",
    "        return\n",
    "    elif n % 2 == 0:\n",
    "        hailstones(n // 2)\n",
    "    else:\n",
    "        hailstones(3 * n + 1)\n",
    "hailstones(10)"
   ]
  },
  {
   "cell_type": "markdown",
   "metadata": {},
   "source": [
    "4. Write code for `is_palindrome` problem. Start with `def is_palindrome(s):` and notice we can use doctests to test our code:"
   ]
  },
  {
   "cell_type": "code",
   "execution_count": 22,
   "metadata": {},
   "outputs": [
    {
     "name": "stdout",
     "output_type": "stream",
     "text": [
      "Finding tests in NoName\n",
      "Trying:\n",
      "    is_palindrome('racecar')\n",
      "Expecting:\n",
      "    True\n",
      "ok\n",
      "Trying:\n",
      "    is_palindrome('hello')\n",
      "Expecting:\n",
      "    False\n",
      "ok\n",
      "Trying:\n",
      "    is_palindrome('a')\n",
      "Expecting:\n",
      "    True\n",
      "ok\n",
      "Trying:\n",
      "    is_palindrome('')\n",
      "Expecting:\n",
      "    True\n",
      "ok\n",
      "Trying:\n",
      "    is_palindrome('ab')\n",
      "Expecting:\n",
      "    False\n",
      "ok\n",
      "Trying:\n",
      "    is_palindrome('aa')\n",
      "Expecting:\n",
      "    True\n",
      "ok\n",
      "Trying:\n",
      "    is_palindrome('abcba')\n",
      "Expecting:\n",
      "    True\n",
      "ok\n",
      "Trying:\n",
      "    is_palindrome('abcd')\n",
      "Expecting:\n",
      "    False\n",
      "ok\n",
      "Trying:\n",
      "    is_palindrome('amanaplanacanalpanama')\n",
      "Expecting:\n",
      "    True\n",
      "ok\n",
      "Trying:\n",
      "    is_palindrome('a man, a plan, a canal: panama')\n",
      "Expecting:\n",
      "    False\n",
      "ok\n"
     ]
    }
   ],
   "source": [
    "def is_palindrome(s):\n",
    "    \"\"\"\n",
    "    >>> is_palindrome('racecar')\n",
    "    True\n",
    "    >>> is_palindrome('hello')\n",
    "    False\n",
    "    >>> is_palindrome('a')\n",
    "    True\n",
    "    >>> is_palindrome('')\n",
    "    True\n",
    "    >>> is_palindrome('ab')\n",
    "    False\n",
    "    >>> is_palindrome('aa')\n",
    "    True\n",
    "    >>> is_palindrome('abcba')\n",
    "    True\n",
    "    >>> is_palindrome('abcd')\n",
    "    False\n",
    "    >>> is_palindrome('amanaplanacanalpanama')\n",
    "    True\n",
    "    >>> is_palindrome('a man, a plan, a canal: panama')\n",
    "    False\n",
    "    \"\"\"\n",
    "    if len(s) <= 1:\n",
    "        return True\n",
    "    elif s[0] != s[-1]:\n",
    "        return False\n",
    "    else:\n",
    "        return is_palindrome(s[1:-1])\n",
    "    \n",
    "doctest.run_docstring_examples(is_palindrome, globals(), verbose=True)"
   ]
  },
  {
   "cell_type": "markdown",
   "metadata": {},
   "source": [
    "5. The next few exercises refer to Grid Driving. If necessary, refer back to that video and notebook. Let's work on `simulate()`. First, run the doctests below and observe that they fail. Now we will try to write the function and make the tests pass. We need to track *how many* cells have been visited. But to do that, we need to track *which* cells have been visited. Why? What data structure might we use to track *which* cells have been visited? Why? Write out a complete implementation for `simulate()`. When you think you have it right, try the doctests. Remember that the number of time-steps increments only when the car actually moves.\n",
    "\n"
   ]
  },
  {
   "cell_type": "code",
   "execution_count": 16,
   "metadata": {},
   "outputs": [
    {
     "name": "stdout",
     "output_type": "stream",
     "text": [
      "Finding tests in NoName\n",
      "Trying:\n",
      "    simulate(\"NNN\", 100, 100)\n",
      "Expecting:\n",
      "    (4, 3)\n",
      "ok\n",
      "Trying:\n",
      "    simulate(\"NNNSSS\", 100, 100)\n",
      "Expecting:\n",
      "    (4, 6)\n",
      "ok\n",
      "Trying:\n",
      "    simulate(\"NNNESSS\", 100, 100)\n",
      "Expecting:\n",
      "    (8, 7)\n",
      "ok\n",
      "Trying:\n",
      "    simulate(\"NNNNNSSSSS\", 3, 3) # will actually take 2 steps north and 2 south => total 4 time-steps\n",
      "Expecting:\n",
      "    (3, 4)\n",
      "ok\n"
     ]
    }
   ],
   "source": [
    "def simulate(prog, xsize, ysize):\n",
    "    \"\"\"Given a \"program\" *prog*, run that program by \"moving around\" and\n",
    "    tracking what happens. Use a set of tuples to track locations visited.\n",
    "\n",
    "    Return the number of junctions visited and the number of\n",
    "    time-steps used.\n",
    "    \n",
    "    Examples of usage and results:\n",
    "\n",
    "    >>> simulate(\"NNN\", 100, 100)\n",
    "    (4, 3)\n",
    "    >>> simulate(\"NNNSSS\", 100, 100)\n",
    "    (4, 6)\n",
    "    >>> simulate(\"NNNESSS\", 100, 100)\n",
    "    (8, 7)\n",
    "    >>> simulate(\"NNNNNSSSSS\", 3, 3) # will actually take 2 steps north and 2 south => total 4 time-steps\n",
    "    (3, 4)\n",
    "    \"\"\"\n",
    "    \n",
    "    # We need to track \"current position\", so we'll use integers\n",
    "    # x and y for that. Initialise them.\n",
    "    x, y = 0, 0\n",
    "\n",
    "    # We need to store all the junctions we have visited. We'll use a\n",
    "    # set because if we visit a junction twice, that doesn't count as\n",
    "    # two. A set discards duplicates.\n",
    "    visited = set()\n",
    "\n",
    "    # We have already visited the \"current\" junction. Notice that\n",
    "    # we're storing the position as a *tuple*. We can't use a list (ie\n",
    "    # visited.add([x, y])), even though that would make sense, because\n",
    "    # we can't put lists into sets.\n",
    "    visited.add((x, y))\n",
    "\n",
    "    # We need to track how many time-steps have elapsed. \n",
    "    steps = 0 \n",
    "    \n",
    "    for s in prog:\n",
    "        \n",
    "        # Execute the step s by incrementing or decrementing x or y.\n",
    "        # But don't go off the grid.\n",
    "        if s == \"N\":\n",
    "            if y + 1 <= ysize - 1: # if new position is still on grid\n",
    "                y += 1\n",
    "                steps += 1 # count a time-step only if we actually move\n",
    "        elif s == \"S\":\n",
    "            if y - 1 >= 0:\n",
    "                y -= 1\n",
    "                steps += 1\n",
    "        elif s == \"E\":\n",
    "            if x + 1 <= xsize - 1:\n",
    "                x += 1\n",
    "                steps += 1\n",
    "        elif s == \"W\":\n",
    "            if x - 1 >= 0:\n",
    "                x -= 1\n",
    "                steps += 1\n",
    "\n",
    "        # Add the current position. If a duplicate, it will be\n",
    "        # ignored.\n",
    "        visited.add((x, y))\n",
    "        \n",
    "    return len(visited), steps\n",
    "import doctest\n",
    "doctest.run_docstring_examples(simulate, globals(), verbose=True)"
   ]
  },
  {
   "cell_type": "markdown",
   "metadata": {},
   "source": [
    "6. Write a function `draw` which outputs a simple text-based diagram of a grid, where 0 represents an unvisited cell, and 1 a visited cell. "
   ]
  },
  {
   "cell_type": "code",
   "execution_count": 14,
   "metadata": {},
   "outputs": [
    {
     "name": "stdout",
     "output_type": "stream",
     "text": [
      "Finding tests in NoName\n",
      "Trying:\n",
      "    draw([[0, 0, 0], [0, 0, 0], [0, 1, 0]])\n",
      "Expecting:\n",
      "    [0, 1, 0]\n",
      "    [0, 0, 0]\n",
      "    [0, 0, 0]\n",
      "ok\n"
     ]
    }
   ],
   "source": [
    "def draw(grid):\n",
    "    \"\"\"Given a grid (list of strings), print it out. Notice we print the\n",
    "    lines in reverse order, so that the 0,0 coordinate is at the bottom.\n",
    "    \n",
    "    >>> draw([[0, 0, 0], [0, 0, 0], [0, 1, 0]])\n",
    "    [0, 1, 0]\n",
    "    [0, 0, 0]\n",
    "    [0, 0, 0]\n",
    "    \"\"\"\n",
    "    xsize, ysize = len(grid[0]), len(grid)\n",
    "    for line in reversed(grid): print(line)\n",
    "doctest.run_docstring_examples(draw, globals(), verbose=True)"
   ]
  },
  {
   "cell_type": "markdown",
   "metadata": {},
   "source": [
    "7. Write out an implementation of `plan()` and check it with the doctests.\n"
   ]
  },
  {
   "cell_type": "code",
   "execution_count": 23,
   "metadata": {},
   "outputs": [
    {
     "name": "stdout",
     "output_type": "stream",
     "text": [
      "Finding tests in NoName\n",
      "Trying:\n",
      "    plan(2, 2)\n",
      "Expecting:\n",
      "    'NES'\n",
      "ok\n",
      "Trying:\n",
      "    plan(2, 3)\n",
      "Expecting:\n",
      "    'NNESS'\n",
      "ok\n",
      "Trying:\n",
      "    simulate(plan(10, 10), 10, 10)\n",
      "Expecting:\n",
      "    (100, 99)\n",
      "ok\n"
     ]
    }
   ],
   "source": [
    "def plan(xsize, ysize):\n",
    "    \"\"\"Given the city limits, return a program which moves around the\n",
    "    entire city. The program should be a string, eg \"NNESS\".\n",
    "\n",
    "    By the way, notice that doctest will insist that the \"expected\"\n",
    "    string, below, must be in single-quotes (''), not double-quotes\n",
    "    (\"\").\n",
    "\n",
    "    One way to plan is: starting from the southwest, we traverse all the way\n",
    "    northwards, then one step east, then all the way southwards, then\n",
    "    one step east, and so on.\n",
    "\n",
    "    >>> plan(2, 2)\n",
    "    'NES'\n",
    "    >>> plan(2, 3)\n",
    "    'NNESS'\n",
    "    >>> simulate(plan(10, 10), 10, 10)\n",
    "    (100, 99)\n",
    "    \"\"\"\n",
    "\n",
    "    # Make an empty list. We'll convert to a string later.\n",
    "    s = []\n",
    "\n",
    "    # This loop adds the E values\n",
    "    for i in range(xsize):\n",
    "\n",
    "        # This loop adds the N or S values\n",
    "        for j in range(ysize - 1):\n",
    "            if i % 2 == 0:\n",
    "                s.append(\"N\")\n",
    "            else:\n",
    "                s.append(\"S\")\n",
    "        if i < xsize - 1:\n",
    "            s.append(\"E\")\n",
    "\n",
    "    # Convert our list to a string.\n",
    "    return \"\".join(s)\n",
    "\n",
    "doctest.run_docstring_examples(plan, globals(), verbose=True)"
   ]
  },
  {
   "cell_type": "code",
   "execution_count": null,
   "metadata": {},
   "outputs": [],
   "source": []
  }
 ],
 "metadata": {
  "colab": {
   "provenance": []
  },
  "kernelspec": {
   "display_name": "base",
   "language": "python",
   "name": "python3"
  },
  "language_info": {
   "codemirror_mode": {
    "name": "ipython",
    "version": 3
   },
   "file_extension": ".py",
   "mimetype": "text/x-python",
   "name": "python",
   "nbconvert_exporter": "python",
   "pygments_lexer": "ipython3",
   "version": "3.11.7"
  }
 },
 "nbformat": 4,
 "nbformat_minor": 4
}
