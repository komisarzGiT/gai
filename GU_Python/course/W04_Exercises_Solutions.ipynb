{
 "cells": [
  {
   "cell_type": "code",
   "execution_count": 1,
   "metadata": {},
   "outputs": [],
   "source": [
    "import numpy as np\n",
    "import pandas as pd\n",
    "import matplotlib.pyplot as plt\n",
    "import seaborn as sns\n",
    "import doctest"
   ]
  },
  {
   "cell_type": "markdown",
   "metadata": {},
   "source": [
    "### Seaborn\n",
    "\n",
    "**Exercise**: Let's make a plot to compare the fuel efficiency (miles per gallon) of cars made in the USA, Europe, and Japan in the 1970s. The data is in `data/mpg.csv`."
   ]
  },
  {
   "cell_type": "code",
   "execution_count": 2,
   "metadata": {},
   "outputs": [],
   "source": [
    "df = pd.read_csv(\"data/mpg.csv\", index_col=False)"
   ]
  },
  {
   "cell_type": "code",
   "execution_count": 3,
   "metadata": {},
   "outputs": [
    {
     "data": {
      "text/html": [
       "<div>\n",
       "<style scoped>\n",
       "    .dataframe tbody tr th:only-of-type {\n",
       "        vertical-align: middle;\n",
       "    }\n",
       "\n",
       "    .dataframe tbody tr th {\n",
       "        vertical-align: top;\n",
       "    }\n",
       "\n",
       "    .dataframe thead th {\n",
       "        text-align: right;\n",
       "    }\n",
       "</style>\n",
       "<table border=\"1\" class=\"dataframe\">\n",
       "  <thead>\n",
       "    <tr style=\"text-align: right;\">\n",
       "      <th></th>\n",
       "      <th>Unnamed: 0</th>\n",
       "      <th>mpg</th>\n",
       "      <th>cylinders</th>\n",
       "      <th>displacement</th>\n",
       "      <th>horsepower</th>\n",
       "      <th>weight</th>\n",
       "      <th>acceleration</th>\n",
       "      <th>model_year</th>\n",
       "      <th>origin</th>\n",
       "      <th>name</th>\n",
       "    </tr>\n",
       "  </thead>\n",
       "  <tbody>\n",
       "    <tr>\n",
       "      <th>0</th>\n",
       "      <td>0</td>\n",
       "      <td>18.0</td>\n",
       "      <td>8</td>\n",
       "      <td>307.0</td>\n",
       "      <td>130.0</td>\n",
       "      <td>3504</td>\n",
       "      <td>12.0</td>\n",
       "      <td>70</td>\n",
       "      <td>usa</td>\n",
       "      <td>chevrolet chevelle malibu</td>\n",
       "    </tr>\n",
       "    <tr>\n",
       "      <th>1</th>\n",
       "      <td>1</td>\n",
       "      <td>15.0</td>\n",
       "      <td>8</td>\n",
       "      <td>350.0</td>\n",
       "      <td>165.0</td>\n",
       "      <td>3693</td>\n",
       "      <td>11.5</td>\n",
       "      <td>70</td>\n",
       "      <td>usa</td>\n",
       "      <td>buick skylark 320</td>\n",
       "    </tr>\n",
       "    <tr>\n",
       "      <th>2</th>\n",
       "      <td>2</td>\n",
       "      <td>18.0</td>\n",
       "      <td>8</td>\n",
       "      <td>318.0</td>\n",
       "      <td>150.0</td>\n",
       "      <td>3436</td>\n",
       "      <td>11.0</td>\n",
       "      <td>70</td>\n",
       "      <td>usa</td>\n",
       "      <td>plymouth satellite</td>\n",
       "    </tr>\n",
       "    <tr>\n",
       "      <th>3</th>\n",
       "      <td>3</td>\n",
       "      <td>16.0</td>\n",
       "      <td>8</td>\n",
       "      <td>304.0</td>\n",
       "      <td>150.0</td>\n",
       "      <td>3433</td>\n",
       "      <td>12.0</td>\n",
       "      <td>70</td>\n",
       "      <td>usa</td>\n",
       "      <td>amc rebel sst</td>\n",
       "    </tr>\n",
       "    <tr>\n",
       "      <th>4</th>\n",
       "      <td>4</td>\n",
       "      <td>17.0</td>\n",
       "      <td>8</td>\n",
       "      <td>302.0</td>\n",
       "      <td>140.0</td>\n",
       "      <td>3449</td>\n",
       "      <td>10.5</td>\n",
       "      <td>70</td>\n",
       "      <td>usa</td>\n",
       "      <td>ford torino</td>\n",
       "    </tr>\n",
       "  </tbody>\n",
       "</table>\n",
       "</div>"
      ],
      "text/plain": [
       "   Unnamed: 0   mpg  cylinders  displacement  horsepower  weight  \\\n",
       "0           0  18.0          8         307.0       130.0    3504   \n",
       "1           1  15.0          8         350.0       165.0    3693   \n",
       "2           2  18.0          8         318.0       150.0    3436   \n",
       "3           3  16.0          8         304.0       150.0    3433   \n",
       "4           4  17.0          8         302.0       140.0    3449   \n",
       "\n",
       "   acceleration  model_year origin                       name  \n",
       "0          12.0          70    usa  chevrolet chevelle malibu  \n",
       "1          11.5          70    usa          buick skylark 320  \n",
       "2          11.0          70    usa         plymouth satellite  \n",
       "3          12.0          70    usa              amc rebel sst  \n",
       "4          10.5          70    usa                ford torino  "
      ]
     },
     "execution_count": 3,
     "metadata": {},
     "output_type": "execute_result"
    }
   ],
   "source": [
    "df.head()"
   ]
  },
  {
   "cell_type": "markdown",
   "metadata": {},
   "source": [
    "Your image could look like the following. Look up https://seaborn.pydata.org/generated/seaborn.kdeplot.html if needed.\n",
    "\n",
    "![](img/mpg_kde.png)"
   ]
  },
  {
   "cell_type": "code",
   "execution_count": 4,
   "metadata": {},
   "outputs": [
    {
     "data": {
      "image/png": "[encoded data removed]",
      "text/plain": [
       "<Figure size 640x480 with 1 Axes>"
      ]
     },
     "metadata": {},
     "output_type": "display_data"
    }
   ],
   "source": [
    "sns.kdeplot(data=df, x=\"mpg\", hue=\"origin\", fill=True);"
   ]
  },
  {
   "cell_type": "markdown",
   "metadata": {},
   "source": [
    "### Matplotlib `imshow`\n",
    "\n",
    "**Exercise**. Let's construct a simple image by directly setting RGB values in a Numpy array. For example, you might like to make your nation's flag, or any other (simple) coloured image. Use `plt.imshow` to display the image.\n",
    "\n",
    "(If viewing the notebook in an IDE such as PyCharm with dark/inverted colour theme, it might be inverting the colours of your image which will make it look strange - try right-clicking the image and select \"invert colours\" or similar, or change to a light-coloured theme.)"
   ]
  },
  {
   "cell_type": "markdown",
   "metadata": {},
   "source": [
    "![](img/ireland_flag.png)"
   ]
  },
  {
   "cell_type": "code",
   "execution_count": 5,
   "metadata": {},
   "outputs": [
    {
     "data": {
      "image/png": "[encoded data removed]",
      "text/plain": [
       "<Figure size 640x480 with 1 Axes>"
      ]
     },
     "metadata": {},
     "output_type": "display_data"
    }
   ],
   "source": [
    "x = np.zeros((60, 100, 3))\n",
    "# set x to have RGB values in the range [0.0, 1.0]\n",
    "x[:, 0:33, 1] = 1.0 # first strip => green\n",
    "x[:, 33:66, :] = 1.0 # second strip => white\n",
    "x[:, 66:100, 0] = 1.0 # third strip => orange\n",
    "x[:, 66:100, 1] = 0.7\n",
    "plt.imshow(x)\n",
    "plt.axis('off');"
   ]
  },
  {
   "cell_type": "markdown",
   "metadata": {},
   "source": [
    "### Broadcasting in Numpy"
   ]
  },
  {
   "cell_type": "markdown",
   "metadata": {},
   "source": [
    "**Exercise**. Create the 2d array $a_{ij}$, a \"vertical\" 1d array $b_i$, a \"horizontal\" 1d array $c_j$, and a scalar $d$. Calculate the new 2d array $q$ where $q_{ij} = a_{ij} + b_i + c_j + d$.\n",
    "\n",
    "\n",
    "\n",
    "```\n",
    "a: 1 2 3    b: 10    c: 100 200 300    d: 1000   q: 1111 1212 1313\n",
    "   4 5 6       20                                   1124 1225 1326\n",
    "   7 8 9       30                                   1137 1238 1339\n",
    "```\n",
    "\n"
   ]
  },
  {
   "cell_type": "markdown",
   "metadata": {},
   "source": [
    "**Solution**."
   ]
  },
  {
   "cell_type": "code",
   "execution_count": 6,
   "metadata": {},
   "outputs": [
    {
     "data": {
      "text/plain": [
       "array([[1111, 1212, 1313],\n",
       "       [1124, 1225, 1326],\n",
       "       [1137, 1238, 1339]])"
      ]
     },
     "execution_count": 6,
     "metadata": {},
     "output_type": "execute_result"
    }
   ],
   "source": [
    "a = np.array([[1, 2, 3],\n",
    "              [4, 5, 6],\n",
    "              [7, 8, 9]])\n",
    "b = np.array([[10], [20], [30]])\n",
    "c = np.array([100, 200, 300])\n",
    "d = 1000\n",
    "a + b + c + d"
   ]
  },
  {
   "cell_type": "markdown",
   "metadata": {},
   "source": [
    "The following might help to clarify what's happening:"
   ]
  },
  {
   "cell_type": "code",
   "execution_count": 7,
   "metadata": {},
   "outputs": [
    {
     "name": "stdout",
     "output_type": "stream",
     "text": [
      "(3, 1)\n"
     ]
    },
    {
     "data": {
      "text/plain": [
       "array([[10],\n",
       "       [20],\n",
       "       [30]])"
      ]
     },
     "execution_count": 7,
     "metadata": {},
     "output_type": "execute_result"
    }
   ],
   "source": [
    "print(b.shape)\n",
    "b"
   ]
  },
  {
   "cell_type": "code",
   "execution_count": 8,
   "metadata": {},
   "outputs": [
    {
     "name": "stdout",
     "output_type": "stream",
     "text": [
      "(3,)\n"
     ]
    },
    {
     "data": {
      "text/plain": [
       "array([100, 200, 300])"
      ]
     },
     "execution_count": 8,
     "metadata": {},
     "output_type": "execute_result"
    }
   ],
   "source": [
    "print(c.shape)\n",
    "c"
   ]
  },
  {
   "cell_type": "code",
   "execution_count": 9,
   "metadata": {},
   "outputs": [
    {
     "data": {
      "text/plain": [
       "array([[110, 210, 310],\n",
       "       [120, 220, 320],\n",
       "       [130, 230, 330]])"
      ]
     },
     "execution_count": 9,
     "metadata": {},
     "output_type": "execute_result"
    }
   ],
   "source": [
    "b+c"
   ]
  },
  {
   "cell_type": "markdown",
   "metadata": {},
   "source": [
    "**Exercise**. Read through `pairsum`, `reverse_pairsum`, `reverse_pairsum2` and `reverse_pairsum3` below, which demonstrate the interaction between `zip` and `reversed`. These are for practice in the `broadcastable` exercise which is coming up next.\n",
    "\n",
    "To start, here are two lists of different lengths:"
   ]
  },
  {
   "cell_type": "code",
   "execution_count": 10,
   "metadata": {},
   "outputs": [],
   "source": [
    "X = [0, 1, 2, 3]\n",
    "Y = [5, 6, 7] "
   ]
  },
  {
   "cell_type": "markdown",
   "metadata": {},
   "source": [
    "`pairsum` is a function which prints out the sum of each pair of corresponding elements, stopping when we reach an element which doesn't have any corresponding element in the other list."
   ]
  },
  {
   "cell_type": "code",
   "execution_count": 11,
   "metadata": {},
   "outputs": [
    {
     "data": {
      "text/plain": [
       "[5, 7, 9]"
      ]
     },
     "execution_count": 11,
     "metadata": {},
     "output_type": "execute_result"
    }
   ],
   "source": [
    "def pairsum(X, Y):\n",
    "    result = []\n",
    "    for x, y in zip(X, Y):\n",
    "        result.append(x+y)\n",
    "    return result\n",
    "pairsum([0, 1, 2, 3], [5, 6, 7])"
   ]
  },
  {
   "cell_type": "markdown",
   "metadata": {},
   "source": [
    "Now, we do the same, but with `X` and `Y` each reversed. "
   ]
  },
  {
   "cell_type": "code",
   "execution_count": 12,
   "metadata": {},
   "outputs": [
    {
     "data": {
      "text/plain": [
       "[10, 8, 6]"
      ]
     },
     "execution_count": 12,
     "metadata": {},
     "output_type": "execute_result"
    }
   ],
   "source": [
    "def reverse_pairsum(X, Y):\n",
    "    result = []\n",
    "    for x, y in zip(reversed(X), reversed(Y)):\n",
    "        result.append(x+y)\n",
    "    return result\n",
    "reverse_pairsum([0, 1, 2, 3], [5, 6, 7])    "
   ]
  },
  {
   "cell_type": "markdown",
   "metadata": {},
   "source": [
    "Now try changing `zip(reversed(X), reversed(Y))` to `reversed(zip(X, Y))`. "
   ]
  },
  {
   "cell_type": "code",
   "execution_count": 13,
   "metadata": {},
   "outputs": [
    {
     "ename": "TypeError",
     "evalue": "'zip' object is not reversible",
     "output_type": "error",
     "traceback": [
      "\u001b[0;31m---------------------------------------------------------------------------\u001b[0m",
      "\u001b[0;31mTypeError\u001b[0m                                 Traceback (most recent call last)",
      "Cell \u001b[0;32mIn[13], line 5\u001b[0m\n\u001b[1;32m      3\u001b[0m     \u001b[38;5;28;01mfor\u001b[39;00m x, y \u001b[38;5;129;01min\u001b[39;00m \u001b[38;5;28mreversed\u001b[39m(\u001b[38;5;28mzip\u001b[39m(X, Y)):\n\u001b[1;32m      4\u001b[0m         result\u001b[38;5;241m.\u001b[39mappend(x\u001b[38;5;241m+\u001b[39my)\n\u001b[0;32m----> 5\u001b[0m reverse_pairsum2(X, Y)\n",
      "Cell \u001b[0;32mIn[13], line 3\u001b[0m, in \u001b[0;36mreverse_pairsum2\u001b[0;34m(X, Y)\u001b[0m\n\u001b[1;32m      1\u001b[0m \u001b[38;5;28;01mdef\u001b[39;00m \u001b[38;5;21mreverse_pairsum2\u001b[39m(X, Y):\n\u001b[1;32m      2\u001b[0m     result \u001b[38;5;241m=\u001b[39m []\n\u001b[0;32m----> 3\u001b[0m     \u001b[38;5;28;01mfor\u001b[39;00m x, y \u001b[38;5;129;01min\u001b[39;00m \u001b[38;5;28mreversed\u001b[39m(\u001b[38;5;28mzip\u001b[39m(X, Y)):\n\u001b[1;32m      4\u001b[0m         result\u001b[38;5;241m.\u001b[39mappend(x\u001b[38;5;241m+\u001b[39my)\n",
      "\u001b[0;31mTypeError\u001b[0m: 'zip' object is not reversible"
     ]
    }
   ],
   "source": [
    "def reverse_pairsum2(X, Y):\n",
    "    result = []\n",
    "    for x, y in reversed(zip(X, Y)):\n",
    "        result.append(x+y)\n",
    "reverse_pairsum2(X, Y)"
   ]
  },
  {
   "cell_type": "markdown",
   "metadata": {},
   "source": [
    "We see that this doesn't work, because `zip` is lazy (a generator), so it can't be reversed. We could try converting the `zip` to a list first:"
   ]
  },
  {
   "cell_type": "code",
   "execution_count": 40,
   "metadata": {},
   "outputs": [
    {
     "data": {
      "text/plain": [
       "[9, 7, 5]"
      ]
     },
     "execution_count": 40,
     "metadata": {},
     "output_type": "execute_result"
    }
   ],
   "source": [
    "def reverse_pairsum3(X, Y):\n",
    "    Z = list(zip(X, Y))\n",
    "    result = []\n",
    "    for x, y in reversed(Z):\n",
    "        result.append(x+y)\n",
    "    return result\n",
    "reverse_pairsum3(X, Y)"
   ]
  },
  {
   "cell_type": "markdown",
   "metadata": {},
   "source": [
    "And this doesn't crash, but notice the result is different from the original `reverse_pairsum`! Either could be correct, depending on what we want to achieve."
   ]
  },
  {
   "cell_type": "markdown",
   "metadata": {},
   "source": [
    "**Exercise**. Implement the Numpy broadcasting rules as a Python function. Use the `zip` and `reversed` ideas from above. Return True or False.\n",
    "\n",
    "Recall the rules of Numpy **broadcasting**: Numpy also allows multiplication or other functions to work when the two array shapes are *broadcastable*. The smaller array is 'broadcast' ('reused') across the larger array so that they have compatible shapes. This works as long as corresponding dimensions are *equal*, or one of them is equal to 1, or not present. We line the shapes up \"right-aligned\":\n",
    "\n",
    "```\n",
    "A      (2d array):  2 x 4\n",
    "B      (1d array):      4\n",
    "Result (2d array):  2 x 4\n",
    "```"
   ]
  },
  {
   "cell_type": "code",
   "execution_count": 56,
   "metadata": {},
   "outputs": [],
   "source": [
    "def broadcastable(x, y):\n",
    "    \"\"\"\n",
    "    Return True or False, indicating whether the arrays x and y can be broadcast together.\n",
    "\n",
    "    >>> broadcastable([4, 1, 2], [1, 4, 7])\n",
    "    True\n",
    "\n",
    "    >>> broadcastable([4, 1, 2], 18)\n",
    "    True\n",
    "\n",
    "    >>> broadcastable([4, 1, 2], [1, 18])\n",
    "    False\n",
    "    \n",
    "    >>> broadcastable([[4, 1, 2],\n",
    "    ...                [5, 5, 5]],\n",
    "    ...               [1, 8, 7])\n",
    "    True\n",
    "\n",
    "    >>> broadcastable([[4, 1, 2],\n",
    "    ...                [5, 5, 5]],\n",
    "    ...               [1, 7])\n",
    "    False\n",
    "    \n",
    "    >>> broadcastable([[4, 1, 2],\n",
    "    ...                [5, 5, 5]],\n",
    "    ...               [[1, 8, 7]])\n",
    "    True\n",
    "    >>> A = [[1, 1], [1, 1]]\n",
    "    >>> B = [[2, 2]]\n",
    "    >>> C = [3, 3, 3]\n",
    "    >>> D = np.ones((4, 1, 6, 7))\n",
    "    >>> E = np.zeros((6, 7))\n",
    "    >>> broadcastable(A, B)\n",
    "    True\n",
    "    >>> broadcastable(A, C)\n",
    "    False\n",
    "    >>> broadcastable(D, E)\n",
    "    True\n",
    "    \"\"\"\n",
    "    sx = np.array(x).shape\n",
    "    sy = np.array(y).shape\n",
    "    \n",
    "    # iterate from the end of each shape\n",
    "    for sxi, syi in zip(reversed(sx), reversed(sy)):\n",
    "        # remember: if sx is shorter than sy or vice versa,\n",
    "        # zip stops when the **shorter** is exhausted\n",
    "        \n",
    "        # if equal, or either equals 1 => this item is ok\n",
    "        if sxi == 1 or syi == 1 or sxi == syi: \n",
    "            continue\n",
    "        else:\n",
    "            return False\n",
    "    return True"
   ]
  },
  {
   "cell_type": "code",
   "execution_count": 57,
   "metadata": {},
   "outputs": [
    {
     "name": "stdout",
     "output_type": "stream",
     "text": [
      "Finding tests in NoName\n",
      "Trying:\n",
      "    broadcastable([4, 1, 2], [1, 4, 7])\n",
      "Expecting:\n",
      "    True\n",
      "ok\n",
      "Trying:\n",
      "    broadcastable([4, 1, 2], 18)\n",
      "Expecting:\n",
      "    True\n",
      "ok\n",
      "Trying:\n",
      "    broadcastable([4, 1, 2], [1, 18])\n",
      "Expecting:\n",
      "    False\n",
      "ok\n",
      "Trying:\n",
      "    broadcastable([[4, 1, 2],\n",
      "                   [5, 5, 5]],\n",
      "                  [1, 8, 7])\n",
      "Expecting:\n",
      "    True\n",
      "ok\n",
      "Trying:\n",
      "    broadcastable([[4, 1, 2],\n",
      "                   [5, 5, 5]],\n",
      "                  [1, 7])\n",
      "Expecting:\n",
      "    False\n",
      "ok\n",
      "Trying:\n",
      "    broadcastable([[4, 1, 2],\n",
      "                   [5, 5, 5]],\n",
      "                  [[1, 8, 7]])\n",
      "Expecting:\n",
      "    True\n",
      "ok\n",
      "Trying:\n",
      "    A = [[1, 1], [1, 1]]\n",
      "Expecting nothing\n",
      "ok\n",
      "Trying:\n",
      "    B = [[2, 2]]\n",
      "Expecting nothing\n",
      "ok\n",
      "Trying:\n",
      "    C = [3, 3, 3]\n",
      "Expecting nothing\n",
      "ok\n",
      "Trying:\n",
      "    D = np.ones((4, 1, 6, 7))\n",
      "Expecting nothing\n",
      "ok\n",
      "Trying:\n",
      "    E = np.zeros((6, 7))\n",
      "Expecting nothing\n",
      "ok\n",
      "Trying:\n",
      "    broadcastable(A, B)\n",
      "Expecting:\n",
      "    True\n",
      "ok\n",
      "Trying:\n",
      "    broadcastable(A, C)\n",
      "Expecting:\n",
      "    False\n",
      "ok\n",
      "Trying:\n",
      "    broadcastable(D, E)\n",
      "Expecting:\n",
      "    True\n",
      "ok\n"
     ]
    }
   ],
   "source": [
    "import doctest\n",
    "doctest.run_docstring_examples(broadcastable, globals(), verbose=True)"
   ]
  },
  {
   "cell_type": "markdown",
   "metadata": {},
   "source": [
    "For each doctest, you can also paste the inputs `x` and `y` and calculate (eg) `x + y`.\n",
    "Where `broadcastable` returns `True`, you should see a result, `x+y`. Where it returns  `False`, you\n",
    "should see a message such as:\n",
    "\n",
    "`\"ValueError: operands could not be broadcast together with shapes (2,3) (2,)\"`\n",
    "    \n",
    "\n"
   ]
  },
  {
   "cell_type": "code",
   "execution_count": 60,
   "metadata": {},
   "outputs": [],
   "source": [
    "X = np.array([[4, 1, 2], [5, 5, 5]])\n",
    "Y = np.array([1, 8, 7])\n",
    "Z = np.array([1, 2])"
   ]
  },
  {
   "cell_type": "code",
   "execution_count": 61,
   "metadata": {},
   "outputs": [
    {
     "data": {
      "text/plain": [
       "array([[ 5,  9,  9],\n",
       "       [ 6, 13, 12]])"
      ]
     },
     "execution_count": 61,
     "metadata": {},
     "output_type": "execute_result"
    }
   ],
   "source": [
    "X + Y"
   ]
  },
  {
   "cell_type": "code",
   "execution_count": 63,
   "metadata": {},
   "outputs": [
    {
     "ename": "ValueError",
     "evalue": "operands could not be broadcast together with shapes (2,3) (2,) ",
     "output_type": "error",
     "traceback": [
      "\u001b[1;31m---------------------------------------------------------------------------\u001b[0m",
      "\u001b[1;31mValueError\u001b[0m                                Traceback (most recent call last)",
      "\u001b[1;32m~\\AppData\\Local\\Temp/ipykernel_10040/465671512.py\u001b[0m in \u001b[0;36m<module>\u001b[1;34m\u001b[0m\n\u001b[1;32m----> 1\u001b[1;33m \u001b[0mX\u001b[0m \u001b[1;33m+\u001b[0m \u001b[0mZ\u001b[0m\u001b[1;33m\u001b[0m\u001b[1;33m\u001b[0m\u001b[0m\n\u001b[0m",
      "\u001b[1;31mValueError\u001b[0m: operands could not be broadcast together with shapes (2,3) (2,) "
     ]
    }
   ],
   "source": [
    "X + Z"
   ]
  }
 ],
 "metadata": {
  "kernelspec": {
   "display_name": "Python 3 (ipykernel)",
   "language": "python",
   "name": "python3"
  },
  "language_info": {
   "codemirror_mode": {
    "name": "ipython",
    "version": 3
   },
   "file_extension": ".py",
   "mimetype": "text/x-python",
   "name": "python",
   "nbconvert_exporter": "python",
   "pygments_lexer": "ipython3",
   "version": "3.11.7"
  }
 },
 "nbformat": 4,
 "nbformat_minor": 4
}
